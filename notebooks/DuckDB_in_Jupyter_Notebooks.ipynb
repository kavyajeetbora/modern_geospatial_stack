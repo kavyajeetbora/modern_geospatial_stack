{
  "nbformat": 4,
  "nbformat_minor": 0,
  "metadata": {
    "colab": {
      "provenance": [],
      "include_colab_link": true
    },
    "kernelspec": {
      "name": "python3",
      "display_name": "Python 3"
    },
    "language_info": {
      "name": "python"
    }
  },
  "cells": [
    {
      "cell_type": "markdown",
      "metadata": {
        "id": "view-in-github",
        "colab_type": "text"
      },
      "source": [
        "<a href=\"https://colab.research.google.com/github/kavyajeetbora/modern_geospatial_stack/blob/master/notebooks/DuckDB_in_Jupyter_Notebooks.ipynb\" target=\"_parent\"><img src=\"https://colab.research.google.com/assets/colab-badge.svg\" alt=\"Open In Colab\"/></a>"
      ]
    },
    {
      "cell_type": "markdown",
      "source": [
        "# DuckDB in Jupyter Notebooks\n",
        "A streamlined workflow for SQL analysis with DuckDB and Jupyter"
      ],
      "metadata": {
        "id": "vQivFMys2vtz"
      }
    },
    {
      "cell_type": "markdown",
      "source": [
        "## Library Import and Configuration"
      ],
      "metadata": {
        "id": "TxtOOY905TG5"
      }
    },
    {
      "cell_type": "code",
      "execution_count": 9,
      "metadata": {
        "id": "cf49_HQa2o8h",
        "colab": {
          "base_uri": "https://localhost:8080/"
        },
        "outputId": "864cd0be-5da5-4132-c692-eff767a7846b"
      },
      "outputs": [
        {
          "output_type": "stream",
          "name": "stdout",
          "text": [
            "\u001b[2K     \u001b[90m━━━━━━━━━━━━━━━━━━━━━━━━━━━━━━━━━━━━━━━━\u001b[0m \u001b[32m107.2/107.2 kB\u001b[0m \u001b[31m3.6 MB/s\u001b[0m eta \u001b[36m0:00:00\u001b[0m\n",
            "\u001b[2K     \u001b[90m━━━━━━━━━━━━━━━━━━━━━━━━━━━━━━━━━━━━━━━━\u001b[0m \u001b[32m6.9/6.9 MB\u001b[0m \u001b[31m17.2 MB/s\u001b[0m eta \u001b[36m0:00:00\u001b[0m\n",
            "\u001b[?25h"
          ]
        }
      ],
      "source": [
        "!pip install --quiet duckdb\n",
        "!pip install --quiet jupysql\n",
        "!pip install --quiet duckdb-engine\n",
        "!pip install --quiet pandas\n",
        "!pip install --quiet matplotlib\n",
        "!pip install -q osmnx\n",
        "!pip install -q pydeck"
      ]
    },
    {
      "cell_type": "code",
      "source": [
        "import duckdb\n",
        "import pandas as pd\n",
        "import geopandas as gpd\n",
        "import shapely\n",
        "import osmnx as ox\n",
        "import pydeck as pdk\n",
        "# No need to import sqlalchemy or duckdb_engine\n",
        "#  JupySQL will use SQLAlchemy to auto-detect the driver needed based on your connection string!\n",
        "\n",
        "# Import jupysql Jupyter extension to create SQL cells\n",
        "%load_ext sql"
      ],
      "metadata": {
        "id": "MJHaFyq_3I_5",
        "colab": {
          "base_uri": "https://localhost:8080/"
        },
        "outputId": "9e0d15ae-54fb-4afa-bcd0-61287baea3d6"
      },
      "execution_count": 10,
      "outputs": [
        {
          "output_type": "stream",
          "name": "stdout",
          "text": [
            "The sql extension is already loaded. To reload it, use:\n",
            "  %reload_ext sql\n"
          ]
        }
      ]
    },
    {
      "cell_type": "markdown",
      "source": [
        "We configure jupysql to return data as a Pandas dataframe and have less verbose output"
      ],
      "metadata": {
        "id": "javkpysP6I0W"
      }
    },
    {
      "cell_type": "code",
      "source": [
        "%config SqlMagic.autopandas = True\n",
        "%config SqlMagic.feedback = False\n",
        "%config SqlMagic.displaycon = False"
      ],
      "metadata": {
        "id": "CvY8OgfV3ckB"
      },
      "execution_count": 3,
      "outputs": []
    },
    {
      "cell_type": "markdown",
      "source": [
        "## Connecting to DuckDB\n",
        "Connect jupysql to DuckDB using a SQLAlchemy-style connection string. You may either connect to an in memory DuckDB, or a file backed db."
      ],
      "metadata": {
        "id": "9Xq5eXmM5bUA"
      }
    },
    {
      "cell_type": "code",
      "source": [
        "%sql duckdb:///:memory:\n",
        "# %sql duckdb:///path/to/file.db"
      ],
      "metadata": {
        "id": "8NW45gk13eoY"
      },
      "execution_count": 4,
      "outputs": []
    },
    {
      "cell_type": "code",
      "source": [
        "%%sql\n",
        "INSTALL httpfs;\n",
        "INSTALL spatial;"
      ],
      "metadata": {
        "colab": {
          "base_uri": "https://localhost:8080/",
          "height": 53
        },
        "id": "N-bPaKAg3YqC",
        "outputId": "e131214d-4f3e-43c5-db40-1b636e5ea8ed"
      },
      "execution_count": 5,
      "outputs": [
        {
          "output_type": "execute_result",
          "data": {
            "text/plain": [
              "Empty DataFrame\n",
              "Columns: [Success]\n",
              "Index: []"
            ],
            "text/html": [
              "\n",
              "  <div id=\"df-68afc256-6d20-470f-90fd-269bb63e23ed\" class=\"colab-df-container\">\n",
              "    <div>\n",
              "<style scoped>\n",
              "    .dataframe tbody tr th:only-of-type {\n",
              "        vertical-align: middle;\n",
              "    }\n",
              "\n",
              "    .dataframe tbody tr th {\n",
              "        vertical-align: top;\n",
              "    }\n",
              "\n",
              "    .dataframe thead th {\n",
              "        text-align: right;\n",
              "    }\n",
              "</style>\n",
              "<table border=\"1\" class=\"dataframe\">\n",
              "  <thead>\n",
              "    <tr style=\"text-align: right;\">\n",
              "      <th></th>\n",
              "      <th>Success</th>\n",
              "    </tr>\n",
              "  </thead>\n",
              "  <tbody>\n",
              "  </tbody>\n",
              "</table>\n",
              "</div>\n",
              "    <div class=\"colab-df-buttons\">\n",
              "\n",
              "  <div class=\"colab-df-container\">\n",
              "    <button class=\"colab-df-convert\" onclick=\"convertToInteractive('df-68afc256-6d20-470f-90fd-269bb63e23ed')\"\n",
              "            title=\"Convert this dataframe to an interactive table.\"\n",
              "            style=\"display:none;\">\n",
              "\n",
              "  <svg xmlns=\"http://www.w3.org/2000/svg\" height=\"24px\" viewBox=\"0 -960 960 960\">\n",
              "    <path d=\"M120-120v-720h720v720H120Zm60-500h600v-160H180v160Zm220 220h160v-160H400v160Zm0 220h160v-160H400v160ZM180-400h160v-160H180v160Zm440 0h160v-160H620v160ZM180-180h160v-160H180v160Zm440 0h160v-160H620v160Z\"/>\n",
              "  </svg>\n",
              "    </button>\n",
              "\n",
              "  <style>\n",
              "    .colab-df-container {\n",
              "      display:flex;\n",
              "      gap: 12px;\n",
              "    }\n",
              "\n",
              "    .colab-df-convert {\n",
              "      background-color: #E8F0FE;\n",
              "      border: none;\n",
              "      border-radius: 50%;\n",
              "      cursor: pointer;\n",
              "      display: none;\n",
              "      fill: #1967D2;\n",
              "      height: 32px;\n",
              "      padding: 0 0 0 0;\n",
              "      width: 32px;\n",
              "    }\n",
              "\n",
              "    .colab-df-convert:hover {\n",
              "      background-color: #E2EBFA;\n",
              "      box-shadow: 0px 1px 2px rgba(60, 64, 67, 0.3), 0px 1px 3px 1px rgba(60, 64, 67, 0.15);\n",
              "      fill: #174EA6;\n",
              "    }\n",
              "\n",
              "    .colab-df-buttons div {\n",
              "      margin-bottom: 4px;\n",
              "    }\n",
              "\n",
              "    [theme=dark] .colab-df-convert {\n",
              "      background-color: #3B4455;\n",
              "      fill: #D2E3FC;\n",
              "    }\n",
              "\n",
              "    [theme=dark] .colab-df-convert:hover {\n",
              "      background-color: #434B5C;\n",
              "      box-shadow: 0px 1px 3px 1px rgba(0, 0, 0, 0.15);\n",
              "      filter: drop-shadow(0px 1px 2px rgba(0, 0, 0, 0.3));\n",
              "      fill: #FFFFFF;\n",
              "    }\n",
              "  </style>\n",
              "\n",
              "    <script>\n",
              "      const buttonEl =\n",
              "        document.querySelector('#df-68afc256-6d20-470f-90fd-269bb63e23ed button.colab-df-convert');\n",
              "      buttonEl.style.display =\n",
              "        google.colab.kernel.accessAllowed ? 'block' : 'none';\n",
              "\n",
              "      async function convertToInteractive(key) {\n",
              "        const element = document.querySelector('#df-68afc256-6d20-470f-90fd-269bb63e23ed');\n",
              "        const dataTable =\n",
              "          await google.colab.kernel.invokeFunction('convertToInteractive',\n",
              "                                                    [key], {});\n",
              "        if (!dataTable) return;\n",
              "\n",
              "        const docLinkHtml = 'Like what you see? Visit the ' +\n",
              "          '<a target=\"_blank\" href=https://colab.research.google.com/notebooks/data_table.ipynb>data table notebook</a>'\n",
              "          + ' to learn more about interactive tables.';\n",
              "        element.innerHTML = '';\n",
              "        dataTable['output_type'] = 'display_data';\n",
              "        await google.colab.output.renderOutput(dataTable, element);\n",
              "        const docLink = document.createElement('div');\n",
              "        docLink.innerHTML = docLinkHtml;\n",
              "        element.appendChild(docLink);\n",
              "      }\n",
              "    </script>\n",
              "  </div>\n",
              "\n",
              "\n",
              "    </div>\n",
              "  </div>\n"
            ],
            "application/vnd.google.colaboratory.intrinsic+json": {
              "type": "dataframe",
              "summary": "{\n  \"name\": \"get_ipython()\",\n  \"rows\": 0,\n  \"fields\": [\n    {\n      \"column\": \"Success\",\n      \"properties\": {\n        \"dtype\": \"boolean\",\n        \"num_unique_values\": 0,\n        \"samples\": [],\n        \"semantic_type\": \"\",\n        \"description\": \"\"\n      }\n    }\n  ]\n}"
            }
          },
          "metadata": {},
          "execution_count": 5
        }
      ]
    },
    {
      "cell_type": "markdown",
      "source": [
        "## Downloading Builings in small area"
      ],
      "metadata": {
        "id": "tiwBjgyca0dj"
      }
    },
    {
      "cell_type": "code",
      "source": [
        "W,S,E,N =  72.824548,19.19574,72.869386,19.231531"
      ],
      "metadata": {
        "id": "FnZ2Mck3e1qL"
      },
      "execution_count": 23,
      "outputs": []
    },
    {
      "cell_type": "code",
      "source": [
        "%%time\n",
        "\n",
        "%%sql\n",
        "LOAD spatial;\n",
        "LOAD httpfs;\n",
        "\n",
        "COPY (\n",
        "    SELECT\n",
        "        id,\n",
        "        level,\n",
        "        height,\n",
        "        ST_GeomFromWkb(geometry) AS geometry\n",
        "    FROM read_parquet('s3://overturemaps-us-west-2/release/2024-06-13-beta.0/theme=buildings/type=*/*', filename=true, hive_partitioning=1)\n",
        "    WHERE\n",
        "        bbox.xmin > 72.824548\n",
        "        AND bbox.xmax < 72.869386\n",
        "        AND bbox.ymin > 19.19574\n",
        "        AND bbox.ymax < 19.231531\n",
        ") TO 'buildings_mumbai.geojson'\n",
        "WITH (FORMAT GDAL, DRIVER 'GeoJSON', SRS 'EPSG:4326');"
      ],
      "metadata": {
        "id": "LDkZiqRla3nU"
      },
      "execution_count": null,
      "outputs": []
    },
    {
      "cell_type": "code",
      "source": [
        "def create_map(W,S,E,N, geojson_file=None):\n",
        "    bbox_geom = shapely.geometry.box(W,S,E,N)\n",
        "    boundary_json = eval(gpd.GeoSeries(bbox_geom).to_json())\n",
        "\n",
        "    boundary_layer = pdk.Layer(\n",
        "        \"GeoJsonLayer\",\n",
        "        boundary_json,\n",
        "        opacity=1,\n",
        "        stroked=True,\n",
        "        filled=False,\n",
        "        get_line_color=[100, 0, 0]\n",
        "    )\n",
        "    if geojson_file is not None:\n",
        "        layer = pdk.Layer(\n",
        "            \"GeoJsonLayer\",\n",
        "            geojson_file,\n",
        "            opacity=1,\n",
        "            stroked=True,\n",
        "            filled=True,\n",
        "            get_fill_color=[100, 200, 0],\n",
        "            get_line_color=[0,100,0],\n",
        "            pickable=True\n",
        "        )\n",
        "        layers = [boundary_layer, layer]\n",
        "    else:\n",
        "        layers = [boundary_layer]\n",
        "\n",
        "\n",
        "    C = bbox_geom.centroid\n",
        "    view_state = pdk.ViewState(latitude=C.y, longitude=C.x, zoom=11, bearing=0, pitch=45)\n",
        "    # Render\n",
        "\n",
        "    r = pdk.Deck(layers=layers, initial_view_state=view_state, tooltip = True)\n",
        "    return r"
      ],
      "metadata": {
        "id": "lKGmZ3hDgRmW"
      },
      "execution_count": 17,
      "outputs": []
    },
    {
      "cell_type": "code",
      "source": [
        "Map = create_map(W,S,E,N, geojson_file=\"buildings_mumbai.geojson\")\n",
        "Map"
      ],
      "metadata": {
        "id": "FDrEEkhkeN9-",
        "outputId": "2f55b81e-7ecc-45a8-83a8-b7af5aeb629a",
        "colab": {
          "resources": {
            "http://localhost:8080/buildings_mumbai.geojson": {
              "data": "CjwhRE9DVFlQRSBodG1sPgo8aHRtbCBsYW5nPWVuPgogIDxtZXRhIGNoYXJzZXQ9dXRmLTg+CiAgPG1ldGEgbmFtZT12aWV3cG9ydCBjb250ZW50PSJpbml0aWFsLXNjYWxlPTEsIG1pbmltdW0tc2NhbGU9MSwgd2lkdGg9ZGV2aWNlLXdpZHRoIj4KICA8dGl0bGU+RXJyb3IgNDA0IChOb3QgRm91bmQpISExPC90aXRsZT4KICA8c3R5bGU+CiAgICAqe21hcmdpbjowO3BhZGRpbmc6MH1odG1sLGNvZGV7Zm9udDoxNXB4LzIycHggYXJpYWwsc2Fucy1zZXJpZn1odG1se2JhY2tncm91bmQ6I2ZmZjtjb2xvcjojMjIyO3BhZGRpbmc6MTVweH1ib2R5e21hcmdpbjo3JSBhdXRvIDA7bWF4LXdpZHRoOjM5MHB4O21pbi1oZWlnaHQ6MTgwcHg7cGFkZGluZzozMHB4IDAgMTVweH0qID4gYm9keXtiYWNrZ3JvdW5kOnVybCgvL3d3dy5nb29nbGUuY29tL2ltYWdlcy9lcnJvcnMvcm9ib3QucG5nKSAxMDAlIDVweCBuby1yZXBlYXQ7cGFkZGluZy1yaWdodDoyMDVweH1we21hcmdpbjoxMXB4IDAgMjJweDtvdmVyZmxvdzpoaWRkZW59aW5ze2NvbG9yOiM3Nzc7dGV4dC1kZWNvcmF0aW9uOm5vbmV9YSBpbWd7Ym9yZGVyOjB9QG1lZGlhIHNjcmVlbiBhbmQgKG1heC13aWR0aDo3NzJweCl7Ym9keXtiYWNrZ3JvdW5kOm5vbmU7bWFyZ2luLXRvcDowO21heC13aWR0aDpub25lO3BhZGRpbmctcmlnaHQ6MH19I2xvZ297YmFja2dyb3VuZDp1cmwoLy93d3cuZ29vZ2xlLmNvbS9pbWFnZXMvbG9nb3MvZXJyb3JwYWdlL2Vycm9yX2xvZ28tMTUweDU0LnBuZykgbm8tcmVwZWF0O21hcmdpbi1sZWZ0Oi01cHh9QG1lZGlhIG9ubHkgc2NyZWVuIGFuZCAobWluLXJlc29sdXRpb246MTkyZHBpKXsjbG9nb3tiYWNrZ3JvdW5kOnVybCgvL3d3dy5nb29nbGUuY29tL2ltYWdlcy9sb2dvcy9lcnJvcnBhZ2UvZXJyb3JfbG9nby0xNTB4NTQtMngucG5nKSBuby1yZXBlYXQgMCUgMCUvMTAwJSAxMDAlOy1tb3otYm9yZGVyLWltYWdlOnVybCgvL3d3dy5nb29nbGUuY29tL2ltYWdlcy9sb2dvcy9lcnJvcnBhZ2UvZXJyb3JfbG9nby0xNTB4NTQtMngucG5nKSAwfX1AbWVkaWEgb25seSBzY3JlZW4gYW5kICgtd2Via2l0LW1pbi1kZXZpY2UtcGl4ZWwtcmF0aW86Mil7I2xvZ297YmFja2dyb3VuZDp1cmwoLy93d3cuZ29vZ2xlLmNvbS9pbWFnZXMvbG9nb3MvZXJyb3JwYWdlL2Vycm9yX2xvZ28tMTUweDU0LTJ4LnBuZykgbm8tcmVwZWF0Oy13ZWJraXQtYmFja2dyb3VuZC1zaXplOjEwMCUgMTAwJX19I2xvZ297ZGlzcGxheTppbmxpbmUtYmxvY2s7aGVpZ2h0OjU0cHg7d2lkdGg6MTUwcHh9CiAgPC9zdHlsZT4KICA8YSBocmVmPS8vd3d3Lmdvb2dsZS5jb20vPjxzcGFuIGlkPWxvZ28gYXJpYS1sYWJlbD1Hb29nbGU+PC9zcGFuPjwvYT4KICA8cD48Yj40MDQuPC9iPiA8aW5zPlRoYXTigJlzIGFuIGVycm9yLjwvaW5zPgogIDxwPiAgPGlucz5UaGF04oCZcyBhbGwgd2Uga25vdy48L2lucz4K",
              "ok": false,
              "headers": [
                [
                  "content-length",
                  "1449"
                ],
                [
                  "content-type",
                  "text/html; charset=utf-8"
                ]
              ],
              "status": 404,
              "status_text": ""
            }
          },
          "base_uri": "https://localhost:8080/",
          "height": 500
        }
      },
      "execution_count": 19,
      "outputs": [
        {
          "output_type": "display_data",
          "data": {
            "text/plain": [
              "<IPython.core.display.Javascript object>"
            ],
            "application/javascript": [
              "google.colab.output.setIframeHeight(500, true, {minHeight: 500, maxHeight: 500})"
            ]
          },
          "metadata": {}
        },
        {
          "output_type": "display_data",
          "data": {
            "text/plain": [
              "<IPython.core.display.HTML object>"
            ],
            "text/html": [
              "<!DOCTYPE html>\n",
              "<html>\n",
              "  <head>\n",
              "    <meta http-equiv=\"content-type\" content=\"text/html; charset=UTF-8\" />\n",
              "    <title>pydeck</title>\n",
              "        <script src=\"https://api.tiles.mapbox.com/mapbox-gl-js/v1.13.0/mapbox-gl.js\"></script>\n",
              "        <link rel=\"stylesheet\" href=\"https://maxcdn.bootstrapcdn.com/bootstrap/3.2.0/css/bootstrap-theme.min.css\" />\n",
              "    <link rel=\"stylesheet\" href=\"https://maxcdn.bootstrapcdn.com/font-awesome/4.6.3/css/font-awesome.min.css\" />\n",
              "    <script src='https://cdn.jsdelivr.net/npm/@deck.gl/jupyter-widget@~9.0.*/dist/index.js'></script>\n",
              "    <style>\n",
              "    body {\n",
              "  margin: 0;\n",
              "  padding: 0;\n",
              "  overflow: hidden;\n",
              "}\n",
              "\n",
              "#deck-container {\n",
              "  width: 100vw;\n",
              "  height: 100vh;\n",
              "}\n",
              "\n",
              "#deck-container canvas {\n",
              "  z-index: 1;\n",
              "  background: none;\n",
              "}\n",
              "    </style>\n",
              "  </head>\n",
              "  <body>\n",
              "    <div id=\"deck-container\">\n",
              "    </div>\n",
              "  </body>\n",
              "  <script>\n",
              "    const container = document.getElementById('deck-container');\n",
              "    const jsonInput = {\n",
              "  \"initialViewState\": {\n",
              "    \"bearing\": 0,\n",
              "    \"latitude\": 19.213635500000002,\n",
              "    \"longitude\": 72.846967,\n",
              "    \"pitch\": 45,\n",
              "    \"zoom\": 11\n",
              "  },\n",
              "  \"layers\": [\n",
              "    {\n",
              "      \"@@type\": \"GeoJsonLayer\",\n",
              "      \"data\": {\n",
              "        \"bbox\": [\n",
              "          72.824548,\n",
              "          19.19574,\n",
              "          72.869386,\n",
              "          19.231531\n",
              "        ],\n",
              "        \"features\": [\n",
              "          {\n",
              "            \"bbox\": [\n",
              "              72.824548,\n",
              "              19.19574,\n",
              "              72.869386,\n",
              "              19.231531\n",
              "            ],\n",
              "            \"geometry\": {\n",
              "              \"coordinates\": [\n",
              "                [\n",
              "                  [\n",
              "                    72.869386,\n",
              "                    19.231531\n",
              "                  ],\n",
              "                  [\n",
              "                    72.869386,\n",
              "                    19.19574\n",
              "                  ],\n",
              "                  [\n",
              "                    72.824548,\n",
              "                    19.19574\n",
              "                  ],\n",
              "                  [\n",
              "                    72.824548,\n",
              "                    19.231531\n",
              "                  ],\n",
              "                  [\n",
              "                    72.869386,\n",
              "                    19.231531\n",
              "                  ]\n",
              "                ]\n",
              "              ],\n",
              "              \"type\": \"Polygon\"\n",
              "            },\n",
              "            \"id\": \"0\",\n",
              "            \"properties\": {},\n",
              "            \"type\": \"Feature\"\n",
              "          }\n",
              "        ],\n",
              "        \"type\": \"FeatureCollection\"\n",
              "      },\n",
              "      \"filled\": false,\n",
              "      \"getLineColor\": [\n",
              "        100,\n",
              "        0,\n",
              "        0\n",
              "      ],\n",
              "      \"id\": \"1b09cbab-8f72-4b33-a0eb-b9a5cb204b12\",\n",
              "      \"opacity\": 1,\n",
              "      \"stroked\": true\n",
              "    },\n",
              "    {\n",
              "      \"@@type\": \"GeoJsonLayer\",\n",
              "      \"data\": \"buildings_mumbai.geojson\",\n",
              "      \"filled\": true,\n",
              "      \"getFillColor\": [\n",
              "        100,\n",
              "        200,\n",
              "        0\n",
              "      ],\n",
              "      \"getLineColor\": [\n",
              "        0,\n",
              "        100,\n",
              "        0\n",
              "      ],\n",
              "      \"id\": \"343767f2-a3b4-4761-87f9-bf6784512113\",\n",
              "      \"opacity\": 1,\n",
              "      \"pickable\": true,\n",
              "      \"stroked\": true\n",
              "    }\n",
              "  ],\n",
              "  \"mapProvider\": \"carto\",\n",
              "  \"mapStyle\": \"https://basemaps.cartocdn.com/gl/dark-matter-gl-style/style.json\",\n",
              "  \"views\": [\n",
              "    {\n",
              "      \"@@type\": \"MapView\",\n",
              "      \"controller\": true\n",
              "    }\n",
              "  ]\n",
              "};\n",
              "    const tooltip = true;\n",
              "    const customLibraries = null;\n",
              "    const configuration = null;\n",
              "\n",
              "    const deckInstance = createDeck({\n",
              "                  container,\n",
              "      jsonInput,\n",
              "      tooltip,\n",
              "      customLibraries,\n",
              "      configuration\n",
              "    });\n",
              "\n",
              "  </script>\n",
              "</html>"
            ]
          },
          "metadata": {}
        },
        {
          "output_type": "execute_result",
          "data": {
            "text/plain": [
              "{\n",
              "  \"initialViewState\": {\n",
              "    \"bearing\": 0,\n",
              "    \"latitude\": 19.213635500000002,\n",
              "    \"longitude\": 72.846967,\n",
              "    \"pitch\": 45,\n",
              "    \"zoom\": 11\n",
              "  },\n",
              "  \"layers\": [\n",
              "    {\n",
              "      \"@@type\": \"GeoJsonLayer\",\n",
              "      \"data\": {\n",
              "        \"bbox\": [\n",
              "          72.824548,\n",
              "          19.19574,\n",
              "          72.869386,\n",
              "          19.231531\n",
              "        ],\n",
              "        \"features\": [\n",
              "          {\n",
              "            \"bbox\": [\n",
              "              72.824548,\n",
              "              19.19574,\n",
              "              72.869386,\n",
              "              19.231531\n",
              "            ],\n",
              "            \"geometry\": {\n",
              "              \"coordinates\": [\n",
              "                [\n",
              "                  [\n",
              "                    72.869386,\n",
              "                    19.231531\n",
              "                  ],\n",
              "                  [\n",
              "                    72.869386,\n",
              "                    19.19574\n",
              "                  ],\n",
              "                  [\n",
              "                    72.824548,\n",
              "                    19.19574\n",
              "                  ],\n",
              "                  [\n",
              "                    72.824548,\n",
              "                    19.231531\n",
              "                  ],\n",
              "                  [\n",
              "                    72.869386,\n",
              "                    19.231531\n",
              "                  ]\n",
              "                ]\n",
              "              ],\n",
              "              \"type\": \"Polygon\"\n",
              "            },\n",
              "            \"id\": \"0\",\n",
              "            \"properties\": {},\n",
              "            \"type\": \"Feature\"\n",
              "          }\n",
              "        ],\n",
              "        \"type\": \"FeatureCollection\"\n",
              "      },\n",
              "      \"filled\": false,\n",
              "      \"getLineColor\": [\n",
              "        100,\n",
              "        0,\n",
              "        0\n",
              "      ],\n",
              "      \"id\": \"1b09cbab-8f72-4b33-a0eb-b9a5cb204b12\",\n",
              "      \"opacity\": 1,\n",
              "      \"stroked\": true\n",
              "    },\n",
              "    {\n",
              "      \"@@type\": \"GeoJsonLayer\",\n",
              "      \"data\": \"buildings_mumbai.geojson\",\n",
              "      \"filled\": true,\n",
              "      \"getFillColor\": [\n",
              "        100,\n",
              "        200,\n",
              "        0\n",
              "      ],\n",
              "      \"getLineColor\": [\n",
              "        0,\n",
              "        100,\n",
              "        0\n",
              "      ],\n",
              "      \"id\": \"343767f2-a3b4-4761-87f9-bf6784512113\",\n",
              "      \"opacity\": 1,\n",
              "      \"pickable\": true,\n",
              "      \"stroked\": true\n",
              "    }\n",
              "  ],\n",
              "  \"mapProvider\": \"carto\",\n",
              "  \"mapStyle\": \"https://basemaps.cartocdn.com/gl/dark-matter-gl-style/style.json\",\n",
              "  \"views\": [\n",
              "    {\n",
              "      \"@@type\": \"MapView\",\n",
              "      \"controller\": true\n",
              "    }\n",
              "  ]\n",
              "}"
            ],
            "text/html": []
          },
          "metadata": {},
          "execution_count": 19
        }
      ]
    }
  ]
}