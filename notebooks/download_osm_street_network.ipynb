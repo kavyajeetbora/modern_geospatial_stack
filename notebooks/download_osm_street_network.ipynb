{
  "nbformat": 4,
  "nbformat_minor": 0,
  "metadata": {
    "colab": {
      "provenance": [],
      "authorship_tag": "ABX9TyPiykC0/7WY0925qad7dpjR",
      "include_colab_link": true
    },
    "kernelspec": {
      "name": "python3",
      "display_name": "Python 3"
    },
    "language_info": {
      "name": "python"
    }
  },
  "cells": [
    {
      "cell_type": "markdown",
      "metadata": {
        "id": "view-in-github",
        "colab_type": "text"
      },
      "source": [
        "<a href=\"https://colab.research.google.com/github/kavyajeetbora/modern_geospatial_stack/blob/master/notebooks/download_osm_street_network.ipynb\" target=\"_parent\"><img src=\"https://colab.research.google.com/assets/colab-badge.svg\" alt=\"Open In Colab\"/></a>"
      ]
    },
    {
      "cell_type": "markdown",
      "source": [
        "## Installing and loading dependencies"
      ],
      "metadata": {
        "id": "BM61e_In_tsX"
      }
    },
    {
      "cell_type": "code",
      "execution_count": 1,
      "metadata": {
        "id": "GQKLrZgI6kEV",
        "colab": {
          "base_uri": "https://localhost:8080/"
        },
        "outputId": "ab91e9d5-180a-4c56-8b07-3c6e8ab461ad"
      },
      "outputs": [
        {
          "output_type": "stream",
          "name": "stdout",
          "text": [
            "\u001b[2K     \u001b[90m━━━━━━━━━━━━━━━━━━━━━━━━━━━━━━━━━━━━━━━━\u001b[0m \u001b[32m107.2/107.2 kB\u001b[0m \u001b[31m1.6 MB/s\u001b[0m eta \u001b[36m0:00:00\u001b[0m\n",
            "\u001b[2K     \u001b[90m━━━━━━━━━━━━━━━━━━━━━━━━━━━━━━━━━━━━━━━━\u001b[0m \u001b[32m1.2/1.2 MB\u001b[0m \u001b[31m11.2 MB/s\u001b[0m eta \u001b[36m0:00:00\u001b[0m\n",
            "\u001b[2K     \u001b[90m━━━━━━━━━━━━━━━━━━━━━━━━━━━━━━━━━━━━━━━━\u001b[0m \u001b[32m2.0/2.0 MB\u001b[0m \u001b[31m11.3 MB/s\u001b[0m eta \u001b[36m0:00:00\u001b[0m\n",
            "\u001b[?25h"
          ]
        }
      ],
      "source": [
        "!pip install -q osmnx\n",
        "!pip install -q h3\n",
        "!pip install -q pandana"
      ]
    },
    {
      "cell_type": "code",
      "source": [
        "import geopandas as gpd\n",
        "import pandas as pd\n",
        "import osmnx as ox\n",
        "import shapely\n",
        "from lxml import etree\n",
        "import h3\n",
        "import pandana as pdna\n",
        "from glob import glob\n",
        "import os"
      ],
      "metadata": {
        "id": "dCZFidgPBI_R"
      },
      "execution_count": 2,
      "outputs": []
    },
    {
      "cell_type": "markdown",
      "source": [
        "## Downloading the osmnx network using bbox\n",
        "\n",
        "To draw the bounding box (bbox) you can use this [tool](https://bboxfinder.com/)\n",
        "and this [Bounding Box Tool](https://boundingbox.klokantech.com/)\n",
        "\n",
        "- North = ymax\n",
        "- South = ymin\n",
        "- East = xmax\n",
        "- West = xmin"
      ],
      "metadata": {
        "id": "yAJxrK10-nCi"
      }
    },
    {
      "cell_type": "code",
      "source": [
        "from pandana.loaders import osm"
      ],
      "metadata": {
        "id": "LjQblw_ech-o"
      },
      "execution_count": 3,
      "outputs": []
    },
    {
      "cell_type": "code",
      "source": [
        "## Note: the coordinates are in West, South, East, North format\n",
        "\n",
        "bboxs = {\n",
        "    'Mumbai': (72.7712628039,18.8895552464,73.0912396106,19.322318006),\n",
        "    'Hyderabad': (78.2288393192,17.1952635128,78.692325037,17.6244114807),\n",
        "    'Bangalore': (77.4480254838,12.815481916,77.7549560258,13.1026335949),\n",
        "    'Chennai': (80.0337033915,12.8678089117,80.335827415,13.2370438819),\n",
        "    'Kolkata': (88.2431406976,22.4883995072,88.4944529534,22.7071046611),\n",
        "    'Ahmedabad': (72.4617185823,22.9179551449,72.699297928,23.1470216925)\n",
        "}"
      ],
      "metadata": {
        "id": "obE19VMf723H"
      },
      "execution_count": 11,
      "outputs": []
    },
    {
      "cell_type": "code",
      "source": [
        "%%time\n",
        "city = 'Bangalore'\n",
        "W,S,E,N = bboxs[city]\n",
        "ox_network = ox.graph.graph_from_bbox(bbox=(N,S,E,W), network_type='all', simplify=True, retain_all=False, truncate_by_edge=False, clean_periphery=None, custom_filter=None)"
      ],
      "metadata": {
        "colab": {
          "base_uri": "https://localhost:8080/"
        },
        "id": "4drHRKAy97IU",
        "outputId": "194ca445-3eda-44e8-e51a-e8cac31c0290"
      },
      "execution_count": 17,
      "outputs": [
        {
          "output_type": "stream",
          "name": "stdout",
          "text": [
            "CPU times: user 4min 20s, sys: 3.93 s, total: 4min 24s\n",
            "Wall time: 4min 38s\n"
          ]
        }
      ]
    },
    {
      "cell_type": "markdown",
      "source": [
        "How to load pandana network from OSM:\n",
        "https://udst.github.io/pandana/loaders.html"
      ],
      "metadata": {
        "id": "-I54mH2mdysu"
      }
    },
    {
      "cell_type": "code",
      "source": [
        "%%time\n",
        "## Convert the osmx.Graph Object to geopandas\n",
        "nodes, edges = ox.convert.graph_to_gdfs(ox_network, nodes=True, edges=True) #node_geometry=True, fill_edge_geometry=True\n",
        "edges = edges.reset_index()"
      ],
      "metadata": {
        "colab": {
          "base_uri": "https://localhost:8080/"
        },
        "id": "Vm2kNAMcc3uE",
        "outputId": "068bb95e-1460-4882-a900-839b82169475"
      },
      "execution_count": 18,
      "outputs": [
        {
          "output_type": "stream",
          "name": "stdout",
          "text": [
            "CPU times: user 1min 17s, sys: 1.94 s, total: 1min 19s\n",
            "Wall time: 1min 20s\n"
          ]
        }
      ]
    },
    {
      "cell_type": "markdown",
      "source": [
        "## Export the networks"
      ],
      "metadata": {
        "id": "5O5A2cBqXB8X"
      }
    },
    {
      "cell_type": "code",
      "source": [
        "%%time\n",
        "network = pdna.Network(nodes[\"x\"], nodes[\"y\"], edges[\"u\"], edges[\"v\"],edges[[\"length\"]])"
      ],
      "metadata": {
        "id": "KcD9g2ndksul",
        "outputId": "0b4f9550-8c9f-4eee-b974-84280b93ba0d",
        "colab": {
          "base_uri": "https://localhost:8080/"
        }
      },
      "execution_count": 19,
      "outputs": [
        {
          "output_type": "stream",
          "name": "stdout",
          "text": [
            "CPU times: user 48.7 s, sys: 406 ms, total: 49.2 s\n",
            "Wall time: 37.9 s\n"
          ]
        }
      ]
    },
    {
      "cell_type": "code",
      "source": [
        "network.save_hdf5(f'{city}_network.h5')"
      ],
      "metadata": {
        "id": "-EoDg231astc"
      },
      "execution_count": 20,
      "outputs": []
    },
    {
      "cell_type": "markdown",
      "source": [
        "## Read the exported network data"
      ],
      "metadata": {
        "id": "_VhybbdWeHKQ"
      }
    },
    {
      "cell_type": "code",
      "source": [
        "%%time\n",
        "network = pdna.Network.from_hdf5(f'{city}_network.h5')"
      ],
      "metadata": {
        "id": "GKZFtahMeKCt",
        "outputId": "1dd05cc1-3351-4fec-e1fd-c552e917ff38",
        "colab": {
          "base_uri": "https://localhost:8080/"
        }
      },
      "execution_count": 21,
      "outputs": [
        {
          "output_type": "stream",
          "name": "stdout",
          "text": [
            "CPU times: user 46 s, sys: 398 ms, total: 46.4 s\n",
            "Wall time: 35 s\n"
          ]
        }
      ]
    },
    {
      "cell_type": "markdown",
      "source": [
        "## Read KMZ files\n",
        "\n",
        "The metro stations and lines are in KML format. We need to convert it to a gdf for further analysis"
      ],
      "metadata": {
        "id": "jO9twnLfmDn2"
      }
    },
    {
      "cell_type": "code",
      "source": [
        "!wget https://raw.githubusercontent.com/kavyajeetbora/modern_geospatial_stack/master/data/delhi-metro-lines.kml -q -O delhi-metro-lines.kml\n",
        "!wget https://raw.githubusercontent.com/kavyajeetbora/modern_geospatial_stack/master/data/Delhi%20Metro%20Phase%201-4%20Route%20Map%20-%20By%20Line.kml -q -O delhi-metro-stations.kml"
      ],
      "metadata": {
        "id": "GQF3LnaNlTMf",
        "outputId": "5fce25e4-4e6f-4755-a1b7-77e231911393",
        "colab": {
          "base_uri": "https://localhost:8080/",
          "height": 17
        }
      },
      "execution_count": null,
      "outputs": [
        {
          "output_type": "display_data",
          "data": {
            "text/plain": [
              "<IPython.core.display.HTML object>"
            ],
            "text/html": [
              "\n",
              "            <style>\n",
              "                .geemap-dark {\n",
              "                    --jp-widgets-color: white;\n",
              "                    --jp-widgets-label-color: white;\n",
              "                    --jp-ui-font-color1: white;\n",
              "                    --jp-layout-color2: #454545;\n",
              "                    background-color: #383838;\n",
              "                }\n",
              "\n",
              "                .geemap-dark .jupyter-button {\n",
              "                    --jp-layout-color3: #383838;\n",
              "                }\n",
              "\n",
              "                .geemap-colab {\n",
              "                    background-color: var(--colab-primary-surface-color, white);\n",
              "                }\n",
              "\n",
              "                .geemap-colab .jupyter-button {\n",
              "                    --jp-layout-color3: var(--colab-primary-surface-color, white);\n",
              "                }\n",
              "            </style>\n",
              "            "
            ]
          },
          "metadata": {}
        }
      ]
    },
    {
      "cell_type": "code",
      "source": [
        "# Load the KML file\n",
        "tree = etree.parse('delhi-metro-stations.kml')\n",
        "tree"
      ],
      "metadata": {
        "colab": {
          "base_uri": "https://localhost:8080/",
          "height": 35
        },
        "id": "jRgDDmyga7gU",
        "outputId": "46f655bb-12ca-4834-ec39-434d6d35beda"
      },
      "execution_count": null,
      "outputs": [
        {
          "output_type": "display_data",
          "data": {
            "text/plain": [
              "<IPython.core.display.HTML object>"
            ],
            "text/html": [
              "\n",
              "            <style>\n",
              "                .geemap-dark {\n",
              "                    --jp-widgets-color: white;\n",
              "                    --jp-widgets-label-color: white;\n",
              "                    --jp-ui-font-color1: white;\n",
              "                    --jp-layout-color2: #454545;\n",
              "                    background-color: #383838;\n",
              "                }\n",
              "\n",
              "                .geemap-dark .jupyter-button {\n",
              "                    --jp-layout-color3: #383838;\n",
              "                }\n",
              "\n",
              "                .geemap-colab {\n",
              "                    background-color: var(--colab-primary-surface-color, white);\n",
              "                }\n",
              "\n",
              "                .geemap-colab .jupyter-button {\n",
              "                    --jp-layout-color3: var(--colab-primary-surface-color, white);\n",
              "                }\n",
              "            </style>\n",
              "            "
            ]
          },
          "metadata": {}
        },
        {
          "output_type": "execute_result",
          "data": {
            "text/plain": [
              "<lxml.etree._ElementTree at 0x7e6b23182f40>"
            ]
          },
          "metadata": {},
          "execution_count": 14
        }
      ]
    },
    {
      "cell_type": "markdown",
      "source": [
        "Read the exported"
      ],
      "metadata": {
        "id": "BDd4oZQtd9_e"
      }
    },
    {
      "cell_type": "code",
      "source": [
        "data = []\n",
        "lines = []\n",
        "folders = tree.findall('.//{http://www.opengis.net/kml/2.2}Folder')\n",
        "for folder in folders:\n",
        "    placemarks = tree.findall('.//{http://www.opengis.net/kml/2.2}Placemark')\n",
        "    for placemark in placemarks:\n",
        "        point_element = placemark.find('.//{http://www.opengis.net/kml/2.2}Point')\n",
        "        line_element = placemark.find('.//{http://www.opengis.net/kml/2.2}LineString')\n",
        "\n",
        "        name = placemark.find('.//{http://www.opengis.net/kml/2.2}name').text.replace(\"\\xa0\", \" \").strip()\n",
        "        phase = folder.find('.//{http://www.opengis.net/kml/2.2}name').text.replace(\"\\xa0\", \" \").strip()\n",
        "\n",
        "        if point_element:\n",
        "            coordinates = eval(point_element.find('.//{http://www.opengis.net/kml/2.2}coordinates').text)\n",
        "            x,y = coordinates[:2]\n",
        "\n",
        "            geometry = shapely.geometry.Point(x,y)\n",
        "            data.append([name, phase, geometry])\n",
        "\n",
        "        if line_element:\n",
        "            line_coordinates = line_element.find('.//{http://www.opengis.net/kml/2.2}coordinates').text\n",
        "            geometry = shapely.geometry.LineString([eval(x)[:2] for x in line_coordinates.strip().split(\" \")])\n",
        "            lines.append([name, phase, geometry])\n",
        "\n",
        "\n",
        "def route_name(name):\n",
        "    if \"-\" in name:\n",
        "        route_name = name.split(\"-\")[0].strip()\n",
        "    else:\n",
        "        route_name = name.split(\" \")[0].strip()\n",
        "    return route_name\n",
        "\n",
        "color_data = {\n",
        "    'Yellow': (255, 255, 0),\n",
        "    'Red': (255, 0, 0),\n",
        "    'Blue': (0, 0, 255),\n",
        "    'Green': (0, 128, 0),\n",
        "    'Violet': (148, 0, 211),\n",
        "    'Orange': (255, 165, 0),\n",
        "    'Green line': (0, 128, 0),\n",
        "    'Pink': (255, 192, 203),\n",
        "    'Grey': (128, 128, 128),\n",
        "    'Magenta': (255, 0, 255),\n",
        "    'Silver': (192, 192, 192),\n",
        "    \"Golden Line's Spur\": (218, 165, 32),\n",
        "    'New Line': (0,0,0)\n",
        "}"
      ],
      "metadata": {
        "colab": {
          "base_uri": "https://localhost:8080/",
          "height": 17
        },
        "id": "3mVaWdhpba3n",
        "outputId": "4a5ed1de-59f3-40b1-e73f-2ca2200b7098"
      },
      "execution_count": null,
      "outputs": [
        {
          "output_type": "display_data",
          "data": {
            "text/plain": [
              "<IPython.core.display.HTML object>"
            ],
            "text/html": [
              "\n",
              "            <style>\n",
              "                .geemap-dark {\n",
              "                    --jp-widgets-color: white;\n",
              "                    --jp-widgets-label-color: white;\n",
              "                    --jp-ui-font-color1: white;\n",
              "                    --jp-layout-color2: #454545;\n",
              "                    background-color: #383838;\n",
              "                }\n",
              "\n",
              "                .geemap-dark .jupyter-button {\n",
              "                    --jp-layout-color3: #383838;\n",
              "                }\n",
              "\n",
              "                .geemap-colab {\n",
              "                    background-color: var(--colab-primary-surface-color, white);\n",
              "                }\n",
              "\n",
              "                .geemap-colab .jupyter-button {\n",
              "                    --jp-layout-color3: var(--colab-primary-surface-color, white);\n",
              "                }\n",
              "            </style>\n",
              "            "
            ]
          },
          "metadata": {}
        }
      ]
    },
    {
      "cell_type": "markdown",
      "source": [
        "## Reference\n",
        "1. Uploading large files in github: https://git-lfs.com/"
      ],
      "metadata": {
        "id": "dYvs5nHLeCeI"
      }
    },
    {
      "cell_type": "code",
      "source": [
        "metro_stations = gpd.GeoDataFrame(data, geometry=\"geometry\", columns=['Name', \"Phase\", 'geometry'], crs='EPSG:4326')\n",
        "metro_stations.head()"
      ],
      "metadata": {
        "colab": {
          "base_uri": "https://localhost:8080/",
          "height": 206
        },
        "id": "Mo7WoLGigznL",
        "outputId": "65c37b87-1a46-49f2-ca28-2671be066f03"
      },
      "execution_count": null,
      "outputs": [
        {
          "output_type": "display_data",
          "data": {
            "text/plain": [
              "<IPython.core.display.HTML object>"
            ],
            "text/html": [
              "\n",
              "            <style>\n",
              "                .geemap-dark {\n",
              "                    --jp-widgets-color: white;\n",
              "                    --jp-widgets-label-color: white;\n",
              "                    --jp-ui-font-color1: white;\n",
              "                    --jp-layout-color2: #454545;\n",
              "                    background-color: #383838;\n",
              "                }\n",
              "\n",
              "                .geemap-dark .jupyter-button {\n",
              "                    --jp-layout-color3: #383838;\n",
              "                }\n",
              "\n",
              "                .geemap-colab {\n",
              "                    background-color: var(--colab-primary-surface-color, white);\n",
              "                }\n",
              "\n",
              "                .geemap-colab .jupyter-button {\n",
              "                    --jp-layout-color3: var(--colab-primary-surface-color, white);\n",
              "                }\n",
              "            </style>\n",
              "            "
            ]
          },
          "metadata": {}
        },
        {
          "output_type": "execute_result",
          "data": {
            "text/plain": [
              "                            Name              Phase                   geometry\n",
              "0              Yamuna Bank Depot  Phase 1 - 65.1 km  POINT (77.26441 28.62344)\n",
              "1                Najafgarh Depot  Phase 1 - 65.1 km  POINT (77.00586 28.61156)\n",
              "2                Sultanpur Depot  Phase 1 - 65.1 km  POINT (77.15345 28.49253)\n",
              "3                  Ajronda Depot  Phase 1 - 65.1 km  POINT (77.30950 28.39947)\n",
              "4  Sector 21 Depot (Airport Exp)  Phase 1 - 65.1 km  POINT (77.06606 28.56077)"
            ],
            "text/html": [
              "\n",
              "  <div id=\"df-42ace015-01d6-4e00-953c-5042613008ba\" class=\"colab-df-container\">\n",
              "    <div>\n",
              "<style scoped>\n",
              "    .dataframe tbody tr th:only-of-type {\n",
              "        vertical-align: middle;\n",
              "    }\n",
              "\n",
              "    .dataframe tbody tr th {\n",
              "        vertical-align: top;\n",
              "    }\n",
              "\n",
              "    .dataframe thead th {\n",
              "        text-align: right;\n",
              "    }\n",
              "</style>\n",
              "<table border=\"1\" class=\"dataframe\">\n",
              "  <thead>\n",
              "    <tr style=\"text-align: right;\">\n",
              "      <th></th>\n",
              "      <th>Name</th>\n",
              "      <th>Phase</th>\n",
              "      <th>geometry</th>\n",
              "    </tr>\n",
              "  </thead>\n",
              "  <tbody>\n",
              "    <tr>\n",
              "      <th>0</th>\n",
              "      <td>Yamuna Bank Depot</td>\n",
              "      <td>Phase 1 - 65.1 km</td>\n",
              "      <td>POINT (77.26441 28.62344)</td>\n",
              "    </tr>\n",
              "    <tr>\n",
              "      <th>1</th>\n",
              "      <td>Najafgarh Depot</td>\n",
              "      <td>Phase 1 - 65.1 km</td>\n",
              "      <td>POINT (77.00586 28.61156)</td>\n",
              "    </tr>\n",
              "    <tr>\n",
              "      <th>2</th>\n",
              "      <td>Sultanpur Depot</td>\n",
              "      <td>Phase 1 - 65.1 km</td>\n",
              "      <td>POINT (77.15345 28.49253)</td>\n",
              "    </tr>\n",
              "    <tr>\n",
              "      <th>3</th>\n",
              "      <td>Ajronda Depot</td>\n",
              "      <td>Phase 1 - 65.1 km</td>\n",
              "      <td>POINT (77.30950 28.39947)</td>\n",
              "    </tr>\n",
              "    <tr>\n",
              "      <th>4</th>\n",
              "      <td>Sector 21 Depot (Airport Exp)</td>\n",
              "      <td>Phase 1 - 65.1 km</td>\n",
              "      <td>POINT (77.06606 28.56077)</td>\n",
              "    </tr>\n",
              "  </tbody>\n",
              "</table>\n",
              "</div>\n",
              "    <div class=\"colab-df-buttons\">\n",
              "\n",
              "  <div class=\"colab-df-container\">\n",
              "    <button class=\"colab-df-convert\" onclick=\"convertToInteractive('df-42ace015-01d6-4e00-953c-5042613008ba')\"\n",
              "            title=\"Convert this dataframe to an interactive table.\"\n",
              "            style=\"display:none;\">\n",
              "\n",
              "  <svg xmlns=\"http://www.w3.org/2000/svg\" height=\"24px\" viewBox=\"0 -960 960 960\">\n",
              "    <path d=\"M120-120v-720h720v720H120Zm60-500h600v-160H180v160Zm220 220h160v-160H400v160Zm0 220h160v-160H400v160ZM180-400h160v-160H180v160Zm440 0h160v-160H620v160ZM180-180h160v-160H180v160Zm440 0h160v-160H620v160Z\"/>\n",
              "  </svg>\n",
              "    </button>\n",
              "\n",
              "  <style>\n",
              "    .colab-df-container {\n",
              "      display:flex;\n",
              "      gap: 12px;\n",
              "    }\n",
              "\n",
              "    .colab-df-convert {\n",
              "      background-color: #E8F0FE;\n",
              "      border: none;\n",
              "      border-radius: 50%;\n",
              "      cursor: pointer;\n",
              "      display: none;\n",
              "      fill: #1967D2;\n",
              "      height: 32px;\n",
              "      padding: 0 0 0 0;\n",
              "      width: 32px;\n",
              "    }\n",
              "\n",
              "    .colab-df-convert:hover {\n",
              "      background-color: #E2EBFA;\n",
              "      box-shadow: 0px 1px 2px rgba(60, 64, 67, 0.3), 0px 1px 3px 1px rgba(60, 64, 67, 0.15);\n",
              "      fill: #174EA6;\n",
              "    }\n",
              "\n",
              "    .colab-df-buttons div {\n",
              "      margin-bottom: 4px;\n",
              "    }\n",
              "\n",
              "    [theme=dark] .colab-df-convert {\n",
              "      background-color: #3B4455;\n",
              "      fill: #D2E3FC;\n",
              "    }\n",
              "\n",
              "    [theme=dark] .colab-df-convert:hover {\n",
              "      background-color: #434B5C;\n",
              "      box-shadow: 0px 1px 3px 1px rgba(0, 0, 0, 0.15);\n",
              "      filter: drop-shadow(0px 1px 2px rgba(0, 0, 0, 0.3));\n",
              "      fill: #FFFFFF;\n",
              "    }\n",
              "  </style>\n",
              "\n",
              "    <script>\n",
              "      const buttonEl =\n",
              "        document.querySelector('#df-42ace015-01d6-4e00-953c-5042613008ba button.colab-df-convert');\n",
              "      buttonEl.style.display =\n",
              "        google.colab.kernel.accessAllowed ? 'block' : 'none';\n",
              "\n",
              "      async function convertToInteractive(key) {\n",
              "        const element = document.querySelector('#df-42ace015-01d6-4e00-953c-5042613008ba');\n",
              "        const dataTable =\n",
              "          await google.colab.kernel.invokeFunction('convertToInteractive',\n",
              "                                                    [key], {});\n",
              "        if (!dataTable) return;\n",
              "\n",
              "        const docLinkHtml = 'Like what you see? Visit the ' +\n",
              "          '<a target=\"_blank\" href=https://colab.research.google.com/notebooks/data_table.ipynb>data table notebook</a>'\n",
              "          + ' to learn more about interactive tables.';\n",
              "        element.innerHTML = '';\n",
              "        dataTable['output_type'] = 'display_data';\n",
              "        await google.colab.output.renderOutput(dataTable, element);\n",
              "        const docLink = document.createElement('div');\n",
              "        docLink.innerHTML = docLinkHtml;\n",
              "        element.appendChild(docLink);\n",
              "      }\n",
              "    </script>\n",
              "  </div>\n",
              "\n",
              "\n",
              "<div id=\"df-67edf348-2e3a-472b-aa27-b6baed6958c9\">\n",
              "  <button class=\"colab-df-quickchart\" onclick=\"quickchart('df-67edf348-2e3a-472b-aa27-b6baed6958c9')\"\n",
              "            title=\"Suggest charts\"\n",
              "            style=\"display:none;\">\n",
              "\n",
              "<svg xmlns=\"http://www.w3.org/2000/svg\" height=\"24px\"viewBox=\"0 0 24 24\"\n",
              "     width=\"24px\">\n",
              "    <g>\n",
              "        <path d=\"M19 3H5c-1.1 0-2 .9-2 2v14c0 1.1.9 2 2 2h14c1.1 0 2-.9 2-2V5c0-1.1-.9-2-2-2zM9 17H7v-7h2v7zm4 0h-2V7h2v10zm4 0h-2v-4h2v4z\"/>\n",
              "    </g>\n",
              "</svg>\n",
              "  </button>\n",
              "\n",
              "<style>\n",
              "  .colab-df-quickchart {\n",
              "      --bg-color: #E8F0FE;\n",
              "      --fill-color: #1967D2;\n",
              "      --hover-bg-color: #E2EBFA;\n",
              "      --hover-fill-color: #174EA6;\n",
              "      --disabled-fill-color: #AAA;\n",
              "      --disabled-bg-color: #DDD;\n",
              "  }\n",
              "\n",
              "  [theme=dark] .colab-df-quickchart {\n",
              "      --bg-color: #3B4455;\n",
              "      --fill-color: #D2E3FC;\n",
              "      --hover-bg-color: #434B5C;\n",
              "      --hover-fill-color: #FFFFFF;\n",
              "      --disabled-bg-color: #3B4455;\n",
              "      --disabled-fill-color: #666;\n",
              "  }\n",
              "\n",
              "  .colab-df-quickchart {\n",
              "    background-color: var(--bg-color);\n",
              "    border: none;\n",
              "    border-radius: 50%;\n",
              "    cursor: pointer;\n",
              "    display: none;\n",
              "    fill: var(--fill-color);\n",
              "    height: 32px;\n",
              "    padding: 0;\n",
              "    width: 32px;\n",
              "  }\n",
              "\n",
              "  .colab-df-quickchart:hover {\n",
              "    background-color: var(--hover-bg-color);\n",
              "    box-shadow: 0 1px 2px rgba(60, 64, 67, 0.3), 0 1px 3px 1px rgba(60, 64, 67, 0.15);\n",
              "    fill: var(--button-hover-fill-color);\n",
              "  }\n",
              "\n",
              "  .colab-df-quickchart-complete:disabled,\n",
              "  .colab-df-quickchart-complete:disabled:hover {\n",
              "    background-color: var(--disabled-bg-color);\n",
              "    fill: var(--disabled-fill-color);\n",
              "    box-shadow: none;\n",
              "  }\n",
              "\n",
              "  .colab-df-spinner {\n",
              "    border: 2px solid var(--fill-color);\n",
              "    border-color: transparent;\n",
              "    border-bottom-color: var(--fill-color);\n",
              "    animation:\n",
              "      spin 1s steps(1) infinite;\n",
              "  }\n",
              "\n",
              "  @keyframes spin {\n",
              "    0% {\n",
              "      border-color: transparent;\n",
              "      border-bottom-color: var(--fill-color);\n",
              "      border-left-color: var(--fill-color);\n",
              "    }\n",
              "    20% {\n",
              "      border-color: transparent;\n",
              "      border-left-color: var(--fill-color);\n",
              "      border-top-color: var(--fill-color);\n",
              "    }\n",
              "    30% {\n",
              "      border-color: transparent;\n",
              "      border-left-color: var(--fill-color);\n",
              "      border-top-color: var(--fill-color);\n",
              "      border-right-color: var(--fill-color);\n",
              "    }\n",
              "    40% {\n",
              "      border-color: transparent;\n",
              "      border-right-color: var(--fill-color);\n",
              "      border-top-color: var(--fill-color);\n",
              "    }\n",
              "    60% {\n",
              "      border-color: transparent;\n",
              "      border-right-color: var(--fill-color);\n",
              "    }\n",
              "    80% {\n",
              "      border-color: transparent;\n",
              "      border-right-color: var(--fill-color);\n",
              "      border-bottom-color: var(--fill-color);\n",
              "    }\n",
              "    90% {\n",
              "      border-color: transparent;\n",
              "      border-bottom-color: var(--fill-color);\n",
              "    }\n",
              "  }\n",
              "</style>\n",
              "\n",
              "  <script>\n",
              "    async function quickchart(key) {\n",
              "      const quickchartButtonEl =\n",
              "        document.querySelector('#' + key + ' button');\n",
              "      quickchartButtonEl.disabled = true;  // To prevent multiple clicks.\n",
              "      quickchartButtonEl.classList.add('colab-df-spinner');\n",
              "      try {\n",
              "        const charts = await google.colab.kernel.invokeFunction(\n",
              "            'suggestCharts', [key], {});\n",
              "      } catch (error) {\n",
              "        console.error('Error during call to suggestCharts:', error);\n",
              "      }\n",
              "      quickchartButtonEl.classList.remove('colab-df-spinner');\n",
              "      quickchartButtonEl.classList.add('colab-df-quickchart-complete');\n",
              "    }\n",
              "    (() => {\n",
              "      let quickchartButtonEl =\n",
              "        document.querySelector('#df-67edf348-2e3a-472b-aa27-b6baed6958c9 button');\n",
              "      quickchartButtonEl.style.display =\n",
              "        google.colab.kernel.accessAllowed ? 'block' : 'none';\n",
              "    })();\n",
              "  </script>\n",
              "</div>\n",
              "\n",
              "    </div>\n",
              "  </div>\n"
            ],
            "application/vnd.google.colaboratory.intrinsic+json": {
              "type": "dataframe",
              "variable_name": "metro_stations",
              "summary": "{\n  \"name\": \"metro_stations\",\n  \"rows\": 3380,\n  \"fields\": [\n    {\n      \"column\": \"Name\",\n      \"properties\": {\n        \"dtype\": \"category\",\n        \"num_unique_values\": 336,\n        \"samples\": [\n          \"AIIMS Station\",\n          \"Patel Nagar Station\",\n          \"Bawana JJ Colony Station\"\n        ],\n        \"semantic_type\": \"\",\n        \"description\": \"\"\n      }\n    },\n    {\n      \"column\": \"Phase\",\n      \"properties\": {\n        \"dtype\": \"category\",\n        \"num_unique_values\": 10,\n        \"samples\": [\n          \"Phase 4 Stations\",\n          \"Phase 2 - 124.93 km\",\n          \"Phase 1-3 Depots & Ramps\"\n        ],\n        \"semantic_type\": \"\",\n        \"description\": \"\"\n      }\n    },\n    {\n      \"column\": \"geometry\",\n      \"properties\": {\n        \"dtype\": \"geometry\",\n        \"num_unique_values\": 338,\n        \"samples\": [\n          \"POINT (77.169267 28.645063)\",\n          \"POINT (77.2226105 28.5236064)\",\n          \"POINT (77.373501 28.616728)\"\n        ],\n        \"semantic_type\": \"\",\n        \"description\": \"\"\n      }\n    }\n  ]\n}"
            }
          },
          "metadata": {},
          "execution_count": 40
        }
      ]
    },
    {
      "cell_type": "markdown",
      "source": [
        "### Colormapping the metro lines"
      ],
      "metadata": {
        "id": "WUQxA55FEnd2"
      }
    },
    {
      "cell_type": "code",
      "source": [
        "metro_lines['Name'].apply(route_name)"
      ],
      "metadata": {
        "colab": {
          "base_uri": "https://localhost:8080/",
          "height": 236
        },
        "id": "RaKgXjWaubf_",
        "outputId": "c03936a5-606b-458b-beec-387c55609b6b"
      },
      "execution_count": null,
      "outputs": [
        {
          "output_type": "display_data",
          "data": {
            "text/plain": [
              "<IPython.core.display.HTML object>"
            ],
            "text/html": [
              "\n",
              "            <style>\n",
              "                .geemap-dark {\n",
              "                    --jp-widgets-color: white;\n",
              "                    --jp-widgets-label-color: white;\n",
              "                    --jp-ui-font-color1: white;\n",
              "                    --jp-layout-color2: #454545;\n",
              "                    background-color: #383838;\n",
              "                }\n",
              "\n",
              "                .geemap-dark .jupyter-button {\n",
              "                    --jp-layout-color3: #383838;\n",
              "                }\n",
              "\n",
              "                .geemap-colab {\n",
              "                    background-color: var(--colab-primary-surface-color, white);\n",
              "                }\n",
              "\n",
              "                .geemap-colab .jupyter-button {\n",
              "                    --jp-layout-color3: var(--colab-primary-surface-color, white);\n",
              "                }\n",
              "            </style>\n",
              "            "
            ]
          },
          "metadata": {}
        },
        {
          "output_type": "execute_result",
          "data": {
            "text/plain": [
              "0                  Yellow\n",
              "1                     Red\n",
              "2                    Blue\n",
              "3                     Red\n",
              "4                  Yellow\n",
              "              ...        \n",
              "315                   Red\n",
              "316                  Blue\n",
              "317    Golden Line's Spur\n",
              "318                  Blue\n",
              "319              New Line\n",
              "Name: Name, Length: 320, dtype: object"
            ]
          },
          "metadata": {},
          "execution_count": 38
        }
      ]
    },
    {
      "cell_type": "code",
      "source": [
        "metro_lines = gpd.GeoDataFrame(lines, geometry=\"geometry\", columns=['Name', \"Phase\", 'geometry'], crs='EPSG:4326')\n",
        "metro_lines['color'] = metro_lines['Name'].apply(route_name).apply(lambda x: color_data[x])\n",
        "metro_lines['path'] = metro_lines['geometry'].apply(lambda x: list(x.coords))\n",
        "metro_lines['display_text'] = metro_lines[['Name', 'Phase']].apply(lambda x: f\"Metro Route: {x[0]}<br>Phase: {x[1]}\", axis=1)\n",
        "metro_lines.sample(5)"
      ],
      "metadata": {
        "colab": {
          "base_uri": "https://localhost:8080/",
          "height": 293
        },
        "id": "v7KCkMnwCLdr",
        "outputId": "58c208b9-777a-456d-cd80-f6c7401989a3"
      },
      "execution_count": null,
      "outputs": [
        {
          "output_type": "display_data",
          "data": {
            "text/plain": [
              "<IPython.core.display.HTML object>"
            ],
            "text/html": [
              "\n",
              "            <style>\n",
              "                .geemap-dark {\n",
              "                    --jp-widgets-color: white;\n",
              "                    --jp-widgets-label-color: white;\n",
              "                    --jp-ui-font-color1: white;\n",
              "                    --jp-layout-color2: #454545;\n",
              "                    background-color: #383838;\n",
              "                }\n",
              "\n",
              "                .geemap-dark .jupyter-button {\n",
              "                    --jp-layout-color3: #383838;\n",
              "                }\n",
              "\n",
              "                .geemap-colab {\n",
              "                    background-color: var(--colab-primary-surface-color, white);\n",
              "                }\n",
              "\n",
              "                .geemap-colab .jupyter-button {\n",
              "                    --jp-layout-color3: var(--colab-primary-surface-color, white);\n",
              "                }\n",
              "            </style>\n",
              "            "
            ]
          },
          "metadata": {}
        },
        {
          "output_type": "execute_result",
          "data": {
            "text/plain": [
              "                              Name                             Phase  \\\n",
              "34                  Blue (32.1 km)               Phase 2 - 124.93 km   \n",
              "201  Green - Kirti Nagar (3.31 km)              Phase 1 & 2 Stations   \n",
              "269      Red - Ghaziabad (9.41 km)                  Phase 4 Stations   \n",
              "193                    Red (22 km)              Phase 1 & 2 Stations   \n",
              "155       Red - Nathupur (4.86 km)  Phase 4 (Lines Pending Approval)   \n",
              "\n",
              "                                              geometry        color  \\\n",
              "34   LINESTRING (77.25320 28.62020, 77.25200 28.620...  (0, 0, 255)   \n",
              "201  LINESTRING (77.15703 28.67131, 77.15868 28.670...  (0, 128, 0)   \n",
              "269  LINESTRING (77.32251 28.67590, 77.33218 28.676...  (255, 0, 0)   \n",
              "193  LINESTRING (77.10234 28.72449, 77.11116 28.717...  (255, 0, 0)   \n",
              "155  LINESTRING (77.09785 28.85452, 77.09785 28.856...  (255, 0, 0)   \n",
              "\n",
              "                                                  path  \\\n",
              "34   [(77.2531986, 28.6202029), (77.251997, 28.6201...   \n",
              "201  [(77.1570307, 28.671311), (77.1586803, 28.6709...   \n",
              "269  [(77.3225069, 28.6759045), (77.332184, 28.6765...   \n",
              "193  [(77.1023404, 28.7244921), (77.1111629, 28.717...   \n",
              "155  [(77.097845, 28.854522), (77.0978504, 28.85626...   \n",
              "\n",
              "                                          display_text  \n",
              "34   Metro Route: Blue (32.1 km)<br>Phase: Phase 2 ...  \n",
              "201  Metro Route: Green - Kirti Nagar (3.31 km)<br>...  \n",
              "269  Metro Route: Red - Ghaziabad (9.41 km)<br>Phas...  \n",
              "193  Metro Route: Red (22 km)<br>Phase: Phase 1 & 2...  \n",
              "155  Metro Route: Red - Nathupur (4.86 km)<br>Phase...  "
            ],
            "text/html": [
              "\n",
              "  <div id=\"df-31611042-cdc2-47cd-a76e-408ef3e00cb4\" class=\"colab-df-container\">\n",
              "    <div>\n",
              "<style scoped>\n",
              "    .dataframe tbody tr th:only-of-type {\n",
              "        vertical-align: middle;\n",
              "    }\n",
              "\n",
              "    .dataframe tbody tr th {\n",
              "        vertical-align: top;\n",
              "    }\n",
              "\n",
              "    .dataframe thead th {\n",
              "        text-align: right;\n",
              "    }\n",
              "</style>\n",
              "<table border=\"1\" class=\"dataframe\">\n",
              "  <thead>\n",
              "    <tr style=\"text-align: right;\">\n",
              "      <th></th>\n",
              "      <th>Name</th>\n",
              "      <th>Phase</th>\n",
              "      <th>geometry</th>\n",
              "      <th>color</th>\n",
              "      <th>path</th>\n",
              "      <th>display_text</th>\n",
              "    </tr>\n",
              "  </thead>\n",
              "  <tbody>\n",
              "    <tr>\n",
              "      <th>34</th>\n",
              "      <td>Blue (32.1 km)</td>\n",
              "      <td>Phase 2 - 124.93 km</td>\n",
              "      <td>LINESTRING (77.25320 28.62020, 77.25200 28.620...</td>\n",
              "      <td>(0, 0, 255)</td>\n",
              "      <td>[(77.2531986, 28.6202029), (77.251997, 28.6201...</td>\n",
              "      <td>Metro Route: Blue (32.1 km)&lt;br&gt;Phase: Phase 2 ...</td>\n",
              "    </tr>\n",
              "    <tr>\n",
              "      <th>201</th>\n",
              "      <td>Green - Kirti Nagar (3.31 km)</td>\n",
              "      <td>Phase 1 &amp; 2 Stations</td>\n",
              "      <td>LINESTRING (77.15703 28.67131, 77.15868 28.670...</td>\n",
              "      <td>(0, 128, 0)</td>\n",
              "      <td>[(77.1570307, 28.671311), (77.1586803, 28.6709...</td>\n",
              "      <td>Metro Route: Green - Kirti Nagar (3.31 km)&lt;br&gt;...</td>\n",
              "    </tr>\n",
              "    <tr>\n",
              "      <th>269</th>\n",
              "      <td>Red - Ghaziabad (9.41 km)</td>\n",
              "      <td>Phase 4 Stations</td>\n",
              "      <td>LINESTRING (77.32251 28.67590, 77.33218 28.676...</td>\n",
              "      <td>(255, 0, 0)</td>\n",
              "      <td>[(77.3225069, 28.6759045), (77.332184, 28.6765...</td>\n",
              "      <td>Metro Route: Red - Ghaziabad (9.41 km)&lt;br&gt;Phas...</td>\n",
              "    </tr>\n",
              "    <tr>\n",
              "      <th>193</th>\n",
              "      <td>Red (22 km)</td>\n",
              "      <td>Phase 1 &amp; 2 Stations</td>\n",
              "      <td>LINESTRING (77.10234 28.72449, 77.11116 28.717...</td>\n",
              "      <td>(255, 0, 0)</td>\n",
              "      <td>[(77.1023404, 28.7244921), (77.1111629, 28.717...</td>\n",
              "      <td>Metro Route: Red (22 km)&lt;br&gt;Phase: Phase 1 &amp; 2...</td>\n",
              "    </tr>\n",
              "    <tr>\n",
              "      <th>155</th>\n",
              "      <td>Red - Nathupur (4.86 km)</td>\n",
              "      <td>Phase 4 (Lines Pending Approval)</td>\n",
              "      <td>LINESTRING (77.09785 28.85452, 77.09785 28.856...</td>\n",
              "      <td>(255, 0, 0)</td>\n",
              "      <td>[(77.097845, 28.854522), (77.0978504, 28.85626...</td>\n",
              "      <td>Metro Route: Red - Nathupur (4.86 km)&lt;br&gt;Phase...</td>\n",
              "    </tr>\n",
              "  </tbody>\n",
              "</table>\n",
              "</div>\n",
              "    <div class=\"colab-df-buttons\">\n",
              "\n",
              "  <div class=\"colab-df-container\">\n",
              "    <button class=\"colab-df-convert\" onclick=\"convertToInteractive('df-31611042-cdc2-47cd-a76e-408ef3e00cb4')\"\n",
              "            title=\"Convert this dataframe to an interactive table.\"\n",
              "            style=\"display:none;\">\n",
              "\n",
              "  <svg xmlns=\"http://www.w3.org/2000/svg\" height=\"24px\" viewBox=\"0 -960 960 960\">\n",
              "    <path d=\"M120-120v-720h720v720H120Zm60-500h600v-160H180v160Zm220 220h160v-160H400v160Zm0 220h160v-160H400v160ZM180-400h160v-160H180v160Zm440 0h160v-160H620v160ZM180-180h160v-160H180v160Zm440 0h160v-160H620v160Z\"/>\n",
              "  </svg>\n",
              "    </button>\n",
              "\n",
              "  <style>\n",
              "    .colab-df-container {\n",
              "      display:flex;\n",
              "      gap: 12px;\n",
              "    }\n",
              "\n",
              "    .colab-df-convert {\n",
              "      background-color: #E8F0FE;\n",
              "      border: none;\n",
              "      border-radius: 50%;\n",
              "      cursor: pointer;\n",
              "      display: none;\n",
              "      fill: #1967D2;\n",
              "      height: 32px;\n",
              "      padding: 0 0 0 0;\n",
              "      width: 32px;\n",
              "    }\n",
              "\n",
              "    .colab-df-convert:hover {\n",
              "      background-color: #E2EBFA;\n",
              "      box-shadow: 0px 1px 2px rgba(60, 64, 67, 0.3), 0px 1px 3px 1px rgba(60, 64, 67, 0.15);\n",
              "      fill: #174EA6;\n",
              "    }\n",
              "\n",
              "    .colab-df-buttons div {\n",
              "      margin-bottom: 4px;\n",
              "    }\n",
              "\n",
              "    [theme=dark] .colab-df-convert {\n",
              "      background-color: #3B4455;\n",
              "      fill: #D2E3FC;\n",
              "    }\n",
              "\n",
              "    [theme=dark] .colab-df-convert:hover {\n",
              "      background-color: #434B5C;\n",
              "      box-shadow: 0px 1px 3px 1px rgba(0, 0, 0, 0.15);\n",
              "      filter: drop-shadow(0px 1px 2px rgba(0, 0, 0, 0.3));\n",
              "      fill: #FFFFFF;\n",
              "    }\n",
              "  </style>\n",
              "\n",
              "    <script>\n",
              "      const buttonEl =\n",
              "        document.querySelector('#df-31611042-cdc2-47cd-a76e-408ef3e00cb4 button.colab-df-convert');\n",
              "      buttonEl.style.display =\n",
              "        google.colab.kernel.accessAllowed ? 'block' : 'none';\n",
              "\n",
              "      async function convertToInteractive(key) {\n",
              "        const element = document.querySelector('#df-31611042-cdc2-47cd-a76e-408ef3e00cb4');\n",
              "        const dataTable =\n",
              "          await google.colab.kernel.invokeFunction('convertToInteractive',\n",
              "                                                    [key], {});\n",
              "        if (!dataTable) return;\n",
              "\n",
              "        const docLinkHtml = 'Like what you see? Visit the ' +\n",
              "          '<a target=\"_blank\" href=https://colab.research.google.com/notebooks/data_table.ipynb>data table notebook</a>'\n",
              "          + ' to learn more about interactive tables.';\n",
              "        element.innerHTML = '';\n",
              "        dataTable['output_type'] = 'display_data';\n",
              "        await google.colab.output.renderOutput(dataTable, element);\n",
              "        const docLink = document.createElement('div');\n",
              "        docLink.innerHTML = docLinkHtml;\n",
              "        element.appendChild(docLink);\n",
              "      }\n",
              "    </script>\n",
              "  </div>\n",
              "\n",
              "\n",
              "<div id=\"df-44ce9fd4-e406-4390-9da9-15c781fd5f18\">\n",
              "  <button class=\"colab-df-quickchart\" onclick=\"quickchart('df-44ce9fd4-e406-4390-9da9-15c781fd5f18')\"\n",
              "            title=\"Suggest charts\"\n",
              "            style=\"display:none;\">\n",
              "\n",
              "<svg xmlns=\"http://www.w3.org/2000/svg\" height=\"24px\"viewBox=\"0 0 24 24\"\n",
              "     width=\"24px\">\n",
              "    <g>\n",
              "        <path d=\"M19 3H5c-1.1 0-2 .9-2 2v14c0 1.1.9 2 2 2h14c1.1 0 2-.9 2-2V5c0-1.1-.9-2-2-2zM9 17H7v-7h2v7zm4 0h-2V7h2v10zm4 0h-2v-4h2v4z\"/>\n",
              "    </g>\n",
              "</svg>\n",
              "  </button>\n",
              "\n",
              "<style>\n",
              "  .colab-df-quickchart {\n",
              "      --bg-color: #E8F0FE;\n",
              "      --fill-color: #1967D2;\n",
              "      --hover-bg-color: #E2EBFA;\n",
              "      --hover-fill-color: #174EA6;\n",
              "      --disabled-fill-color: #AAA;\n",
              "      --disabled-bg-color: #DDD;\n",
              "  }\n",
              "\n",
              "  [theme=dark] .colab-df-quickchart {\n",
              "      --bg-color: #3B4455;\n",
              "      --fill-color: #D2E3FC;\n",
              "      --hover-bg-color: #434B5C;\n",
              "      --hover-fill-color: #FFFFFF;\n",
              "      --disabled-bg-color: #3B4455;\n",
              "      --disabled-fill-color: #666;\n",
              "  }\n",
              "\n",
              "  .colab-df-quickchart {\n",
              "    background-color: var(--bg-color);\n",
              "    border: none;\n",
              "    border-radius: 50%;\n",
              "    cursor: pointer;\n",
              "    display: none;\n",
              "    fill: var(--fill-color);\n",
              "    height: 32px;\n",
              "    padding: 0;\n",
              "    width: 32px;\n",
              "  }\n",
              "\n",
              "  .colab-df-quickchart:hover {\n",
              "    background-color: var(--hover-bg-color);\n",
              "    box-shadow: 0 1px 2px rgba(60, 64, 67, 0.3), 0 1px 3px 1px rgba(60, 64, 67, 0.15);\n",
              "    fill: var(--button-hover-fill-color);\n",
              "  }\n",
              "\n",
              "  .colab-df-quickchart-complete:disabled,\n",
              "  .colab-df-quickchart-complete:disabled:hover {\n",
              "    background-color: var(--disabled-bg-color);\n",
              "    fill: var(--disabled-fill-color);\n",
              "    box-shadow: none;\n",
              "  }\n",
              "\n",
              "  .colab-df-spinner {\n",
              "    border: 2px solid var(--fill-color);\n",
              "    border-color: transparent;\n",
              "    border-bottom-color: var(--fill-color);\n",
              "    animation:\n",
              "      spin 1s steps(1) infinite;\n",
              "  }\n",
              "\n",
              "  @keyframes spin {\n",
              "    0% {\n",
              "      border-color: transparent;\n",
              "      border-bottom-color: var(--fill-color);\n",
              "      border-left-color: var(--fill-color);\n",
              "    }\n",
              "    20% {\n",
              "      border-color: transparent;\n",
              "      border-left-color: var(--fill-color);\n",
              "      border-top-color: var(--fill-color);\n",
              "    }\n",
              "    30% {\n",
              "      border-color: transparent;\n",
              "      border-left-color: var(--fill-color);\n",
              "      border-top-color: var(--fill-color);\n",
              "      border-right-color: var(--fill-color);\n",
              "    }\n",
              "    40% {\n",
              "      border-color: transparent;\n",
              "      border-right-color: var(--fill-color);\n",
              "      border-top-color: var(--fill-color);\n",
              "    }\n",
              "    60% {\n",
              "      border-color: transparent;\n",
              "      border-right-color: var(--fill-color);\n",
              "    }\n",
              "    80% {\n",
              "      border-color: transparent;\n",
              "      border-right-color: var(--fill-color);\n",
              "      border-bottom-color: var(--fill-color);\n",
              "    }\n",
              "    90% {\n",
              "      border-color: transparent;\n",
              "      border-bottom-color: var(--fill-color);\n",
              "    }\n",
              "  }\n",
              "</style>\n",
              "\n",
              "  <script>\n",
              "    async function quickchart(key) {\n",
              "      const quickchartButtonEl =\n",
              "        document.querySelector('#' + key + ' button');\n",
              "      quickchartButtonEl.disabled = true;  // To prevent multiple clicks.\n",
              "      quickchartButtonEl.classList.add('colab-df-spinner');\n",
              "      try {\n",
              "        const charts = await google.colab.kernel.invokeFunction(\n",
              "            'suggestCharts', [key], {});\n",
              "      } catch (error) {\n",
              "        console.error('Error during call to suggestCharts:', error);\n",
              "      }\n",
              "      quickchartButtonEl.classList.remove('colab-df-spinner');\n",
              "      quickchartButtonEl.classList.add('colab-df-quickchart-complete');\n",
              "    }\n",
              "    (() => {\n",
              "      let quickchartButtonEl =\n",
              "        document.querySelector('#df-44ce9fd4-e406-4390-9da9-15c781fd5f18 button');\n",
              "      quickchartButtonEl.style.display =\n",
              "        google.colab.kernel.accessAllowed ? 'block' : 'none';\n",
              "    })();\n",
              "  </script>\n",
              "</div>\n",
              "\n",
              "    </div>\n",
              "  </div>\n"
            ],
            "application/vnd.google.colaboratory.intrinsic+json": {
              "type": "dataframe",
              "summary": "{\n  \"name\": \"metro_lines\",\n  \"rows\": 5,\n  \"fields\": [\n    {\n      \"column\": \"Name\",\n      \"properties\": {\n        \"dtype\": \"string\",\n        \"num_unique_values\": 5,\n        \"samples\": [\n          \"Green - Kirti Nagar (3.31 km)\",\n          \"Red - Nathupur (4.86 km)\",\n          \"Red - Ghaziabad (9.41 km)\"\n        ],\n        \"semantic_type\": \"\",\n        \"description\": \"\"\n      }\n    },\n    {\n      \"column\": \"Phase\",\n      \"properties\": {\n        \"dtype\": \"string\",\n        \"num_unique_values\": 4,\n        \"samples\": [\n          \"Phase 1 & 2 Stations\",\n          \"Phase 4 (Lines Pending Approval)\",\n          \"Phase 2 - 124.93 km\"\n        ],\n        \"semantic_type\": \"\",\n        \"description\": \"\"\n      }\n    },\n    {\n      \"column\": \"geometry\",\n      \"properties\": {\n        \"dtype\": \"geometry\",\n        \"num_unique_values\": 5,\n        \"samples\": [\n          \"LINESTRING (77.1570307 28.671311, 77.1586803 28.6709438, 77.160181 28.670412, 77.1612955 28.6699177, 77.1624032 28.6694706, 77.1630442 28.6691717, 77.1634278 28.6689375, 77.1638489 28.6685716, 77.1640447 28.6682597, 77.1642512 28.667882, 77.1643478 28.66743719999999, 77.1643719 28.6669053, 77.1643337 28.6666935, 77.1642633 28.66645350000001, 77.1639642 28.6658628, 77.1637442 28.6655992, 77.163417 28.6653357, 77.16298520000001 28.6650603, 77.1623307 28.6647591, 77.1617299 28.66449720000001, 77.1612739 28.6642307, 77.1598578 28.6634293, 77.1584228 28.6625974, 77.1570254 28.6616806, 77.1566173 28.6613911, 77.1563058 28.6611063, 77.1557741 28.6605415, 77.1545067 28.659167, 77.1543253 28.6589504, 77.1541707 28.658748, 77.1539636 28.6583197, 77.1531844 28.6569451, 77.1496868 28.65245430000001)\",\n          \"LINESTRING (77.097845 28.854522, 77.0978504 28.8562698, 77.0978773 28.8575196, 77.0978665 28.8591827, 77.0977592 28.8597089, 77.097593 28.8601505, 77.0971691 28.8608036, 77.0967722 28.8612218, 77.0960427 28.8616915, 77.0950985 28.8623399, 77.0948303 28.8625936, 77.0947122 28.8628167, 77.0946479 28.8630493, 77.094605 28.8633358, 77.094605 28.8641298, 77.0949268 28.880191, 77.0949697 28.8824832, 77.0955491 28.8918019, 77.0955599 28.8921495, 77.0954419 28.8925534, 77.0953185 28.8927788, 77.09512 28.8930794, 77.0948786 28.8934504, 77.0947203 28.8937182, 77.0946264 28.8940375, 77.0940471 28.896724)\",\n          \"LINESTRING (77.3225069 28.6759045, 77.332184 28.676585, 77.3782539 28.6784648, 77.3819876 28.6785402, 77.3859787 28.6782389, 77.3960638 28.6757162, 77.4014928 28.67415400000001, 77.4052801 28.6730715, 77.4140453 28.67085899999999, 77.4163199 28.6700119, 77.4181438 28.6691364, 77.4203539 28.6677338)\"\n        ],\n        \"semantic_type\": \"\",\n        \"description\": \"\"\n      }\n    },\n    {\n      \"column\": \"color\",\n      \"properties\": {\n        \"dtype\": \"string\",\n        \"num_unique_values\": 3,\n        \"samples\": [\n          [\n            0,\n            0,\n            255\n          ],\n          [\n            0,\n            128,\n            0\n          ],\n          [\n            255,\n            0,\n            0\n          ]\n        ],\n        \"semantic_type\": \"\",\n        \"description\": \"\"\n      }\n    },\n    {\n      \"column\": \"path\",\n      \"properties\": {\n        \"dtype\": \"object\",\n        \"semantic_type\": \"\",\n        \"description\": \"\"\n      }\n    },\n    {\n      \"column\": \"display_text\",\n      \"properties\": {\n        \"dtype\": \"string\",\n        \"num_unique_values\": 5,\n        \"samples\": [\n          \"Metro Route: Green - Kirti Nagar (3.31 km)<br>Phase: Phase 1 & 2 Stations\",\n          \"Metro Route: Red - Nathupur (4.86 km)<br>Phase: Phase 4 (Lines Pending Approval)\",\n          \"Metro Route: Red - Ghaziabad (9.41 km)<br>Phase: Phase 4 Stations\"\n        ],\n        \"semantic_type\": \"\",\n        \"description\": \"\"\n      }\n    }\n  ]\n}"
            }
          },
          "metadata": {},
          "execution_count": 127
        }
      ]
    },
    {
      "cell_type": "markdown",
      "source": [
        "## Calculate the accessibility"
      ],
      "metadata": {
        "id": "kFhiw8uHpRLC"
      }
    },
    {
      "cell_type": "code",
      "source": [
        "%%time\n",
        "# initialize each amenity category with the locations (lon/lat coordinates)\n",
        "\n",
        "max_distance=25000 ## in meters\n",
        "num_pois = 1\n",
        "\n",
        "category = 'metro_stations'\n",
        "network.set_pois(category=category, maxdist = max_distance, maxitems=num_pois, x_col=metro_stations['geometry'].x, y_col=metro_stations['geometry'].y)\n",
        "accessibility = network.nearest_pois(distance = max_distance, category=category, num_pois=num_pois)"
      ],
      "metadata": {
        "id": "jsx2l-bxpT6O"
      },
      "execution_count": null,
      "outputs": []
    }
  ]
}