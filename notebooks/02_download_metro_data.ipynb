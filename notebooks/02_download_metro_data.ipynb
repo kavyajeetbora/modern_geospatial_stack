{
  "nbformat": 4,
  "nbformat_minor": 0,
  "metadata": {
    "colab": {
      "provenance": [],
      "authorship_tag": "ABX9TyNM0c4Z2bveYA9lCwMTM8sS",
      "include_colab_link": true
    },
    "kernelspec": {
      "name": "python3",
      "display_name": "Python 3"
    },
    "language_info": {
      "name": "python"
    }
  },
  "cells": [
    {
      "cell_type": "markdown",
      "metadata": {
        "id": "view-in-github",
        "colab_type": "text"
      },
      "source": [
        "<a href=\"https://colab.research.google.com/github/kavyajeetbora/modern_geospatial_stack/blob/master/notebooks/02_download_metro_data.ipynb\" target=\"_parent\"><img src=\"https://colab.research.google.com/assets/colab-badge.svg\" alt=\"Open In Colab\"/></a>"
      ]
    },
    {
      "cell_type": "markdown",
      "source": [
        "TODO:\n",
        "\n",
        "1. Evaluate the downloaded data from https://themetrorailguy.com/\n",
        "2. Once evaluated, export it to parquet format"
      ],
      "metadata": {
        "id": "HhDFxdOgB2t8"
      }
    },
    {
      "cell_type": "markdown",
      "source": [
        "## Install Dependencies and Import Modules"
      ],
      "metadata": {
        "id": "sEOxI_qEByLK"
      }
    },
    {
      "cell_type": "code",
      "execution_count": 1,
      "metadata": {
        "colab": {
          "base_uri": "https://localhost:8080/"
        },
        "id": "cd3YTLE3nZpx",
        "outputId": "a33881ae-c02a-482b-f528-692b344d0bf5"
      },
      "outputs": [
        {
          "output_type": "stream",
          "name": "stdout",
          "text": [
            "\u001b[?25l     \u001b[90m━━━━━━━━━━━━━━━━━━━━━━━━━━━━━━━━━━━━━━━━\u001b[0m \u001b[32m0.0/107.2 kB\u001b[0m \u001b[31m?\u001b[0m eta \u001b[36m-:--:--\u001b[0m\r\u001b[2K     \u001b[91m━━━━━━━━━━━━━━━━━━━━━━━━━━━━━━━━━━━━━━\u001b[0m\u001b[90m╺\u001b[0m\u001b[90m━\u001b[0m \u001b[32m102.4/107.2 kB\u001b[0m \u001b[31m3.5 MB/s\u001b[0m eta \u001b[36m0:00:01\u001b[0m\r\u001b[2K     \u001b[90m━━━━━━━━━━━━━━━━━━━━━━━━━━━━━━━━━━━━━━━━\u001b[0m \u001b[32m107.2/107.2 kB\u001b[0m \u001b[31m2.4 MB/s\u001b[0m eta \u001b[36m0:00:00\u001b[0m\n",
            "\u001b[?25h"
          ]
        }
      ],
      "source": [
        "!pip install -q osmnx"
      ]
    },
    {
      "cell_type": "code",
      "source": [
        "import geopandas as gpd\n",
        "import pandas as pd\n",
        "import osmnx as ox\n",
        "from tqdm import tqdm"
      ],
      "metadata": {
        "id": "864mJ-01nj5A"
      },
      "execution_count": 2,
      "outputs": []
    },
    {
      "cell_type": "markdown",
      "source": [
        "## Download OSM Data"
      ],
      "metadata": {
        "id": "WUbcfygUnpj-"
      }
    },
    {
      "cell_type": "code",
      "source": [
        "## Note: the coordinates are in West, South, East, North format\n",
        "\n",
        "bboxs = {\n",
        "    'Mumbai': (72.7712628039,18.8895552464,73.0912396106,19.322318006),\n",
        "    'Hyderabad': (78.2288393192,17.1952635128,78.692325037,17.6244114807),\n",
        "    'Bangalore': (77.4480254838,12.815481916,77.7549560258,13.1026335949),\n",
        "    'Chennai': (80.0337033915,12.8678089117,80.335827415,13.2370438819),\n",
        "    'Kolkata': (88.2431406976,22.4883995072,88.4944529534,22.7071046611),\n",
        "    'Ahmedabad': (72.4617185823,22.9179551449,72.699297928,23.1470216925),\n",
        "    'Delhi_NCR': (76.881197,28.31444,77.604922,28.893765)\n",
        "}\n",
        "\n",
        "columns = ['element_type', 'osmid', 'geometry', 'railway', 'internet_access',\n",
        "       'name', 'name:hi', 'network', 'operator', 'public_transport',\n",
        "       'ref', 'train','city']"
      ],
      "metadata": {
        "id": "pT3xmL4xnoO8"
      },
      "execution_count": 4,
      "outputs": []
    },
    {
      "cell_type": "code",
      "source": [
        "\n",
        "%%time\n",
        "W,S,E,N = bboxs['Ahmedabad']\n",
        "public_transport = ox.features.features_from_bbox(bbox=(N,S,E,W), tags={'railway':True}).reset_index()\n",
        "public_transport.head()"
      ],
      "metadata": {
        "id": "2WaLVCHqssWI",
        "outputId": "caf90547-3ab3-4414-e07c-192e9eda7c33",
        "colab": {
          "base_uri": "https://localhost:8080/",
          "height": 464
        }
      },
      "execution_count": 7,
      "outputs": [
        {
          "output_type": "stream",
          "name": "stdout",
          "text": [
            "CPU times: user 411 ms, sys: 2.58 ms, total: 414 ms\n",
            "Wall time: 415 ms\n"
          ]
        },
        {
          "output_type": "execute_result",
          "data": {
            "text/plain": [
              "  element_type      osmid         railway                   geometry  \\\n",
              "0         node  322770837  level_crossing  POINT (72.60274 23.03853)   \n",
              "1         node  322770856         station  POINT (72.65809 23.08541)   \n",
              "2         node  322866991  level_crossing  POINT (72.65445 22.91810)   \n",
              "3         node  322867002  level_crossing  POINT (72.63159 22.95405)   \n",
              "4         node  322983248  level_crossing  POINT (72.56178 23.05775)   \n",
              "\n",
              "  passenger_lines internet_access    name network operator public_transport  \\\n",
              "0               1             NaN     NaN     NaN      NaN              NaN   \n",
              "1             NaN              no  Naroda      IR       WR          station   \n",
              "2             NaN             NaN     NaN     NaN      NaN              NaN   \n",
              "3             NaN             NaN     NaN     NaN      NaN              NaN   \n",
              "4             NaN             NaN     NaN     NaN      NaN              NaN   \n",
              "\n",
              "   ... building operator:wikidata operator:wikipedia information tourism  \\\n",
              "0  ...      NaN               NaN                NaN         NaN     NaN   \n",
              "1  ...      NaN               NaN                NaN         NaN     NaN   \n",
              "2  ...      NaN               NaN                NaN         NaN     NaN   \n",
              "3  ...      NaN               NaN                NaN         NaN     NaN   \n",
              "4  ...      NaN               NaN                NaN         NaN     NaN   \n",
              "\n",
              "  wheelchair opening_date network:wikidata air_conditioning  ele  \n",
              "0        NaN          NaN              NaN              NaN  NaN  \n",
              "1        NaN          NaN              NaN              NaN  NaN  \n",
              "2        NaN          NaN              NaN              NaN  NaN  \n",
              "3        NaN          NaN              NaN              NaN  NaN  \n",
              "4        NaN          NaN              NaN              NaN  NaN  \n",
              "\n",
              "[5 rows x 73 columns]"
            ],
            "text/html": [
              "\n",
              "  <div id=\"df-0fe13650-8ffc-4eac-b3ea-78c00fd19873\" class=\"colab-df-container\">\n",
              "    <div>\n",
              "<style scoped>\n",
              "    .dataframe tbody tr th:only-of-type {\n",
              "        vertical-align: middle;\n",
              "    }\n",
              "\n",
              "    .dataframe tbody tr th {\n",
              "        vertical-align: top;\n",
              "    }\n",
              "\n",
              "    .dataframe thead th {\n",
              "        text-align: right;\n",
              "    }\n",
              "</style>\n",
              "<table border=\"1\" class=\"dataframe\">\n",
              "  <thead>\n",
              "    <tr style=\"text-align: right;\">\n",
              "      <th></th>\n",
              "      <th>element_type</th>\n",
              "      <th>osmid</th>\n",
              "      <th>railway</th>\n",
              "      <th>geometry</th>\n",
              "      <th>passenger_lines</th>\n",
              "      <th>internet_access</th>\n",
              "      <th>name</th>\n",
              "      <th>network</th>\n",
              "      <th>operator</th>\n",
              "      <th>public_transport</th>\n",
              "      <th>...</th>\n",
              "      <th>building</th>\n",
              "      <th>operator:wikidata</th>\n",
              "      <th>operator:wikipedia</th>\n",
              "      <th>information</th>\n",
              "      <th>tourism</th>\n",
              "      <th>wheelchair</th>\n",
              "      <th>opening_date</th>\n",
              "      <th>network:wikidata</th>\n",
              "      <th>air_conditioning</th>\n",
              "      <th>ele</th>\n",
              "    </tr>\n",
              "  </thead>\n",
              "  <tbody>\n",
              "    <tr>\n",
              "      <th>0</th>\n",
              "      <td>node</td>\n",
              "      <td>322770837</td>\n",
              "      <td>level_crossing</td>\n",
              "      <td>POINT (72.60274 23.03853)</td>\n",
              "      <td>1</td>\n",
              "      <td>NaN</td>\n",
              "      <td>NaN</td>\n",
              "      <td>NaN</td>\n",
              "      <td>NaN</td>\n",
              "      <td>NaN</td>\n",
              "      <td>...</td>\n",
              "      <td>NaN</td>\n",
              "      <td>NaN</td>\n",
              "      <td>NaN</td>\n",
              "      <td>NaN</td>\n",
              "      <td>NaN</td>\n",
              "      <td>NaN</td>\n",
              "      <td>NaN</td>\n",
              "      <td>NaN</td>\n",
              "      <td>NaN</td>\n",
              "      <td>NaN</td>\n",
              "    </tr>\n",
              "    <tr>\n",
              "      <th>1</th>\n",
              "      <td>node</td>\n",
              "      <td>322770856</td>\n",
              "      <td>station</td>\n",
              "      <td>POINT (72.65809 23.08541)</td>\n",
              "      <td>NaN</td>\n",
              "      <td>no</td>\n",
              "      <td>Naroda</td>\n",
              "      <td>IR</td>\n",
              "      <td>WR</td>\n",
              "      <td>station</td>\n",
              "      <td>...</td>\n",
              "      <td>NaN</td>\n",
              "      <td>NaN</td>\n",
              "      <td>NaN</td>\n",
              "      <td>NaN</td>\n",
              "      <td>NaN</td>\n",
              "      <td>NaN</td>\n",
              "      <td>NaN</td>\n",
              "      <td>NaN</td>\n",
              "      <td>NaN</td>\n",
              "      <td>NaN</td>\n",
              "    </tr>\n",
              "    <tr>\n",
              "      <th>2</th>\n",
              "      <td>node</td>\n",
              "      <td>322866991</td>\n",
              "      <td>level_crossing</td>\n",
              "      <td>POINT (72.65445 22.91810)</td>\n",
              "      <td>NaN</td>\n",
              "      <td>NaN</td>\n",
              "      <td>NaN</td>\n",
              "      <td>NaN</td>\n",
              "      <td>NaN</td>\n",
              "      <td>NaN</td>\n",
              "      <td>...</td>\n",
              "      <td>NaN</td>\n",
              "      <td>NaN</td>\n",
              "      <td>NaN</td>\n",
              "      <td>NaN</td>\n",
              "      <td>NaN</td>\n",
              "      <td>NaN</td>\n",
              "      <td>NaN</td>\n",
              "      <td>NaN</td>\n",
              "      <td>NaN</td>\n",
              "      <td>NaN</td>\n",
              "    </tr>\n",
              "    <tr>\n",
              "      <th>3</th>\n",
              "      <td>node</td>\n",
              "      <td>322867002</td>\n",
              "      <td>level_crossing</td>\n",
              "      <td>POINT (72.63159 22.95405)</td>\n",
              "      <td>NaN</td>\n",
              "      <td>NaN</td>\n",
              "      <td>NaN</td>\n",
              "      <td>NaN</td>\n",
              "      <td>NaN</td>\n",
              "      <td>NaN</td>\n",
              "      <td>...</td>\n",
              "      <td>NaN</td>\n",
              "      <td>NaN</td>\n",
              "      <td>NaN</td>\n",
              "      <td>NaN</td>\n",
              "      <td>NaN</td>\n",
              "      <td>NaN</td>\n",
              "      <td>NaN</td>\n",
              "      <td>NaN</td>\n",
              "      <td>NaN</td>\n",
              "      <td>NaN</td>\n",
              "    </tr>\n",
              "    <tr>\n",
              "      <th>4</th>\n",
              "      <td>node</td>\n",
              "      <td>322983248</td>\n",
              "      <td>level_crossing</td>\n",
              "      <td>POINT (72.56178 23.05775)</td>\n",
              "      <td>NaN</td>\n",
              "      <td>NaN</td>\n",
              "      <td>NaN</td>\n",
              "      <td>NaN</td>\n",
              "      <td>NaN</td>\n",
              "      <td>NaN</td>\n",
              "      <td>...</td>\n",
              "      <td>NaN</td>\n",
              "      <td>NaN</td>\n",
              "      <td>NaN</td>\n",
              "      <td>NaN</td>\n",
              "      <td>NaN</td>\n",
              "      <td>NaN</td>\n",
              "      <td>NaN</td>\n",
              "      <td>NaN</td>\n",
              "      <td>NaN</td>\n",
              "      <td>NaN</td>\n",
              "    </tr>\n",
              "  </tbody>\n",
              "</table>\n",
              "<p>5 rows × 73 columns</p>\n",
              "</div>\n",
              "    <div class=\"colab-df-buttons\">\n",
              "\n",
              "  <div class=\"colab-df-container\">\n",
              "    <button class=\"colab-df-convert\" onclick=\"convertToInteractive('df-0fe13650-8ffc-4eac-b3ea-78c00fd19873')\"\n",
              "            title=\"Convert this dataframe to an interactive table.\"\n",
              "            style=\"display:none;\">\n",
              "\n",
              "  <svg xmlns=\"http://www.w3.org/2000/svg\" height=\"24px\" viewBox=\"0 -960 960 960\">\n",
              "    <path d=\"M120-120v-720h720v720H120Zm60-500h600v-160H180v160Zm220 220h160v-160H400v160Zm0 220h160v-160H400v160ZM180-400h160v-160H180v160Zm440 0h160v-160H620v160ZM180-180h160v-160H180v160Zm440 0h160v-160H620v160Z\"/>\n",
              "  </svg>\n",
              "    </button>\n",
              "\n",
              "  <style>\n",
              "    .colab-df-container {\n",
              "      display:flex;\n",
              "      gap: 12px;\n",
              "    }\n",
              "\n",
              "    .colab-df-convert {\n",
              "      background-color: #E8F0FE;\n",
              "      border: none;\n",
              "      border-radius: 50%;\n",
              "      cursor: pointer;\n",
              "      display: none;\n",
              "      fill: #1967D2;\n",
              "      height: 32px;\n",
              "      padding: 0 0 0 0;\n",
              "      width: 32px;\n",
              "    }\n",
              "\n",
              "    .colab-df-convert:hover {\n",
              "      background-color: #E2EBFA;\n",
              "      box-shadow: 0px 1px 2px rgba(60, 64, 67, 0.3), 0px 1px 3px 1px rgba(60, 64, 67, 0.15);\n",
              "      fill: #174EA6;\n",
              "    }\n",
              "\n",
              "    .colab-df-buttons div {\n",
              "      margin-bottom: 4px;\n",
              "    }\n",
              "\n",
              "    [theme=dark] .colab-df-convert {\n",
              "      background-color: #3B4455;\n",
              "      fill: #D2E3FC;\n",
              "    }\n",
              "\n",
              "    [theme=dark] .colab-df-convert:hover {\n",
              "      background-color: #434B5C;\n",
              "      box-shadow: 0px 1px 3px 1px rgba(0, 0, 0, 0.15);\n",
              "      filter: drop-shadow(0px 1px 2px rgba(0, 0, 0, 0.3));\n",
              "      fill: #FFFFFF;\n",
              "    }\n",
              "  </style>\n",
              "\n",
              "    <script>\n",
              "      const buttonEl =\n",
              "        document.querySelector('#df-0fe13650-8ffc-4eac-b3ea-78c00fd19873 button.colab-df-convert');\n",
              "      buttonEl.style.display =\n",
              "        google.colab.kernel.accessAllowed ? 'block' : 'none';\n",
              "\n",
              "      async function convertToInteractive(key) {\n",
              "        const element = document.querySelector('#df-0fe13650-8ffc-4eac-b3ea-78c00fd19873');\n",
              "        const dataTable =\n",
              "          await google.colab.kernel.invokeFunction('convertToInteractive',\n",
              "                                                    [key], {});\n",
              "        if (!dataTable) return;\n",
              "\n",
              "        const docLinkHtml = 'Like what you see? Visit the ' +\n",
              "          '<a target=\"_blank\" href=https://colab.research.google.com/notebooks/data_table.ipynb>data table notebook</a>'\n",
              "          + ' to learn more about interactive tables.';\n",
              "        element.innerHTML = '';\n",
              "        dataTable['output_type'] = 'display_data';\n",
              "        await google.colab.output.renderOutput(dataTable, element);\n",
              "        const docLink = document.createElement('div');\n",
              "        docLink.innerHTML = docLinkHtml;\n",
              "        element.appendChild(docLink);\n",
              "      }\n",
              "    </script>\n",
              "  </div>\n",
              "\n",
              "\n",
              "<div id=\"df-5d11a511-3deb-42c8-86eb-bcecc887c7d9\">\n",
              "  <button class=\"colab-df-quickchart\" onclick=\"quickchart('df-5d11a511-3deb-42c8-86eb-bcecc887c7d9')\"\n",
              "            title=\"Suggest charts\"\n",
              "            style=\"display:none;\">\n",
              "\n",
              "<svg xmlns=\"http://www.w3.org/2000/svg\" height=\"24px\"viewBox=\"0 0 24 24\"\n",
              "     width=\"24px\">\n",
              "    <g>\n",
              "        <path d=\"M19 3H5c-1.1 0-2 .9-2 2v14c0 1.1.9 2 2 2h14c1.1 0 2-.9 2-2V5c0-1.1-.9-2-2-2zM9 17H7v-7h2v7zm4 0h-2V7h2v10zm4 0h-2v-4h2v4z\"/>\n",
              "    </g>\n",
              "</svg>\n",
              "  </button>\n",
              "\n",
              "<style>\n",
              "  .colab-df-quickchart {\n",
              "      --bg-color: #E8F0FE;\n",
              "      --fill-color: #1967D2;\n",
              "      --hover-bg-color: #E2EBFA;\n",
              "      --hover-fill-color: #174EA6;\n",
              "      --disabled-fill-color: #AAA;\n",
              "      --disabled-bg-color: #DDD;\n",
              "  }\n",
              "\n",
              "  [theme=dark] .colab-df-quickchart {\n",
              "      --bg-color: #3B4455;\n",
              "      --fill-color: #D2E3FC;\n",
              "      --hover-bg-color: #434B5C;\n",
              "      --hover-fill-color: #FFFFFF;\n",
              "      --disabled-bg-color: #3B4455;\n",
              "      --disabled-fill-color: #666;\n",
              "  }\n",
              "\n",
              "  .colab-df-quickchart {\n",
              "    background-color: var(--bg-color);\n",
              "    border: none;\n",
              "    border-radius: 50%;\n",
              "    cursor: pointer;\n",
              "    display: none;\n",
              "    fill: var(--fill-color);\n",
              "    height: 32px;\n",
              "    padding: 0;\n",
              "    width: 32px;\n",
              "  }\n",
              "\n",
              "  .colab-df-quickchart:hover {\n",
              "    background-color: var(--hover-bg-color);\n",
              "    box-shadow: 0 1px 2px rgba(60, 64, 67, 0.3), 0 1px 3px 1px rgba(60, 64, 67, 0.15);\n",
              "    fill: var(--button-hover-fill-color);\n",
              "  }\n",
              "\n",
              "  .colab-df-quickchart-complete:disabled,\n",
              "  .colab-df-quickchart-complete:disabled:hover {\n",
              "    background-color: var(--disabled-bg-color);\n",
              "    fill: var(--disabled-fill-color);\n",
              "    box-shadow: none;\n",
              "  }\n",
              "\n",
              "  .colab-df-spinner {\n",
              "    border: 2px solid var(--fill-color);\n",
              "    border-color: transparent;\n",
              "    border-bottom-color: var(--fill-color);\n",
              "    animation:\n",
              "      spin 1s steps(1) infinite;\n",
              "  }\n",
              "\n",
              "  @keyframes spin {\n",
              "    0% {\n",
              "      border-color: transparent;\n",
              "      border-bottom-color: var(--fill-color);\n",
              "      border-left-color: var(--fill-color);\n",
              "    }\n",
              "    20% {\n",
              "      border-color: transparent;\n",
              "      border-left-color: var(--fill-color);\n",
              "      border-top-color: var(--fill-color);\n",
              "    }\n",
              "    30% {\n",
              "      border-color: transparent;\n",
              "      border-left-color: var(--fill-color);\n",
              "      border-top-color: var(--fill-color);\n",
              "      border-right-color: var(--fill-color);\n",
              "    }\n",
              "    40% {\n",
              "      border-color: transparent;\n",
              "      border-right-color: var(--fill-color);\n",
              "      border-top-color: var(--fill-color);\n",
              "    }\n",
              "    60% {\n",
              "      border-color: transparent;\n",
              "      border-right-color: var(--fill-color);\n",
              "    }\n",
              "    80% {\n",
              "      border-color: transparent;\n",
              "      border-right-color: var(--fill-color);\n",
              "      border-bottom-color: var(--fill-color);\n",
              "    }\n",
              "    90% {\n",
              "      border-color: transparent;\n",
              "      border-bottom-color: var(--fill-color);\n",
              "    }\n",
              "  }\n",
              "</style>\n",
              "\n",
              "  <script>\n",
              "    async function quickchart(key) {\n",
              "      const quickchartButtonEl =\n",
              "        document.querySelector('#' + key + ' button');\n",
              "      quickchartButtonEl.disabled = true;  // To prevent multiple clicks.\n",
              "      quickchartButtonEl.classList.add('colab-df-spinner');\n",
              "      try {\n",
              "        const charts = await google.colab.kernel.invokeFunction(\n",
              "            'suggestCharts', [key], {});\n",
              "      } catch (error) {\n",
              "        console.error('Error during call to suggestCharts:', error);\n",
              "      }\n",
              "      quickchartButtonEl.classList.remove('colab-df-spinner');\n",
              "      quickchartButtonEl.classList.add('colab-df-quickchart-complete');\n",
              "    }\n",
              "    (() => {\n",
              "      let quickchartButtonEl =\n",
              "        document.querySelector('#df-5d11a511-3deb-42c8-86eb-bcecc887c7d9 button');\n",
              "      quickchartButtonEl.style.display =\n",
              "        google.colab.kernel.accessAllowed ? 'block' : 'none';\n",
              "    })();\n",
              "  </script>\n",
              "</div>\n",
              "\n",
              "    </div>\n",
              "  </div>\n"
            ],
            "application/vnd.google.colaboratory.intrinsic+json": {
              "type": "dataframe"
            }
          },
          "metadata": {},
          "execution_count": 7
        }
      ]
    },
    {
      "cell_type": "code",
      "source": [
        "public_transport.shape"
      ],
      "metadata": {
        "id": "x_jlogJntIdN",
        "outputId": "39a62154-0b99-41df-d1ed-75e696b80ed2",
        "colab": {
          "base_uri": "https://localhost:8080/"
        }
      },
      "execution_count": 8,
      "outputs": [
        {
          "output_type": "execute_result",
          "data": {
            "text/plain": [
              "(668, 73)"
            ]
          },
          "metadata": {},
          "execution_count": 8
        }
      ]
    },
    {
      "cell_type": "code",
      "source": [
        "public_transport['railway'].value_counts()"
      ],
      "metadata": {
        "id": "YOnt31rWtRWC",
        "outputId": "ac52263c-2cca-4ffa-e2f6-ddb2ee1a6f09",
        "colab": {
          "base_uri": "https://localhost:8080/"
        }
      },
      "execution_count": 9,
      "outputs": [
        {
          "output_type": "execute_result",
          "data": {
            "text/plain": [
              "railway\n",
              "rail                 256\n",
              "level_crossing       114\n",
              "subway                94\n",
              "stop                  81\n",
              "station               45\n",
              "buffer_stop           21\n",
              "platform              21\n",
              "construction          12\n",
              "switch                 6\n",
              "crossing               4\n",
              "technical_station      4\n",
              "abandoned              3\n",
              "proposed               2\n",
              "subway_entrance        1\n",
              "vacancy_detection      1\n",
              "halt                   1\n",
              "depot                  1\n",
              "yard                   1\n",
              "Name: count, dtype: int64"
            ]
          },
          "metadata": {},
          "execution_count": 9
        }
      ]
    },
    {
      "cell_type": "code",
      "source": [
        "ax= public_transport[public_transport['railway']=='subway'].plot()\n",
        "public_transport[public_transport['railway']=='stop'].plot(ax=ax)"
      ],
      "metadata": {
        "id": "fNGeSq8wtnGL",
        "outputId": "628731a1-aa4c-4538-b46b-5391ba845c19",
        "colab": {
          "base_uri": "https://localhost:8080/",
          "height": 361
        }
      },
      "execution_count": 20,
      "outputs": [
        {
          "output_type": "execute_result",
          "data": {
            "text/plain": [
              "<Axes: >"
            ]
          },
          "metadata": {},
          "execution_count": 20
        },
        {
          "output_type": "display_data",
          "data": {
            "text/plain": [
              "<Figure size 640x480 with 1 Axes>"
            ],
            "image/png": "[encoded data removed]"
          },
          "metadata": {}
        }
      ]
    },
    {
      "cell_type": "code",
      "source": [
        "public_transport[public_transport['railway']=='rail'].plot()"
      ],
      "metadata": {
        "id": "BIvLz7BQvRLs",
        "outputId": "42701fdf-b912-4c25-e09c-4e96d0bd20da",
        "colab": {
          "base_uri": "https://localhost:8080/",
          "height": 243
        }
      },
      "execution_count": 13,
      "outputs": [
        {
          "output_type": "execute_result",
          "data": {
            "text/plain": [
              "<Axes: >"
            ]
          },
          "metadata": {},
          "execution_count": 13
        },
        {
          "output_type": "display_data",
          "data": {
            "text/plain": [
              "<Figure size 640x480 with 1 Axes>"
            ],
            "image/png": "[encoded data removed]"
          },
          "metadata": {}
        }
      ]
    },
    {
      "cell_type": "code",
      "source": [
        "%%time\n",
        "# city = 'Dehli_NCR'\n",
        "metro_stops = []\n",
        "metro_lines = []\n",
        "\n",
        "for city, bbox in tqdm(bboxs.items(), unit=' cities'):\n",
        "\n",
        "    ## Download OSM data\n",
        "    W,S,E,N = bboxs[city]\n",
        "    public_transport = ox.features.features_from_bbox(bbox=(N,S,E,W), tags={'railway':True}).reset_index()\n",
        "    public_transport['city'] = city\n",
        "    # print(\"Length of the dataframe\" , public_transport.shape[0])\n",
        "\n",
        "    ## Extract Metro Stops\n",
        "    stops = public_transport.loc[(public_transport['element_type']=='node') & (public_transport['railway']=='station')].copy()\n",
        "    stops['city'] = city\n",
        "    # print(f\"Number of stations: {stops.shape[0]} in {city}\")\n",
        "\n",
        "    ## Extract Metro Lines\n",
        "    lines = public_transport.loc[\n",
        "        (public_transport['element_type']=='way') &\n",
        "         (public_transport['railway'].notna())\n",
        "    ].copy()\n",
        "\n",
        "    lines['geometry'] = lines['geometry'].clip_by_rect(W,S,E,N)\n",
        "    # print(f\"Number of lines: {lines.shape[0]} in {city}\")\n",
        "\n",
        "    metro_lines.append(lines)\n",
        "    metro_stops.append(stops)\n",
        "\n",
        "metro_line_df = pd.concat(metro_lines)[columns]\n",
        "metro_station_df = pd.concat(metro_stops)[columns]\n",
        "\n",
        "print(\"Total number of metro lines: \", metro_line_df.shape[0])\n",
        "print(\"Total number of metro stations: \", metro_station_df.shape[0])"
      ],
      "metadata": {
        "colab": {
          "base_uri": "https://localhost:8080/"
        },
        "id": "UhCPS6EWnvcO",
        "outputId": "29631fef-545c-4cba-d434-23a316e80d33"
      },
      "execution_count": null,
      "outputs": [
        {
          "output_type": "stream",
          "name": "stderr",
          "text": [
            "100%|██████████| 7/7 [00:07<00:00,  1.10s/ cities]\n"
          ]
        },
        {
          "output_type": "stream",
          "name": "stdout",
          "text": [
            "Total number of metro lines:  11638\n",
            "Total number of metro stations:  846\n",
            "CPU times: user 8.67 s, sys: 94.5 ms, total: 8.77 s\n",
            "Wall time: 9.16 s\n"
          ]
        }
      ]
    },
    {
      "cell_type": "markdown",
      "source": [
        "## Evaluate the data\n",
        "\n",
        "Evaluate the data by visualizing and inspecting the dataframes for each city"
      ],
      "metadata": {
        "id": "wWk2LFwWBMPP"
      }
    },
    {
      "cell_type": "code",
      "source": [
        "metro_line_df[columns].sample(5)"
      ],
      "metadata": {
        "colab": {
          "base_uri": "https://localhost:8080/",
          "height": 379
        },
        "id": "KDNZWAjF9s03",
        "outputId": "0171a223-2808-415f-e4dc-b3b9604da9cd"
      },
      "execution_count": null,
      "outputs": [
        {
          "output_type": "execute_result",
          "data": {
            "text/plain": [
              "     element_type      osmid  \\\n",
              "548           way  847089580   \n",
              "1044          way  356964961   \n",
              "6185          way  439020815   \n",
              "4489          way  807900861   \n",
              "1493          way  141182198   \n",
              "\n",
              "                                               geometry railway  \\\n",
              "548   LINESTRING (72.60979 23.01094, 72.61122 23.01093)  subway   \n",
              "1044  LINESTRING (78.51752 17.49836, 78.51770 17.497...    rail   \n",
              "6185  LINESTRING (77.30284 28.54200, 77.30343 28.542...  subway   \n",
              "4489  LINESTRING (73.01562 19.20579, 73.01534 19.205...    rail   \n",
              "1493  LINESTRING (77.65239 12.99067, 77.65305 12.990...  subway   \n",
              "\n",
              "     internet_access                      name name:hi      network  \\\n",
              "548              NaN                       NaN     NaN          NaN   \n",
              "1044             NaN                       NaN     NaN          NaN   \n",
              "6185             NaN  Delhi Metro Magenta Line     NaN  Delhi Metro   \n",
              "4489             NaN                       NaN     NaN          NaN   \n",
              "1493             NaN     Namma Metro - Reach 1     NaN  Namma Metro   \n",
              "\n",
              "                                      operator public_transport  ref train  \\\n",
              "548                                        NaN              NaN  NaN   NaN   \n",
              "1044                                       NaN              NaN  NaN   NaN   \n",
              "6185      Delhi Metro Rail Corporation Limited              NaN  NaN   NaN   \n",
              "4489                                       NaN              NaN  NaN   NaN   \n",
              "1493  Bangalore Metro Rail Corporation Limited              NaN  NaN   NaN   \n",
              "\n",
              "           city  \n",
              "548   Ahmedabad  \n",
              "1044  Hyderabad  \n",
              "6185  Delhi_NCR  \n",
              "4489     Mumbai  \n",
              "1493  Bangalore  "
            ],
            "text/html": [
              "\n",
              "  <div id=\"df-9736052c-0154-4435-8151-3bd6c71c3b04\" class=\"colab-df-container\">\n",
              "    <div>\n",
              "<style scoped>\n",
              "    .dataframe tbody tr th:only-of-type {\n",
              "        vertical-align: middle;\n",
              "    }\n",
              "\n",
              "    .dataframe tbody tr th {\n",
              "        vertical-align: top;\n",
              "    }\n",
              "\n",
              "    .dataframe thead th {\n",
              "        text-align: right;\n",
              "    }\n",
              "</style>\n",
              "<table border=\"1\" class=\"dataframe\">\n",
              "  <thead>\n",
              "    <tr style=\"text-align: right;\">\n",
              "      <th></th>\n",
              "      <th>element_type</th>\n",
              "      <th>osmid</th>\n",
              "      <th>geometry</th>\n",
              "      <th>railway</th>\n",
              "      <th>internet_access</th>\n",
              "      <th>name</th>\n",
              "      <th>name:hi</th>\n",
              "      <th>network</th>\n",
              "      <th>operator</th>\n",
              "      <th>public_transport</th>\n",
              "      <th>ref</th>\n",
              "      <th>train</th>\n",
              "      <th>city</th>\n",
              "    </tr>\n",
              "  </thead>\n",
              "  <tbody>\n",
              "    <tr>\n",
              "      <th>548</th>\n",
              "      <td>way</td>\n",
              "      <td>847089580</td>\n",
              "      <td>LINESTRING (72.60979 23.01094, 72.61122 23.01093)</td>\n",
              "      <td>subway</td>\n",
              "      <td>NaN</td>\n",
              "      <td>NaN</td>\n",
              "      <td>NaN</td>\n",
              "      <td>NaN</td>\n",
              "      <td>NaN</td>\n",
              "      <td>NaN</td>\n",
              "      <td>NaN</td>\n",
              "      <td>NaN</td>\n",
              "      <td>Ahmedabad</td>\n",
              "    </tr>\n",
              "    <tr>\n",
              "      <th>1044</th>\n",
              "      <td>way</td>\n",
              "      <td>356964961</td>\n",
              "      <td>LINESTRING (78.51752 17.49836, 78.51770 17.497...</td>\n",
              "      <td>rail</td>\n",
              "      <td>NaN</td>\n",
              "      <td>NaN</td>\n",
              "      <td>NaN</td>\n",
              "      <td>NaN</td>\n",
              "      <td>NaN</td>\n",
              "      <td>NaN</td>\n",
              "      <td>NaN</td>\n",
              "      <td>NaN</td>\n",
              "      <td>Hyderabad</td>\n",
              "    </tr>\n",
              "    <tr>\n",
              "      <th>6185</th>\n",
              "      <td>way</td>\n",
              "      <td>439020815</td>\n",
              "      <td>LINESTRING (77.30284 28.54200, 77.30343 28.542...</td>\n",
              "      <td>subway</td>\n",
              "      <td>NaN</td>\n",
              "      <td>Delhi Metro Magenta Line</td>\n",
              "      <td>NaN</td>\n",
              "      <td>Delhi Metro</td>\n",
              "      <td>Delhi Metro Rail Corporation Limited</td>\n",
              "      <td>NaN</td>\n",
              "      <td>NaN</td>\n",
              "      <td>NaN</td>\n",
              "      <td>Delhi_NCR</td>\n",
              "    </tr>\n",
              "    <tr>\n",
              "      <th>4489</th>\n",
              "      <td>way</td>\n",
              "      <td>807900861</td>\n",
              "      <td>LINESTRING (73.01562 19.20579, 73.01534 19.205...</td>\n",
              "      <td>rail</td>\n",
              "      <td>NaN</td>\n",
              "      <td>NaN</td>\n",
              "      <td>NaN</td>\n",
              "      <td>NaN</td>\n",
              "      <td>NaN</td>\n",
              "      <td>NaN</td>\n",
              "      <td>NaN</td>\n",
              "      <td>NaN</td>\n",
              "      <td>Mumbai</td>\n",
              "    </tr>\n",
              "    <tr>\n",
              "      <th>1493</th>\n",
              "      <td>way</td>\n",
              "      <td>141182198</td>\n",
              "      <td>LINESTRING (77.65239 12.99067, 77.65305 12.990...</td>\n",
              "      <td>subway</td>\n",
              "      <td>NaN</td>\n",
              "      <td>Namma Metro - Reach 1</td>\n",
              "      <td>NaN</td>\n",
              "      <td>Namma Metro</td>\n",
              "      <td>Bangalore Metro Rail Corporation Limited</td>\n",
              "      <td>NaN</td>\n",
              "      <td>NaN</td>\n",
              "      <td>NaN</td>\n",
              "      <td>Bangalore</td>\n",
              "    </tr>\n",
              "  </tbody>\n",
              "</table>\n",
              "</div>\n",
              "    <div class=\"colab-df-buttons\">\n",
              "\n",
              "  <div class=\"colab-df-container\">\n",
              "    <button class=\"colab-df-convert\" onclick=\"convertToInteractive('df-9736052c-0154-4435-8151-3bd6c71c3b04')\"\n",
              "            title=\"Convert this dataframe to an interactive table.\"\n",
              "            style=\"display:none;\">\n",
              "\n",
              "  <svg xmlns=\"http://www.w3.org/2000/svg\" height=\"24px\" viewBox=\"0 -960 960 960\">\n",
              "    <path d=\"M120-120v-720h720v720H120Zm60-500h600v-160H180v160Zm220 220h160v-160H400v160Zm0 220h160v-160H400v160ZM180-400h160v-160H180v160Zm440 0h160v-160H620v160ZM180-180h160v-160H180v160Zm440 0h160v-160H620v160Z\"/>\n",
              "  </svg>\n",
              "    </button>\n",
              "\n",
              "  <style>\n",
              "    .colab-df-container {\n",
              "      display:flex;\n",
              "      gap: 12px;\n",
              "    }\n",
              "\n",
              "    .colab-df-convert {\n",
              "      background-color: #E8F0FE;\n",
              "      border: none;\n",
              "      border-radius: 50%;\n",
              "      cursor: pointer;\n",
              "      display: none;\n",
              "      fill: #1967D2;\n",
              "      height: 32px;\n",
              "      padding: 0 0 0 0;\n",
              "      width: 32px;\n",
              "    }\n",
              "\n",
              "    .colab-df-convert:hover {\n",
              "      background-color: #E2EBFA;\n",
              "      box-shadow: 0px 1px 2px rgba(60, 64, 67, 0.3), 0px 1px 3px 1px rgba(60, 64, 67, 0.15);\n",
              "      fill: #174EA6;\n",
              "    }\n",
              "\n",
              "    .colab-df-buttons div {\n",
              "      margin-bottom: 4px;\n",
              "    }\n",
              "\n",
              "    [theme=dark] .colab-df-convert {\n",
              "      background-color: #3B4455;\n",
              "      fill: #D2E3FC;\n",
              "    }\n",
              "\n",
              "    [theme=dark] .colab-df-convert:hover {\n",
              "      background-color: #434B5C;\n",
              "      box-shadow: 0px 1px 3px 1px rgba(0, 0, 0, 0.15);\n",
              "      filter: drop-shadow(0px 1px 2px rgba(0, 0, 0, 0.3));\n",
              "      fill: #FFFFFF;\n",
              "    }\n",
              "  </style>\n",
              "\n",
              "    <script>\n",
              "      const buttonEl =\n",
              "        document.querySelector('#df-9736052c-0154-4435-8151-3bd6c71c3b04 button.colab-df-convert');\n",
              "      buttonEl.style.display =\n",
              "        google.colab.kernel.accessAllowed ? 'block' : 'none';\n",
              "\n",
              "      async function convertToInteractive(key) {\n",
              "        const element = document.querySelector('#df-9736052c-0154-4435-8151-3bd6c71c3b04');\n",
              "        const dataTable =\n",
              "          await google.colab.kernel.invokeFunction('convertToInteractive',\n",
              "                                                    [key], {});\n",
              "        if (!dataTable) return;\n",
              "\n",
              "        const docLinkHtml = 'Like what you see? Visit the ' +\n",
              "          '<a target=\"_blank\" href=https://colab.research.google.com/notebooks/data_table.ipynb>data table notebook</a>'\n",
              "          + ' to learn more about interactive tables.';\n",
              "        element.innerHTML = '';\n",
              "        dataTable['output_type'] = 'display_data';\n",
              "        await google.colab.output.renderOutput(dataTable, element);\n",
              "        const docLink = document.createElement('div');\n",
              "        docLink.innerHTML = docLinkHtml;\n",
              "        element.appendChild(docLink);\n",
              "      }\n",
              "    </script>\n",
              "  </div>\n",
              "\n",
              "\n",
              "<div id=\"df-4f4bcefa-8213-4c38-9d95-8e6625e803cd\">\n",
              "  <button class=\"colab-df-quickchart\" onclick=\"quickchart('df-4f4bcefa-8213-4c38-9d95-8e6625e803cd')\"\n",
              "            title=\"Suggest charts\"\n",
              "            style=\"display:none;\">\n",
              "\n",
              "<svg xmlns=\"http://www.w3.org/2000/svg\" height=\"24px\"viewBox=\"0 0 24 24\"\n",
              "     width=\"24px\">\n",
              "    <g>\n",
              "        <path d=\"M19 3H5c-1.1 0-2 .9-2 2v14c0 1.1.9 2 2 2h14c1.1 0 2-.9 2-2V5c0-1.1-.9-2-2-2zM9 17H7v-7h2v7zm4 0h-2V7h2v10zm4 0h-2v-4h2v4z\"/>\n",
              "    </g>\n",
              "</svg>\n",
              "  </button>\n",
              "\n",
              "<style>\n",
              "  .colab-df-quickchart {\n",
              "      --bg-color: #E8F0FE;\n",
              "      --fill-color: #1967D2;\n",
              "      --hover-bg-color: #E2EBFA;\n",
              "      --hover-fill-color: #174EA6;\n",
              "      --disabled-fill-color: #AAA;\n",
              "      --disabled-bg-color: #DDD;\n",
              "  }\n",
              "\n",
              "  [theme=dark] .colab-df-quickchart {\n",
              "      --bg-color: #3B4455;\n",
              "      --fill-color: #D2E3FC;\n",
              "      --hover-bg-color: #434B5C;\n",
              "      --hover-fill-color: #FFFFFF;\n",
              "      --disabled-bg-color: #3B4455;\n",
              "      --disabled-fill-color: #666;\n",
              "  }\n",
              "\n",
              "  .colab-df-quickchart {\n",
              "    background-color: var(--bg-color);\n",
              "    border: none;\n",
              "    border-radius: 50%;\n",
              "    cursor: pointer;\n",
              "    display: none;\n",
              "    fill: var(--fill-color);\n",
              "    height: 32px;\n",
              "    padding: 0;\n",
              "    width: 32px;\n",
              "  }\n",
              "\n",
              "  .colab-df-quickchart:hover {\n",
              "    background-color: var(--hover-bg-color);\n",
              "    box-shadow: 0 1px 2px rgba(60, 64, 67, 0.3), 0 1px 3px 1px rgba(60, 64, 67, 0.15);\n",
              "    fill: var(--button-hover-fill-color);\n",
              "  }\n",
              "\n",
              "  .colab-df-quickchart-complete:disabled,\n",
              "  .colab-df-quickchart-complete:disabled:hover {\n",
              "    background-color: var(--disabled-bg-color);\n",
              "    fill: var(--disabled-fill-color);\n",
              "    box-shadow: none;\n",
              "  }\n",
              "\n",
              "  .colab-df-spinner {\n",
              "    border: 2px solid var(--fill-color);\n",
              "    border-color: transparent;\n",
              "    border-bottom-color: var(--fill-color);\n",
              "    animation:\n",
              "      spin 1s steps(1) infinite;\n",
              "  }\n",
              "\n",
              "  @keyframes spin {\n",
              "    0% {\n",
              "      border-color: transparent;\n",
              "      border-bottom-color: var(--fill-color);\n",
              "      border-left-color: var(--fill-color);\n",
              "    }\n",
              "    20% {\n",
              "      border-color: transparent;\n",
              "      border-left-color: var(--fill-color);\n",
              "      border-top-color: var(--fill-color);\n",
              "    }\n",
              "    30% {\n",
              "      border-color: transparent;\n",
              "      border-left-color: var(--fill-color);\n",
              "      border-top-color: var(--fill-color);\n",
              "      border-right-color: var(--fill-color);\n",
              "    }\n",
              "    40% {\n",
              "      border-color: transparent;\n",
              "      border-right-color: var(--fill-color);\n",
              "      border-top-color: var(--fill-color);\n",
              "    }\n",
              "    60% {\n",
              "      border-color: transparent;\n",
              "      border-right-color: var(--fill-color);\n",
              "    }\n",
              "    80% {\n",
              "      border-color: transparent;\n",
              "      border-right-color: var(--fill-color);\n",
              "      border-bottom-color: var(--fill-color);\n",
              "    }\n",
              "    90% {\n",
              "      border-color: transparent;\n",
              "      border-bottom-color: var(--fill-color);\n",
              "    }\n",
              "  }\n",
              "</style>\n",
              "\n",
              "  <script>\n",
              "    async function quickchart(key) {\n",
              "      const quickchartButtonEl =\n",
              "        document.querySelector('#' + key + ' button');\n",
              "      quickchartButtonEl.disabled = true;  // To prevent multiple clicks.\n",
              "      quickchartButtonEl.classList.add('colab-df-spinner');\n",
              "      try {\n",
              "        const charts = await google.colab.kernel.invokeFunction(\n",
              "            'suggestCharts', [key], {});\n",
              "      } catch (error) {\n",
              "        console.error('Error during call to suggestCharts:', error);\n",
              "      }\n",
              "      quickchartButtonEl.classList.remove('colab-df-spinner');\n",
              "      quickchartButtonEl.classList.add('colab-df-quickchart-complete');\n",
              "    }\n",
              "    (() => {\n",
              "      let quickchartButtonEl =\n",
              "        document.querySelector('#df-4f4bcefa-8213-4c38-9d95-8e6625e803cd button');\n",
              "      quickchartButtonEl.style.display =\n",
              "        google.colab.kernel.accessAllowed ? 'block' : 'none';\n",
              "    })();\n",
              "  </script>\n",
              "</div>\n",
              "\n",
              "    </div>\n",
              "  </div>\n"
            ],
            "application/vnd.google.colaboratory.intrinsic+json": {
              "type": "dataframe",
              "repr_error": "0"
            }
          },
          "metadata": {},
          "execution_count": 60
        }
      ]
    },
    {
      "cell_type": "markdown",
      "source": [
        "## Visualize the Downloaded data\n",
        "\n",
        "Visualize all the metro lines for a city"
      ],
      "metadata": {
        "id": "ebXyKpN1_Keb"
      }
    },
    {
      "cell_type": "code",
      "source": [
        "city = \"Hyderabad\"\n",
        "city_df = metro_line_df[metro_line_df['city']==city]\n",
        "metro_lines = city_df.loc[(public_transport['railway']=='subway')]\n",
        "print(f\"Number of lines: {metro_lines.shape[0]}\")\n",
        "city_df.plot();"
      ],
      "metadata": {
        "colab": {
          "base_uri": "https://localhost:8080/",
          "height": 448
        },
        "id": "y2zv2dbu-GB9",
        "outputId": "d3c3ea32-a654-46f8-89cb-428c2f2330ab"
      },
      "execution_count": null,
      "outputs": [
        {
          "output_type": "stream",
          "name": "stdout",
          "text": [
            "Number of lines: 39\n"
          ]
        },
        {
          "output_type": "display_data",
          "data": {
            "text/plain": [
              "<Figure size 640x480 with 1 Axes>"
            ],
            "image/png": "[encoded data removed]"
          },
          "metadata": {}
        }
      ]
    },
    {
      "cell_type": "code",
      "source": [
        "city_stn_df = metro_station_df[metro_station_df['city']==city]\n",
        "metro_stns = city_stn_df.loc[(public_transport['railway']=='subway')]\n",
        "print(f\"Number of stations: {metro_stns.shape[0]}\")\n",
        "city_stn_df.plot();"
      ],
      "metadata": {
        "colab": {
          "base_uri": "https://localhost:8080/",
          "height": 432
        },
        "id": "DHk-UqG8AeEu",
        "outputId": "56ecc671-01f7-4f1e-b43f-b5e4117407c9"
      },
      "execution_count": null,
      "outputs": [
        {
          "output_type": "stream",
          "name": "stdout",
          "text": [
            "Number of stations: 18\n"
          ]
        },
        {
          "output_type": "display_data",
          "data": {
            "text/plain": [
              "<Figure size 640x480 with 1 Axes>"
            ],
            "image/png": "[encoded data removed]"
          },
          "metadata": {}
        }
      ]
    },
    {
      "cell_type": "markdown",
      "source": [
        "## Export to Parquet files\n",
        "\n",
        "Once the evaluation of the data is done, export it to parquet format file"
      ],
      "metadata": {
        "id": "7Nz-07_TBDdA"
      }
    },
    {
      "cell_type": "code",
      "source": [
        "metro_station_df.to_parquet('stations.parquet')\n",
        "metro_line_df[columns].to_parquet('lines.parquet')"
      ],
      "metadata": {
        "id": "uEbroVodBFce"
      },
      "execution_count": null,
      "outputs": []
    }
  ]
}