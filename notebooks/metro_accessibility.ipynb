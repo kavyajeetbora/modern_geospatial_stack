{
  "nbformat": 4,
  "nbformat_minor": 0,
  "metadata": {
    "colab": {
      "provenance": [],
      "authorship_tag": "ABX9TyN3jKPAEtWHCfto+UXA0X9E",
      "include_colab_link": true
    },
    "kernelspec": {
      "name": "python3",
      "display_name": "Python 3"
    },
    "language_info": {
      "name": "python"
    },
    "widgets": {
      "application/vnd.jupyter.widget-state+json": {
        "cfbab46e1ac843a1afb8207ace66121e": {
          "model_module": "jupyter-leaflet",
          "model_name": "LeafletMapModel",
          "model_module_version": "^0.18",
          "state": {
            "_dom_classes": [],
            "_model_module": "jupyter-leaflet",
            "_model_module_version": "^0.18",
            "_model_name": "LeafletMapModel",
            "_view_count": null,
            "_view_module": "jupyter-leaflet",
            "_view_module_version": "^0.18",
            "_view_name": "LeafletMapView",
            "bottom": 117183,
            "bounce_at_zoom_limits": true,
            "box_zoom": true,
            "center": [
              19.120278006108997,
              72.87471842263231
            ],
            "close_popup_on_click": true,
            "controls": [
              "IPY_MODEL_08d0c52c2dcc4ca7ab950e2b727d6c3b",
              "IPY_MODEL_66da5a80949740a18fb93af318f95cbf",
              "IPY_MODEL_61217891db884e1f8c97f3b4e4057f03",
              "IPY_MODEL_8f97f234a9b74209b007603fde2f0141",
              "IPY_MODEL_df7ebae5f323449eb8fc4748ceb4f478",
              "IPY_MODEL_159f7a01c1c2467786357acf096f4cfc",
              "IPY_MODEL_940771af922a40988a7ef2d73fbd5ab7",
              "IPY_MODEL_481241c635b34e8280a5d3000a1a1bbe"
            ],
            "crs": {
              "name": "EPSG3857",
              "custom": false
            },
            "default_style": "IPY_MODEL_8046776015b24d80a7c7879fc06d5adf",
            "double_click_zoom": true,
            "dragging": true,
            "dragging_style": "IPY_MODEL_6083a7ff480c42bbbe7422c9ae175c75",
            "east": 73.77868652343751,
            "fullscreen": false,
            "inertia": true,
            "inertia_deceleration": 3000,
            "inertia_max_speed": 1500,
            "interpolation": "bilinear",
            "keyboard": true,
            "keyboard_pan_offset": 80,
            "keyboard_zoom_offset": 1,
            "layers": [
              "IPY_MODEL_a60b8fe2bc0d42309d2402270e67cc79",
              "IPY_MODEL_dbf84ca6fcdb475a9b631ae2bb3db12d"
            ],
            "layout": "IPY_MODEL_e5b3c6be60af43c58c4e4c35a88c91e3",
            "left": 183479,
            "max_zoom": 24,
            "min_zoom": null,
            "modisdate": "2024-06-13",
            "north": 19.509314606646345,
            "options": [
              "bounce_at_zoom_limits",
              "box_zoom",
              "center",
              "close_popup_on_click",
              "double_click_zoom",
              "dragging",
              "fullscreen",
              "inertia",
              "inertia_deceleration",
              "inertia_max_speed",
              "interpolation",
              "keyboard",
              "keyboard_pan_offset",
              "keyboard_zoom_offset",
              "max_zoom",
              "min_zoom",
              "prefer_canvas",
              "scroll_wheel_zoom",
              "tap",
              "tap_tolerance",
              "touch_zoom",
              "world_copy_jump",
              "zoom",
              "zoom_animation_threshold",
              "zoom_delta",
              "zoom_snap"
            ],
            "panes": {},
            "prefer_canvas": false,
            "right": 184796,
            "scroll_wheel_zoom": true,
            "south": 18.730802562548227,
            "style": "IPY_MODEL_76cf962216d746579f14c9ec9c622daa",
            "tap": true,
            "tap_tolerance": 15,
            "top": 116583,
            "touch_zoom": true,
            "west": 71.97006225585939,
            "window_url": "https://8x2t7z510q7-496ff2e9c6d22116-0-colab.googleusercontent.com/outputframe.html?vrz=colab_20240612-060152_RC01_642669552",
            "world_copy_jump": false,
            "zoom": 10,
            "zoom_animation_threshold": 4,
            "zoom_delta": 1,
            "zoom_snap": 1
          }
        },
        "08d0c52c2dcc4ca7ab950e2b727d6c3b": {
          "model_module": "jupyter-leaflet",
          "model_name": "LeafletWidgetControlModel",
          "model_module_version": "^0.18",
          "state": {
            "_model_module": "jupyter-leaflet",
            "_model_module_version": "^0.18",
            "_model_name": "LeafletWidgetControlModel",
            "_view_count": null,
            "_view_module": "jupyter-leaflet",
            "_view_module_version": "^0.18",
            "_view_name": "LeafletWidgetControlView",
            "max_height": null,
            "max_width": null,
            "min_height": null,
            "min_width": null,
            "options": [
              "position",
              "transparent_bg"
            ],
            "position": "topleft",
            "transparent_bg": false,
            "widget": "IPY_MODEL_aa10b4647993461b9321e71426a12b90"
          }
        },
        "66da5a80949740a18fb93af318f95cbf": {
          "model_module": "jupyter-leaflet",
          "model_name": "LeafletZoomControlModel",
          "model_module_version": "^0.18",
          "state": {
            "_model_module": "jupyter-leaflet",
            "_model_module_version": "^0.18",
            "_model_name": "LeafletZoomControlModel",
            "_view_count": null,
            "_view_module": "jupyter-leaflet",
            "_view_module_version": "^0.18",
            "_view_name": "LeafletZoomControlView",
            "options": [
              "position",
              "zoom_in_text",
              "zoom_in_title",
              "zoom_out_text",
              "zoom_out_title"
            ],
            "position": "topleft",
            "zoom_in_text": "+",
            "zoom_in_title": "Zoom in",
            "zoom_out_text": "-",
            "zoom_out_title": "Zoom out"
          }
        },
        "61217891db884e1f8c97f3b4e4057f03": {
          "model_module": "jupyter-leaflet",
          "model_name": "LeafletFullScreenControlModel",
          "model_module_version": "^0.18",
          "state": {
            "_model_module": "jupyter-leaflet",
            "_model_module_version": "^0.18",
            "_model_name": "LeafletFullScreenControlModel",
            "_view_count": null,
            "_view_module": "jupyter-leaflet",
            "_view_module_version": "^0.18",
            "_view_name": "LeafletFullScreenControlView",
            "options": [
              "position"
            ],
            "position": "topleft"
          }
        },
        "8f97f234a9b74209b007603fde2f0141": {
          "model_module": "jupyter-leaflet",
          "model_name": "LeafletDrawControlModel",
          "model_module_version": "^0.18",
          "state": {
            "_model_module": "jupyter-leaflet",
            "_model_module_version": "^0.18",
            "_model_name": "LeafletDrawControlModel",
            "_view_count": null,
            "_view_module": "jupyter-leaflet",
            "_view_module_version": "^0.18",
            "_view_name": "LeafletDrawControlView",
            "circle": {},
            "circlemarker": {},
            "data": [],
            "edit": true,
            "marker": {
              "shapeOptions": {
                "color": "#3388ff"
              }
            },
            "options": [
              "position"
            ],
            "polygon": {
              "shapeOptions": {}
            },
            "polyline": {
              "shapeOptions": {}
            },
            "position": "topleft",
            "rectangle": {
              "shapeOptions": {
                "color": "#3388ff"
              }
            },
            "remove": true
          }
        },
        "df7ebae5f323449eb8fc4748ceb4f478": {
          "model_module": "jupyter-leaflet",
          "model_name": "LeafletScaleControlModel",
          "model_module_version": "^0.18",
          "state": {
            "_model_module": "jupyter-leaflet",
            "_model_module_version": "^0.18",
            "_model_name": "LeafletScaleControlModel",
            "_view_count": null,
            "_view_module": "jupyter-leaflet",
            "_view_module_version": "^0.18",
            "_view_name": "LeafletScaleControlView",
            "imperial": true,
            "max_width": 100,
            "metric": true,
            "options": [
              "imperial",
              "max_width",
              "metric",
              "position",
              "update_when_idle"
            ],
            "position": "bottomleft",
            "update_when_idle": false
          }
        },
        "159f7a01c1c2467786357acf096f4cfc": {
          "model_module": "jupyter-leaflet",
          "model_name": "LeafletMeasureControlModel",
          "model_module_version": "^0.18",
          "state": {
            "_custom_units": {},
            "_model_module": "jupyter-leaflet",
            "_model_module_version": "^0.18",
            "_model_name": "LeafletMeasureControlModel",
            "_view_count": null,
            "_view_module": "jupyter-leaflet",
            "_view_module_version": "^0.18",
            "_view_name": "LeafletMeasureControlView",
            "active_color": "orange",
            "capture_z_index": 10000,
            "completed_color": "#C8F2BE",
            "options": [
              "active_color",
              "capture_z_index",
              "completed_color",
              "popup_options",
              "position",
              "primary_area_unit",
              "primary_length_unit",
              "secondary_area_unit",
              "secondary_length_unit"
            ],
            "popup_options": {
              "className": "leaflet-measure-resultpopup",
              "autoPanPadding": [
                10,
                10
              ]
            },
            "position": "bottomleft",
            "primary_area_unit": "acres",
            "primary_length_unit": "kilometers",
            "secondary_area_unit": null,
            "secondary_length_unit": null
          }
        },
        "940771af922a40988a7ef2d73fbd5ab7": {
          "model_module": "jupyter-leaflet",
          "model_name": "LeafletWidgetControlModel",
          "model_module_version": "^0.18",
          "state": {
            "_model_module": "jupyter-leaflet",
            "_model_module_version": "^0.18",
            "_model_name": "LeafletWidgetControlModel",
            "_view_count": null,
            "_view_module": "jupyter-leaflet",
            "_view_module_version": "^0.18",
            "_view_name": "LeafletWidgetControlView",
            "max_height": null,
            "max_width": null,
            "min_height": null,
            "min_width": null,
            "options": [
              "position",
              "transparent_bg"
            ],
            "position": "topright",
            "transparent_bg": false,
            "widget": "IPY_MODEL_c9da99e49af84b3fbdd3251212e59858"
          }
        },
        "481241c635b34e8280a5d3000a1a1bbe": {
          "model_module": "jupyter-leaflet",
          "model_name": "LeafletAttributionControlModel",
          "model_module_version": "^0.18",
          "state": {
            "_model_module": "jupyter-leaflet",
            "_model_module_version": "^0.18",
            "_model_name": "LeafletAttributionControlModel",
            "_view_count": null,
            "_view_module": "jupyter-leaflet",
            "_view_module_version": "^0.18",
            "_view_name": "LeafletAttributionControlView",
            "options": [
              "position",
              "prefix"
            ],
            "position": "bottomright",
            "prefix": "ipyleaflet"
          }
        },
        "8046776015b24d80a7c7879fc06d5adf": {
          "model_module": "jupyter-leaflet",
          "model_name": "LeafletMapStyleModel",
          "model_module_version": "^0.18",
          "state": {
            "_model_module": "jupyter-leaflet",
            "_model_module_version": "^0.18",
            "_model_name": "LeafletMapStyleModel",
            "_view_count": null,
            "_view_module": "@jupyter-widgets/base",
            "_view_module_version": "1.2.0",
            "_view_name": "StyleView",
            "cursor": "grab"
          }
        },
        "6083a7ff480c42bbbe7422c9ae175c75": {
          "model_module": "jupyter-leaflet",
          "model_name": "LeafletMapStyleModel",
          "model_module_version": "^0.18",
          "state": {
            "_model_module": "jupyter-leaflet",
            "_model_module_version": "^0.18",
            "_model_name": "LeafletMapStyleModel",
            "_view_count": null,
            "_view_module": "@jupyter-widgets/base",
            "_view_module_version": "1.2.0",
            "_view_name": "StyleView",
            "cursor": "move"
          }
        },
        "a60b8fe2bc0d42309d2402270e67cc79": {
          "model_module": "jupyter-leaflet",
          "model_name": "LeafletTileLayerModel",
          "model_module_version": "^0.18",
          "state": {
            "_model_module": "jupyter-leaflet",
            "_model_module_version": "^0.18",
            "_model_name": "LeafletTileLayerModel",
            "_view_count": null,
            "_view_module": "jupyter-leaflet",
            "_view_module_version": "^0.18",
            "_view_name": "LeafletTileLayerView",
            "attribution": "&copy; <a href=\"https://www.openstreetmap.org/copyright\">OpenStreetMap</a> contributors",
            "base": true,
            "bottom": true,
            "bounds": null,
            "detect_retina": false,
            "loading": false,
            "max_native_zoom": null,
            "max_zoom": 19,
            "min_native_zoom": null,
            "min_zoom": 1,
            "name": "OpenStreetMap.Mapnik",
            "no_wrap": false,
            "opacity": 1,
            "options": [
              "attribution",
              "bounds",
              "detect_retina",
              "max_native_zoom",
              "max_zoom",
              "min_native_zoom",
              "min_zoom",
              "no_wrap",
              "tile_size",
              "tms",
              "zoom_offset"
            ],
            "pane": "",
            "popup": null,
            "popup_max_height": null,
            "popup_max_width": 300,
            "popup_min_width": 50,
            "show_loading": false,
            "subitems": [],
            "tile_size": 256,
            "tms": false,
            "url": "https://tile.openstreetmap.org/{z}/{x}/{y}.png",
            "visible": true,
            "zoom_offset": 0
          }
        },
        "dbf84ca6fcdb475a9b631ae2bb3db12d": {
          "model_module": "jupyter-leaflet",
          "model_name": "LeafletTileLayerModel",
          "model_module_version": "^0.18",
          "state": {
            "_model_module": "jupyter-leaflet",
            "_model_module_version": "^0.18",
            "_model_name": "LeafletTileLayerModel",
            "_view_count": null,
            "_view_module": "jupyter-leaflet",
            "_view_module_version": "^0.18",
            "_view_name": "LeafletTileLayerView",
            "attribution": "Google Earth Engine",
            "base": false,
            "bottom": true,
            "bounds": null,
            "detect_retina": false,
            "loading": false,
            "max_native_zoom": null,
            "max_zoom": 24,
            "min_native_zoom": null,
            "min_zoom": 0,
            "name": "Delhi",
            "no_wrap": false,
            "opacity": 1,
            "options": [
              "attribution",
              "bounds",
              "detect_retina",
              "max_native_zoom",
              "max_zoom",
              "min_native_zoom",
              "min_zoom",
              "no_wrap",
              "tile_size",
              "tms",
              "zoom_offset"
            ],
            "pane": "",
            "popup": null,
            "popup_max_height": null,
            "popup_max_width": 300,
            "popup_min_width": 50,
            "show_loading": false,
            "subitems": [],
            "tile_size": 256,
            "tms": false,
            "url": "https://earthengine.googleapis.com/v1/projects/kavyajeetbora-ee/maps/14257cd94b129c2215aff167eef8961d-c6fa40755fe3db94e06ffe740e8beb83/tiles/{z}/{x}/{y}",
            "visible": true,
            "zoom_offset": 0
          }
        },
        "e5b3c6be60af43c58c4e4c35a88c91e3": {
          "model_module": "@jupyter-widgets/base",
          "model_name": "LayoutModel",
          "model_module_version": "1.2.0",
          "state": {
            "_model_module": "@jupyter-widgets/base",
            "_model_module_version": "1.2.0",
            "_model_name": "LayoutModel",
            "_view_count": null,
            "_view_module": "@jupyter-widgets/base",
            "_view_module_version": "1.2.0",
            "_view_name": "LayoutView",
            "align_content": null,
            "align_items": null,
            "align_self": null,
            "border": null,
            "bottom": null,
            "display": null,
            "flex": null,
            "flex_flow": null,
            "grid_area": null,
            "grid_auto_columns": null,
            "grid_auto_flow": null,
            "grid_auto_rows": null,
            "grid_column": null,
            "grid_gap": null,
            "grid_row": null,
            "grid_template_areas": null,
            "grid_template_columns": null,
            "grid_template_rows": null,
            "height": "600px",
            "justify_content": null,
            "justify_items": null,
            "left": null,
            "margin": null,
            "max_height": null,
            "max_width": null,
            "min_height": null,
            "min_width": null,
            "object_fit": null,
            "object_position": null,
            "order": null,
            "overflow": null,
            "overflow_x": null,
            "overflow_y": null,
            "padding": null,
            "right": null,
            "top": null,
            "visibility": null,
            "width": null
          }
        },
        "76cf962216d746579f14c9ec9c622daa": {
          "model_module": "jupyter-leaflet",
          "model_name": "LeafletMapStyleModel",
          "model_module_version": "^0.18",
          "state": {
            "_model_module": "jupyter-leaflet",
            "_model_module_version": "^0.18",
            "_model_name": "LeafletMapStyleModel",
            "_view_count": null,
            "_view_module": "@jupyter-widgets/base",
            "_view_module_version": "1.2.0",
            "_view_name": "StyleView",
            "cursor": "grab"
          }
        },
        "aa10b4647993461b9321e71426a12b90": {
          "model_module": "@jupyter-widgets/controls",
          "model_name": "HBoxModel",
          "model_module_version": "1.5.0",
          "state": {
            "_dom_classes": [
              "geemap-colab"
            ],
            "_model_module": "@jupyter-widgets/controls",
            "_model_module_version": "1.5.0",
            "_model_name": "HBoxModel",
            "_view_count": null,
            "_view_module": "@jupyter-widgets/controls",
            "_view_module_version": "1.5.0",
            "_view_name": "HBoxView",
            "box_style": "",
            "children": [
              "IPY_MODEL_cb81a00112f0421c829aea3ac724621e"
            ],
            "layout": "IPY_MODEL_b537af9764844b529568a264baf6bf86"
          }
        },
        "c9da99e49af84b3fbdd3251212e59858": {
          "model_module": "@jupyter-widgets/controls",
          "model_name": "VBoxModel",
          "model_module_version": "1.5.0",
          "state": {
            "_dom_classes": [
              "geemap-colab"
            ],
            "_model_module": "@jupyter-widgets/controls",
            "_model_module_version": "1.5.0",
            "_model_name": "VBoxModel",
            "_view_count": null,
            "_view_module": "@jupyter-widgets/controls",
            "_view_module_version": "1.5.0",
            "_view_name": "VBoxView",
            "box_style": "",
            "children": [
              "IPY_MODEL_e9556a4223524f2f949e482feda7fb17"
            ],
            "layout": "IPY_MODEL_e1ef8ebb6c57494a9d367f85a7afac9a"
          }
        },
        "cb81a00112f0421c829aea3ac724621e": {
          "model_module": "@jupyter-widgets/controls",
          "model_name": "ToggleButtonModel",
          "model_module_version": "1.5.0",
          "state": {
            "_dom_classes": [],
            "_model_module": "@jupyter-widgets/controls",
            "_model_module_version": "1.5.0",
            "_model_name": "ToggleButtonModel",
            "_view_count": null,
            "_view_module": "@jupyter-widgets/controls",
            "_view_module_version": "1.5.0",
            "_view_name": "ToggleButtonView",
            "button_style": "",
            "description": "",
            "description_tooltip": null,
            "disabled": false,
            "icon": "globe",
            "layout": "IPY_MODEL_8b11abad9085477e8255542efb19de0a",
            "style": "IPY_MODEL_01ccff2b33ef403e8eb08428603bb51f",
            "tooltip": "Search location/data",
            "value": false
          }
        },
        "b537af9764844b529568a264baf6bf86": {
          "model_module": "@jupyter-widgets/base",
          "model_name": "LayoutModel",
          "model_module_version": "1.2.0",
          "state": {
            "_model_module": "@jupyter-widgets/base",
            "_model_module_version": "1.2.0",
            "_model_name": "LayoutModel",
            "_view_count": null,
            "_view_module": "@jupyter-widgets/base",
            "_view_module_version": "1.2.0",
            "_view_name": "LayoutView",
            "align_content": null,
            "align_items": null,
            "align_self": null,
            "border": null,
            "bottom": null,
            "display": null,
            "flex": null,
            "flex_flow": null,
            "grid_area": null,
            "grid_auto_columns": null,
            "grid_auto_flow": null,
            "grid_auto_rows": null,
            "grid_column": null,
            "grid_gap": null,
            "grid_row": null,
            "grid_template_areas": null,
            "grid_template_columns": null,
            "grid_template_rows": null,
            "height": null,
            "justify_content": null,
            "justify_items": null,
            "left": null,
            "margin": null,
            "max_height": null,
            "max_width": null,
            "min_height": null,
            "min_width": null,
            "object_fit": null,
            "object_position": null,
            "order": null,
            "overflow": null,
            "overflow_x": null,
            "overflow_y": null,
            "padding": null,
            "right": null,
            "top": null,
            "visibility": null,
            "width": null
          }
        },
        "e9556a4223524f2f949e482feda7fb17": {
          "model_module": "@jupyter-widgets/controls",
          "model_name": "ToggleButtonModel",
          "model_module_version": "1.5.0",
          "state": {
            "_dom_classes": [],
            "_model_module": "@jupyter-widgets/controls",
            "_model_module_version": "1.5.0",
            "_model_name": "ToggleButtonModel",
            "_view_count": null,
            "_view_module": "@jupyter-widgets/controls",
            "_view_module_version": "1.5.0",
            "_view_name": "ToggleButtonView",
            "button_style": "",
            "description": "",
            "description_tooltip": null,
            "disabled": false,
            "icon": "wrench",
            "layout": "IPY_MODEL_83b5f0127c96418884d8e2069ca392e5",
            "style": "IPY_MODEL_4173808f17844781a2b246bdef55fa80",
            "tooltip": "Toolbar",
            "value": false
          }
        },
        "e1ef8ebb6c57494a9d367f85a7afac9a": {
          "model_module": "@jupyter-widgets/base",
          "model_name": "LayoutModel",
          "model_module_version": "1.2.0",
          "state": {
            "_model_module": "@jupyter-widgets/base",
            "_model_module_version": "1.2.0",
            "_model_name": "LayoutModel",
            "_view_count": null,
            "_view_module": "@jupyter-widgets/base",
            "_view_module_version": "1.2.0",
            "_view_name": "LayoutView",
            "align_content": null,
            "align_items": null,
            "align_self": null,
            "border": null,
            "bottom": null,
            "display": null,
            "flex": null,
            "flex_flow": null,
            "grid_area": null,
            "grid_auto_columns": null,
            "grid_auto_flow": null,
            "grid_auto_rows": null,
            "grid_column": null,
            "grid_gap": null,
            "grid_row": null,
            "grid_template_areas": null,
            "grid_template_columns": null,
            "grid_template_rows": null,
            "height": null,
            "justify_content": null,
            "justify_items": null,
            "left": null,
            "margin": null,
            "max_height": null,
            "max_width": null,
            "min_height": null,
            "min_width": null,
            "object_fit": null,
            "object_position": null,
            "order": null,
            "overflow": null,
            "overflow_x": null,
            "overflow_y": null,
            "padding": null,
            "right": null,
            "top": null,
            "visibility": null,
            "width": null
          }
        },
        "8b11abad9085477e8255542efb19de0a": {
          "model_module": "@jupyter-widgets/base",
          "model_name": "LayoutModel",
          "model_module_version": "1.2.0",
          "state": {
            "_model_module": "@jupyter-widgets/base",
            "_model_module_version": "1.2.0",
            "_model_name": "LayoutModel",
            "_view_count": null,
            "_view_module": "@jupyter-widgets/base",
            "_view_module_version": "1.2.0",
            "_view_name": "LayoutView",
            "align_content": null,
            "align_items": null,
            "align_self": null,
            "border": null,
            "bottom": null,
            "display": null,
            "flex": null,
            "flex_flow": null,
            "grid_area": null,
            "grid_auto_columns": null,
            "grid_auto_flow": null,
            "grid_auto_rows": null,
            "grid_column": null,
            "grid_gap": null,
            "grid_row": null,
            "grid_template_areas": null,
            "grid_template_columns": null,
            "grid_template_rows": null,
            "height": "28px",
            "justify_content": null,
            "justify_items": null,
            "left": null,
            "margin": null,
            "max_height": null,
            "max_width": null,
            "min_height": null,
            "min_width": null,
            "object_fit": null,
            "object_position": null,
            "order": null,
            "overflow": null,
            "overflow_x": null,
            "overflow_y": null,
            "padding": "0px 0px 0px 4px",
            "right": null,
            "top": null,
            "visibility": null,
            "width": "28px"
          }
        },
        "01ccff2b33ef403e8eb08428603bb51f": {
          "model_module": "@jupyter-widgets/controls",
          "model_name": "DescriptionStyleModel",
          "model_module_version": "1.5.0",
          "state": {
            "_model_module": "@jupyter-widgets/controls",
            "_model_module_version": "1.5.0",
            "_model_name": "DescriptionStyleModel",
            "_view_count": null,
            "_view_module": "@jupyter-widgets/base",
            "_view_module_version": "1.2.0",
            "_view_name": "StyleView",
            "description_width": ""
          }
        },
        "83b5f0127c96418884d8e2069ca392e5": {
          "model_module": "@jupyter-widgets/base",
          "model_name": "LayoutModel",
          "model_module_version": "1.2.0",
          "state": {
            "_model_module": "@jupyter-widgets/base",
            "_model_module_version": "1.2.0",
            "_model_name": "LayoutModel",
            "_view_count": null,
            "_view_module": "@jupyter-widgets/base",
            "_view_module_version": "1.2.0",
            "_view_name": "LayoutView",
            "align_content": null,
            "align_items": null,
            "align_self": null,
            "border": null,
            "bottom": null,
            "display": null,
            "flex": null,
            "flex_flow": null,
            "grid_area": null,
            "grid_auto_columns": null,
            "grid_auto_flow": null,
            "grid_auto_rows": null,
            "grid_column": null,
            "grid_gap": null,
            "grid_row": null,
            "grid_template_areas": null,
            "grid_template_columns": null,
            "grid_template_rows": null,
            "height": "28px",
            "justify_content": null,
            "justify_items": null,
            "left": null,
            "margin": null,
            "max_height": null,
            "max_width": null,
            "min_height": null,
            "min_width": null,
            "object_fit": null,
            "object_position": null,
            "order": null,
            "overflow": null,
            "overflow_x": null,
            "overflow_y": null,
            "padding": "0px 0px 0px 4px",
            "right": null,
            "top": null,
            "visibility": null,
            "width": "28px"
          }
        },
        "4173808f17844781a2b246bdef55fa80": {
          "model_module": "@jupyter-widgets/controls",
          "model_name": "DescriptionStyleModel",
          "model_module_version": "1.5.0",
          "state": {
            "_model_module": "@jupyter-widgets/controls",
            "_model_module_version": "1.5.0",
            "_model_name": "DescriptionStyleModel",
            "_view_count": null,
            "_view_module": "@jupyter-widgets/base",
            "_view_module_version": "1.2.0",
            "_view_name": "StyleView",
            "description_width": ""
          }
        }
      }
    }
  },
  "cells": [
    {
      "cell_type": "markdown",
      "metadata": {
        "id": "view-in-github",
        "colab_type": "text"
      },
      "source": [
        "<a href=\"https://colab.research.google.com/github/kavyajeetbora/modern_geospatial_stack/blob/master/notebooks/metro_accessibility.ipynb\" target=\"_parent\"><img src=\"https://colab.research.google.com/assets/colab-badge.svg\" alt=\"Open In Colab\"/></a>"
      ]
    },
    {
      "cell_type": "code",
      "execution_count": 5,
      "metadata": {
        "colab": {
          "base_uri": "https://localhost:8080/",
          "height": 17
        },
        "id": "GQKLrZgI6kEV",
        "outputId": "b039166d-0e4c-404a-8fd8-bfda097b9aa6"
      },
      "outputs": [
        {
          "output_type": "display_data",
          "data": {
            "text/plain": [
              "<IPython.core.display.HTML object>"
            ],
            "text/html": [
              "\n",
              "            <style>\n",
              "                .geemap-dark {\n",
              "                    --jp-widgets-color: white;\n",
              "                    --jp-widgets-label-color: white;\n",
              "                    --jp-ui-font-color1: white;\n",
              "                    --jp-layout-color2: #454545;\n",
              "                    background-color: #383838;\n",
              "                }\n",
              "\n",
              "                .geemap-dark .jupyter-button {\n",
              "                    --jp-layout-color3: #383838;\n",
              "                }\n",
              "\n",
              "                .geemap-colab {\n",
              "                    background-color: var(--colab-primary-surface-color, white);\n",
              "                }\n",
              "\n",
              "                .geemap-colab .jupyter-button {\n",
              "                    --jp-layout-color3: var(--colab-primary-surface-color, white);\n",
              "                }\n",
              "            </style>\n",
              "            "
            ]
          },
          "metadata": {}
        }
      ],
      "source": [
        "!pip install -q osmnx\n",
        "!pip install -q pandana\n",
        "!pip install -q pygaul\n",
        "!pip install -q osmium\n",
        "!pip install -q -U pyarrow\n",
        "!pip install -q quackosm"
      ]
    },
    {
      "cell_type": "code",
      "source": [
        "import pygaul\n",
        "import ee\n",
        "import geemap\n",
        "import geopandas as gpd\n",
        "import pandas as pd\n",
        "import osmium\n",
        "import osmnx as ox\n",
        "import shapely\n",
        "import bz2\n",
        "import os\n",
        "\n",
        "ee.Authenticate()\n",
        "ee.Initialize(project='kavyajeetbora-ee')"
      ],
      "metadata": {
        "colab": {
          "base_uri": "https://localhost:8080/",
          "height": 17
        },
        "id": "dCZFidgPBI_R",
        "outputId": "9ee5c595-49de-470f-f48f-c74d220196a3"
      },
      "execution_count": 13,
      "outputs": [
        {
          "output_type": "display_data",
          "data": {
            "text/plain": [
              "<IPython.core.display.HTML object>"
            ],
            "text/html": [
              "\n",
              "            <style>\n",
              "                .geemap-dark {\n",
              "                    --jp-widgets-color: white;\n",
              "                    --jp-widgets-label-color: white;\n",
              "                    --jp-ui-font-color1: white;\n",
              "                    --jp-layout-color2: #454545;\n",
              "                    background-color: #383838;\n",
              "                }\n",
              "\n",
              "                .geemap-dark .jupyter-button {\n",
              "                    --jp-layout-color3: #383838;\n",
              "                }\n",
              "\n",
              "                .geemap-colab {\n",
              "                    background-color: var(--colab-primary-surface-color, white);\n",
              "                }\n",
              "\n",
              "                .geemap-colab .jupyter-button {\n",
              "                    --jp-layout-color3: var(--colab-primary-surface-color, white);\n",
              "                }\n",
              "            </style>\n",
              "            "
            ]
          },
          "metadata": {}
        }
      ]
    },
    {
      "cell_type": "code",
      "source": [
        "!wget https://download.geofabrik.de/asia/india/northern-zone-latest.osm.bz2 -O northern-zone-latest.osm.bz2"
      ],
      "metadata": {
        "id": "3_0LwnffUOjN",
        "outputId": "d85b4048-e029-426f-fbc0-8e63b4cfe873",
        "colab": {
          "base_uri": "https://localhost:8080/",
          "height": 218
        }
      },
      "execution_count": 7,
      "outputs": [
        {
          "output_type": "display_data",
          "data": {
            "text/plain": [
              "<IPython.core.display.HTML object>"
            ],
            "text/html": [
              "\n",
              "            <style>\n",
              "                .geemap-dark {\n",
              "                    --jp-widgets-color: white;\n",
              "                    --jp-widgets-label-color: white;\n",
              "                    --jp-ui-font-color1: white;\n",
              "                    --jp-layout-color2: #454545;\n",
              "                    background-color: #383838;\n",
              "                }\n",
              "\n",
              "                .geemap-dark .jupyter-button {\n",
              "                    --jp-layout-color3: #383838;\n",
              "                }\n",
              "\n",
              "                .geemap-colab {\n",
              "                    background-color: var(--colab-primary-surface-color, white);\n",
              "                }\n",
              "\n",
              "                .geemap-colab .jupyter-button {\n",
              "                    --jp-layout-color3: var(--colab-primary-surface-color, white);\n",
              "                }\n",
              "            </style>\n",
              "            "
            ]
          },
          "metadata": {}
        },
        {
          "output_type": "stream",
          "name": "stdout",
          "text": [
            "--2024-06-14 06:01:23--  https://download.geofabrik.de/asia/india/northern-zone-latest.osm.bz2\n",
            "Resolving download.geofabrik.de (download.geofabrik.de)... 65.109.48.72, 65.109.50.43, 2a01:4f9:5a:25c3::2, ...\n",
            "Connecting to download.geofabrik.de (download.geofabrik.de)|65.109.48.72|:443... connected.\n",
            "HTTP request sent, awaiting response... 200 OK\n",
            "Length: 394812798 (377M) [application/x-bzip2]\n",
            "Saving to: ‘northern-zone-latest.osm.bz2’\n",
            "\n",
            "northern-zone-lates 100%[===================>] 376.52M  1.35MB/s    in 4m 23s  \n",
            "\n",
            "2024-06-14 06:05:47 (1.43 MB/s) - ‘northern-zone-latest.osm.bz2’ saved [394812798/394812798]\n",
            "\n"
          ]
        }
      ]
    },
    {
      "cell_type": "code",
      "source": [
        "admin = ee.FeatureCollection('FAO/GAUL_SIMPLIFIED_500m/2015/level2')\n",
        "\n",
        "## Mumbai\n",
        "Mumbai = admin.filter(ee.Filter.eq('ADM2_NAME', 'Mumbai city'))\n",
        "Mumbai_suburban = admin.filter(ee.Filter.eq('ADM2_NAME', 'Mumbai Suburban'))\n",
        "Mumbai = Mumbai_suburban.merge(Mumbai)\n",
        "\n",
        "## Delhi\n",
        "Delhi = admin.filter(ee.Filter.eq('ADM2_NAME', 'Delhi'))\n",
        "\n",
        "## Bangalore\n",
        "Bangalore = admin.filter(ee.Filter.eq('ADM2_NAME', 'Bangalore Urban'))"
      ],
      "metadata": {
        "colab": {
          "base_uri": "https://localhost:8080/",
          "height": 17
        },
        "id": "Fdew1EpmAsFN",
        "outputId": "4cb1da29-a5d8-4e15-fd93-961ffa505d9c"
      },
      "execution_count": 14,
      "outputs": [
        {
          "output_type": "display_data",
          "data": {
            "text/plain": [
              "<IPython.core.display.HTML object>"
            ],
            "text/html": [
              "\n",
              "            <style>\n",
              "                .geemap-dark {\n",
              "                    --jp-widgets-color: white;\n",
              "                    --jp-widgets-label-color: white;\n",
              "                    --jp-ui-font-color1: white;\n",
              "                    --jp-layout-color2: #454545;\n",
              "                    background-color: #383838;\n",
              "                }\n",
              "\n",
              "                .geemap-dark .jupyter-button {\n",
              "                    --jp-layout-color3: #383838;\n",
              "                }\n",
              "\n",
              "                .geemap-colab {\n",
              "                    background-color: var(--colab-primary-surface-color, white);\n",
              "                }\n",
              "\n",
              "                .geemap-colab .jupyter-button {\n",
              "                    --jp-layout-color3: var(--colab-primary-surface-color, white);\n",
              "                }\n",
              "            </style>\n",
              "            "
            ]
          },
          "metadata": {}
        }
      ]
    },
    {
      "cell_type": "code",
      "source": [
        "Map = geemap.Map()\n",
        "Map.addLayer(ee_object=Mumbai, vis_params={'color':'red'}, name='Delhi')\n",
        "Map.centerObject(Mumbai, zoom=10)\n",
        "Map"
      ],
      "metadata": {
        "colab": {
          "base_uri": "https://localhost:8080/",
          "height": 621,
          "referenced_widgets": [
            "cfbab46e1ac843a1afb8207ace66121e",
            "08d0c52c2dcc4ca7ab950e2b727d6c3b",
            "66da5a80949740a18fb93af318f95cbf",
            "61217891db884e1f8c97f3b4e4057f03",
            "8f97f234a9b74209b007603fde2f0141",
            "df7ebae5f323449eb8fc4748ceb4f478",
            "159f7a01c1c2467786357acf096f4cfc",
            "940771af922a40988a7ef2d73fbd5ab7",
            "481241c635b34e8280a5d3000a1a1bbe",
            "8046776015b24d80a7c7879fc06d5adf",
            "6083a7ff480c42bbbe7422c9ae175c75",
            "a60b8fe2bc0d42309d2402270e67cc79",
            "dbf84ca6fcdb475a9b631ae2bb3db12d",
            "e5b3c6be60af43c58c4e4c35a88c91e3",
            "76cf962216d746579f14c9ec9c622daa",
            "aa10b4647993461b9321e71426a12b90",
            "c9da99e49af84b3fbdd3251212e59858",
            "cb81a00112f0421c829aea3ac724621e",
            "b537af9764844b529568a264baf6bf86",
            "e9556a4223524f2f949e482feda7fb17",
            "e1ef8ebb6c57494a9d367f85a7afac9a",
            "8b11abad9085477e8255542efb19de0a",
            "01ccff2b33ef403e8eb08428603bb51f",
            "83b5f0127c96418884d8e2069ca392e5",
            "4173808f17844781a2b246bdef55fa80"
          ]
        },
        "id": "JvQjMWU2BGOX",
        "outputId": "f786da3b-2934-42e0-ea98-6683f01d1689"
      },
      "execution_count": 15,
      "outputs": [
        {
          "output_type": "display_data",
          "data": {
            "text/plain": [
              "<IPython.core.display.HTML object>"
            ],
            "text/html": [
              "\n",
              "            <style>\n",
              "                .geemap-dark {\n",
              "                    --jp-widgets-color: white;\n",
              "                    --jp-widgets-label-color: white;\n",
              "                    --jp-ui-font-color1: white;\n",
              "                    --jp-layout-color2: #454545;\n",
              "                    background-color: #383838;\n",
              "                }\n",
              "\n",
              "                .geemap-dark .jupyter-button {\n",
              "                    --jp-layout-color3: #383838;\n",
              "                }\n",
              "\n",
              "                .geemap-colab {\n",
              "                    background-color: var(--colab-primary-surface-color, white);\n",
              "                }\n",
              "\n",
              "                .geemap-colab .jupyter-button {\n",
              "                    --jp-layout-color3: var(--colab-primary-surface-color, white);\n",
              "                }\n",
              "            </style>\n",
              "            "
            ]
          },
          "metadata": {}
        },
        {
          "output_type": "display_data",
          "data": {
            "text/plain": [
              "Map(center=[19.120278006108997, 72.87471842263231], controls=(WidgetControl(options=['position', 'transparent_…"
            ],
            "application/vnd.jupyter.widget-view+json": {
              "version_major": 2,
              "version_minor": 0,
              "model_id": "cfbab46e1ac843a1afb8207ace66121e"
            }
          },
          "metadata": {
            "application/vnd.jupyter.widget-view+json": {
              "colab": {
                "custom_widget_manager": {
                  "url": "https://ssl.gstatic.com/colaboratory-static/widgets/colab-cdn-widget-manager/2b70e893a8ba7c0f/manager.min.js"
                }
              }
            }
          }
        }
      ]
    },
    {
      "cell_type": "markdown",
      "source": [
        "Converting `ee.Geometry` to `geopandas.GeoDataFrame`"
      ],
      "metadata": {
        "id": "SXmBNN_eP4lE"
      }
    },
    {
      "cell_type": "code",
      "source": [
        "def extract_polygons(gdf):\n",
        "    polygons = []\n",
        "    for geom_collection in gdf['geometry']:\n",
        "        for geom in geom_collection.geoms:\n",
        "            if isinstance(geom, shapely.geometry.polygon.Polygon):\n",
        "                polygons.append(geom)\n",
        "\n",
        "\n",
        "    geometry = shapely.unary_union(polygons)\n",
        "\n",
        "    return geometry"
      ],
      "metadata": {
        "colab": {
          "base_uri": "https://localhost:8080/",
          "height": 17
        },
        "id": "4thpYxPBL7_H",
        "outputId": "88f4f296-a941-4306-bba0-25973e8f6eb4"
      },
      "execution_count": 22,
      "outputs": [
        {
          "output_type": "display_data",
          "data": {
            "text/plain": [
              "<IPython.core.display.HTML object>"
            ],
            "text/html": [
              "\n",
              "            <style>\n",
              "                .geemap-dark {\n",
              "                    --jp-widgets-color: white;\n",
              "                    --jp-widgets-label-color: white;\n",
              "                    --jp-ui-font-color1: white;\n",
              "                    --jp-layout-color2: #454545;\n",
              "                    background-color: #383838;\n",
              "                }\n",
              "\n",
              "                .geemap-dark .jupyter-button {\n",
              "                    --jp-layout-color3: #383838;\n",
              "                }\n",
              "\n",
              "                .geemap-colab {\n",
              "                    background-color: var(--colab-primary-surface-color, white);\n",
              "                }\n",
              "\n",
              "                .geemap-colab .jupyter-button {\n",
              "                    --jp-layout-color3: var(--colab-primary-surface-color, white);\n",
              "                }\n",
              "            </style>\n",
              "            "
            ]
          },
          "metadata": {}
        }
      ]
    },
    {
      "cell_type": "code",
      "source": [
        "## Delhi\n",
        "Delhi = admin.filter(ee.Filter.eq('ADM2_NAME', 'Delhi'))\n",
        "Bangalore = admin.filter(ee.Filter.eq('ADM2_NAME', 'Delhi'))\n",
        "delhi_gdf = geemap.ee_to_gdf(Delhi)\n",
        "bangalore_gdf = geemap.ee_to_gdf(Bangalore)\n",
        "\n",
        "bangalore_gdf"
      ],
      "metadata": {
        "colab": {
          "base_uri": "https://localhost:8080/",
          "height": 89
        },
        "id": "ETK4TGwvkH-8",
        "outputId": "8bc37e37-435c-42c9-92a9-63c2c3001ee0"
      },
      "execution_count": 27,
      "outputs": [
        {
          "output_type": "display_data",
          "data": {
            "text/plain": [
              "<IPython.core.display.HTML object>"
            ],
            "text/html": [
              "\n",
              "            <style>\n",
              "                .geemap-dark {\n",
              "                    --jp-widgets-color: white;\n",
              "                    --jp-widgets-label-color: white;\n",
              "                    --jp-ui-font-color1: white;\n",
              "                    --jp-layout-color2: #454545;\n",
              "                    background-color: #383838;\n",
              "                }\n",
              "\n",
              "                .geemap-dark .jupyter-button {\n",
              "                    --jp-layout-color3: #383838;\n",
              "                }\n",
              "\n",
              "                .geemap-colab {\n",
              "                    background-color: var(--colab-primary-surface-color, white);\n",
              "                }\n",
              "\n",
              "                .geemap-colab .jupyter-button {\n",
              "                    --jp-layout-color3: var(--colab-primary-surface-color, white);\n",
              "                }\n",
              "            </style>\n",
              "            "
            ]
          },
          "metadata": {}
        },
        {
          "output_type": "execute_result",
          "data": {
            "text/plain": [
              "                                            geometry  ADM0_CODE ADM0_NAME  \\\n",
              "0  POLYGON ((76.83180 28.58173, 76.83853 28.55703...        115     India   \n",
              "\n",
              "   ADM1_CODE ADM1_NAME  ADM2_CODE ADM2_NAME DISP_AREA  EXP2_YEAR  \\\n",
              "0       1489     Delhi      17633     Delhi        NO       3000   \n",
              "\n",
              "         STATUS  STR2_YEAR  Shape_Area  Shape_Leng  \n",
              "0  Member State       1000    0.138635    2.064431  "
            ],
            "text/html": [
              "\n",
              "  <div id=\"df-8974c5ef-630a-4fa0-8935-cb0c98677a2b\" class=\"colab-df-container\">\n",
              "    <div>\n",
              "<style scoped>\n",
              "    .dataframe tbody tr th:only-of-type {\n",
              "        vertical-align: middle;\n",
              "    }\n",
              "\n",
              "    .dataframe tbody tr th {\n",
              "        vertical-align: top;\n",
              "    }\n",
              "\n",
              "    .dataframe thead th {\n",
              "        text-align: right;\n",
              "    }\n",
              "</style>\n",
              "<table border=\"1\" class=\"dataframe\">\n",
              "  <thead>\n",
              "    <tr style=\"text-align: right;\">\n",
              "      <th></th>\n",
              "      <th>geometry</th>\n",
              "      <th>ADM0_CODE</th>\n",
              "      <th>ADM0_NAME</th>\n",
              "      <th>ADM1_CODE</th>\n",
              "      <th>ADM1_NAME</th>\n",
              "      <th>ADM2_CODE</th>\n",
              "      <th>ADM2_NAME</th>\n",
              "      <th>DISP_AREA</th>\n",
              "      <th>EXP2_YEAR</th>\n",
              "      <th>STATUS</th>\n",
              "      <th>STR2_YEAR</th>\n",
              "      <th>Shape_Area</th>\n",
              "      <th>Shape_Leng</th>\n",
              "    </tr>\n",
              "  </thead>\n",
              "  <tbody>\n",
              "    <tr>\n",
              "      <th>0</th>\n",
              "      <td>POLYGON ((76.83180 28.58173, 76.83853 28.55703...</td>\n",
              "      <td>115</td>\n",
              "      <td>India</td>\n",
              "      <td>1489</td>\n",
              "      <td>Delhi</td>\n",
              "      <td>17633</td>\n",
              "      <td>Delhi</td>\n",
              "      <td>NO</td>\n",
              "      <td>3000</td>\n",
              "      <td>Member State</td>\n",
              "      <td>1000</td>\n",
              "      <td>0.138635</td>\n",
              "      <td>2.064431</td>\n",
              "    </tr>\n",
              "  </tbody>\n",
              "</table>\n",
              "</div>\n",
              "    <div class=\"colab-df-buttons\">\n",
              "\n",
              "  <div class=\"colab-df-container\">\n",
              "    <button class=\"colab-df-convert\" onclick=\"convertToInteractive('df-8974c5ef-630a-4fa0-8935-cb0c98677a2b')\"\n",
              "            title=\"Convert this dataframe to an interactive table.\"\n",
              "            style=\"display:none;\">\n",
              "\n",
              "  <svg xmlns=\"http://www.w3.org/2000/svg\" height=\"24px\" viewBox=\"0 -960 960 960\">\n",
              "    <path d=\"M120-120v-720h720v720H120Zm60-500h600v-160H180v160Zm220 220h160v-160H400v160Zm0 220h160v-160H400v160ZM180-400h160v-160H180v160Zm440 0h160v-160H620v160ZM180-180h160v-160H180v160Zm440 0h160v-160H620v160Z\"/>\n",
              "  </svg>\n",
              "    </button>\n",
              "\n",
              "  <style>\n",
              "    .colab-df-container {\n",
              "      display:flex;\n",
              "      gap: 12px;\n",
              "    }\n",
              "\n",
              "    .colab-df-convert {\n",
              "      background-color: #E8F0FE;\n",
              "      border: none;\n",
              "      border-radius: 50%;\n",
              "      cursor: pointer;\n",
              "      display: none;\n",
              "      fill: #1967D2;\n",
              "      height: 32px;\n",
              "      padding: 0 0 0 0;\n",
              "      width: 32px;\n",
              "    }\n",
              "\n",
              "    .colab-df-convert:hover {\n",
              "      background-color: #E2EBFA;\n",
              "      box-shadow: 0px 1px 2px rgba(60, 64, 67, 0.3), 0px 1px 3px 1px rgba(60, 64, 67, 0.15);\n",
              "      fill: #174EA6;\n",
              "    }\n",
              "\n",
              "    .colab-df-buttons div {\n",
              "      margin-bottom: 4px;\n",
              "    }\n",
              "\n",
              "    [theme=dark] .colab-df-convert {\n",
              "      background-color: #3B4455;\n",
              "      fill: #D2E3FC;\n",
              "    }\n",
              "\n",
              "    [theme=dark] .colab-df-convert:hover {\n",
              "      background-color: #434B5C;\n",
              "      box-shadow: 0px 1px 3px 1px rgba(0, 0, 0, 0.15);\n",
              "      filter: drop-shadow(0px 1px 2px rgba(0, 0, 0, 0.3));\n",
              "      fill: #FFFFFF;\n",
              "    }\n",
              "  </style>\n",
              "\n",
              "    <script>\n",
              "      const buttonEl =\n",
              "        document.querySelector('#df-8974c5ef-630a-4fa0-8935-cb0c98677a2b button.colab-df-convert');\n",
              "      buttonEl.style.display =\n",
              "        google.colab.kernel.accessAllowed ? 'block' : 'none';\n",
              "\n",
              "      async function convertToInteractive(key) {\n",
              "        const element = document.querySelector('#df-8974c5ef-630a-4fa0-8935-cb0c98677a2b');\n",
              "        const dataTable =\n",
              "          await google.colab.kernel.invokeFunction('convertToInteractive',\n",
              "                                                    [key], {});\n",
              "        if (!dataTable) return;\n",
              "\n",
              "        const docLinkHtml = 'Like what you see? Visit the ' +\n",
              "          '<a target=\"_blank\" href=https://colab.research.google.com/notebooks/data_table.ipynb>data table notebook</a>'\n",
              "          + ' to learn more about interactive tables.';\n",
              "        element.innerHTML = '';\n",
              "        dataTable['output_type'] = 'display_data';\n",
              "        await google.colab.output.renderOutput(dataTable, element);\n",
              "        const docLink = document.createElement('div');\n",
              "        docLink.innerHTML = docLinkHtml;\n",
              "        element.appendChild(docLink);\n",
              "      }\n",
              "    </script>\n",
              "  </div>\n",
              "\n",
              "\n",
              "  <div id=\"id_41559a08-be30-47b1-94f7-43b803764e15\">\n",
              "    <style>\n",
              "      .colab-df-generate {\n",
              "        background-color: #E8F0FE;\n",
              "        border: none;\n",
              "        border-radius: 50%;\n",
              "        cursor: pointer;\n",
              "        display: none;\n",
              "        fill: #1967D2;\n",
              "        height: 32px;\n",
              "        padding: 0 0 0 0;\n",
              "        width: 32px;\n",
              "      }\n",
              "\n",
              "      .colab-df-generate:hover {\n",
              "        background-color: #E2EBFA;\n",
              "        box-shadow: 0px 1px 2px rgba(60, 64, 67, 0.3), 0px 1px 3px 1px rgba(60, 64, 67, 0.15);\n",
              "        fill: #174EA6;\n",
              "      }\n",
              "\n",
              "      [theme=dark] .colab-df-generate {\n",
              "        background-color: #3B4455;\n",
              "        fill: #D2E3FC;\n",
              "      }\n",
              "\n",
              "      [theme=dark] .colab-df-generate:hover {\n",
              "        background-color: #434B5C;\n",
              "        box-shadow: 0px 1px 3px 1px rgba(0, 0, 0, 0.15);\n",
              "        filter: drop-shadow(0px 1px 2px rgba(0, 0, 0, 0.3));\n",
              "        fill: #FFFFFF;\n",
              "      }\n",
              "    </style>\n",
              "    <button class=\"colab-df-generate\" onclick=\"generateWithVariable('bangalore_gdf')\"\n",
              "            title=\"Generate code using this dataframe.\"\n",
              "            style=\"display:none;\">\n",
              "\n",
              "  <svg xmlns=\"http://www.w3.org/2000/svg\" height=\"24px\"viewBox=\"0 0 24 24\"\n",
              "       width=\"24px\">\n",
              "    <path d=\"M7,19H8.4L18.45,9,17,7.55,7,17.6ZM5,21V16.75L18.45,3.32a2,2,0,0,1,2.83,0l1.4,1.43a1.91,1.91,0,0,1,.58,1.4,1.91,1.91,0,0,1-.58,1.4L9.25,21ZM18.45,9,17,7.55Zm-12,3A5.31,5.31,0,0,0,4.9,8.1,5.31,5.31,0,0,0,1,6.5,5.31,5.31,0,0,0,4.9,4.9,5.31,5.31,0,0,0,6.5,1,5.31,5.31,0,0,0,8.1,4.9,5.31,5.31,0,0,0,12,6.5,5.46,5.46,0,0,0,6.5,12Z\"/>\n",
              "  </svg>\n",
              "    </button>\n",
              "    <script>\n",
              "      (() => {\n",
              "      const buttonEl =\n",
              "        document.querySelector('#id_41559a08-be30-47b1-94f7-43b803764e15 button.colab-df-generate');\n",
              "      buttonEl.style.display =\n",
              "        google.colab.kernel.accessAllowed ? 'block' : 'none';\n",
              "\n",
              "      buttonEl.onclick = () => {\n",
              "        google.colab.notebook.generateWithVariable('bangalore_gdf');\n",
              "      }\n",
              "      })();\n",
              "    </script>\n",
              "  </div>\n",
              "\n",
              "    </div>\n",
              "  </div>\n"
            ],
            "application/vnd.google.colaboratory.intrinsic+json": {
              "type": "dataframe",
              "variable_name": "bangalore_gdf",
              "summary": "{\n  \"name\": \"bangalore_gdf\",\n  \"rows\": 1,\n  \"fields\": [\n    {\n      \"column\": \"geometry\",\n      \"properties\": {\n        \"dtype\": \"geometry\",\n        \"num_unique_values\": 1,\n        \"samples\": [\n          \"POLYGON ((76.83179521216248 28.58173325942175, 76.83853247703546 28.55702989215512, 76.85649854462837 28.548046907846857, 76.85874427371155 28.541309618692413, 76.8767103088663 28.527835071950317, 76.87895611037166 28.523343549967628, 76.87446455445959 28.514360570339583, 76.87895611037166 28.509869029061083, 76.88569335746699 28.512114778562974, 76.89467636703587 28.516606292559644, 76.89692210499442 28.518852058249177, 76.90815088345084 28.514360529771665, 76.92162541749076 28.51885205814138, 76.93285422325597 28.516606314855828, 76.94408296700149 28.514360525495686, 76.96878626557395 28.527835091605457, 76.97552358797505 28.52334356111572, 76.99124384671437 28.518852033743137, 77.0047183564369 28.514360546803726, 77.01145562178598 28.518852084515917, 77.01145562178598 28.52334358054628, 77.0047183564369 28.527835133673562, 76.99798115655702 28.532326655746083, 76.99573534022046 28.53681809067304, 77.00022684350023 28.5413096424259, 77.00696418241236 28.543555399707206, 77.01594715845613 28.532326622131126, 77.02043870443282 28.532326609339115, 77.03391322151255 28.527835108835145, 77.04065044440725 28.518852036671642, 77.04963346815155 28.51436053704802, 77.05637078041966 28.51436058747944, 77.06759952967185 28.52109781347334, 77.07209108764106 28.52109782476516, 77.08556563379027 28.50986905951397, 77.09005713553391 28.505377554590286, 77.10353168623757 28.496394488634145, 77.10802313016565 28.494148745950465, 77.10353168623757 28.482920017602062, 77.10128590117138 28.476182751444487, 77.10353168623757 28.469445435062106, 77.10577742923567 28.464953942005167, 77.10802313016565 28.458216638648356, 77.1125146691265 28.449233664122744, 77.11925196898886 28.442496429702647, 77.12374343781825 28.44025066511804, 77.13048071980414 28.438004881866444, 77.14170946883175 28.435759112709412, 77.15293830226507 28.42902189246473, 77.15518399467904 28.422284557073997, 77.16641278687969 28.408810032143, 77.17988732483626 28.413301563566982, 77.19560763167138 28.413301589492363, 77.20683637428502 28.413301565821754, 77.21581946118988 28.41554731381448, 77.2225567013053 28.420038805155635, 77.24052278373837 28.429021854591756, 77.24276848317716 28.43351332779593, 77.24501422752272 28.44249640617577, 77.24276848317716 28.446987921636694, 77.24052278373837 28.45372519589707, 77.23378551643096 28.46046245038553, 77.22704821518518 28.460462403206012, 77.2248024795982 28.46495393295015, 77.22704821518518 28.46944546744637, 77.23153973361953 28.476182729390846, 77.23603125650054 28.480674261560434, 77.24276848317716 28.485165700457944, 77.2539973028393 28.485165774676755, 77.2607345539501 28.487411521699297, 77.27196332460016 28.49639453506806, 77.2787005977107 28.49864027529934, 77.28543783460115 28.496394530576485, 77.2966666079821 28.491903033584926, 77.30115818398949 28.489657250099764, 77.30789544379597 28.489657275782598, 77.31463266590016 28.494148731739116, 77.3213699376273 28.498640313513672, 77.32586144053874 28.503131770422407, 77.32810725860006 28.50762326895907, 77.33484445322479 28.51211478410558, 77.33709027346902 28.509869062685024, 77.33709027346902 28.51660630859457, 77.33484445322479 28.52109780695157, 77.33035294577684 28.523343589340787, 77.3213699376273 28.536818114487378, 77.31463266590016 28.5413096233906, 77.31014116922302 28.543555360585575, 77.30340395116123 28.55029264802424, 77.29442088683105 28.561521427441864, 77.29442088683105 28.5660129787276, 77.29442088683105 28.57948751945098, 77.29442088683105 28.581733243216142, 77.30789544379597 28.5974535605885, 77.31014116922302 28.599699307862576, 77.31687843712332 28.599699278891904, 77.32810725860006 28.604190819532604, 77.33259876495207 28.606436544097267, 77.33709027346902 28.608682307253552, 77.33709027346902 28.61766535003316, 77.33709027346902 28.622156863706433, 77.33484445322479 28.626648380784324, 77.33035294577684 28.631139886768022, 77.3213699376273 28.63563141467061, 77.31463266590016 28.642368647374923, 77.31014116922302 28.644614419676056, 77.31238693915259 28.64686014027915, 77.31463266590016 28.651351678153038, 77.31463266590016 28.66258045585488, 77.31687843712332 28.671563499622632, 77.31687843712332 28.678300735704614, 77.32586144053874 28.682792228033918, 77.32810725860006 28.685038001538793, 77.32810725860006 28.6917752379262, 77.3213699376273 28.700758271480108, 77.31912416515547 28.703004081878795, 77.3213699376273 28.711987107626346, 77.32361566687217 28.71647860415078, 77.31687843712332 28.71647853964276, 77.30564967522284 28.718724318214136, 77.30115818398949 28.716478578917105, 77.2966666079821 28.711987099083366, 77.29217512260577 28.709741344083785, 77.28543783460115 28.711987100161345, 77.28319207353795 28.718724335623484, 77.28543783460115 28.723215824889536, 77.28094635712999 28.72995308423788, 77.27645479530702 28.734444656634025, 77.27196332460016 28.738936105844196, 77.26747185744165 28.738936137168448, 77.2607345539501 28.738936134419603, 77.25624300839561 28.73893610500876, 77.25175155441539 28.745673393669136, 77.2539973028393 28.75241069265115, 77.2495057631598 28.756902177488506, 77.24501422752272 28.756902139328073, 77.23827695380133 28.759147933233688, 77.22929399576878 28.77262250578438, 77.22031096803596 28.777113976060043, 77.21806519208766 28.781605535502482, 77.2225567013053 28.783851285228955, 77.2248024795982 28.788342770910727, 77.21806519208766 28.78834280300753, 77.2135736876311 28.78609701468045, 77.20908218802545 28.786096993920385, 77.20234488216234 28.78834274944099, 77.19785339516004 28.795080051477278, 77.19336191336798 28.801817271075173, 77.19560763167138 28.815291868194787, 77.2135736876311 28.813046116105745, 77.21806519208766 28.835503660271506, 77.2113279591408 28.8444866596535, 77.2113279591408 28.855715465769055, 77.20683637428502 28.86020695960753, 77.20459069338747 28.86245269923694, 77.20009911607754 28.864698439944327, 77.19336191336798 28.864698458027412, 77.18662459101179 28.86694422415712, 77.18437887810727 28.862452667625224, 77.16416704298328 28.860206976998914, 77.15967551579035 28.857961186731472, 77.15069247974812 28.848978198677234, 77.14170946883175 28.84224087228762, 77.13946369817454 28.842240903593908, 77.13272648384077 28.84448669800258, 77.13497220566556 28.853469661559764, 77.13497220566556 28.857961210554794, 77.12823500133005 28.86469846377663, 77.11026887680192 28.866944212766484, 77.10802313016565 28.8691900116847, 77.09904016185638 28.87143574397487, 77.08331986386068 28.873681475761988, 77.07658256583088 28.884910293699374, 77.06984532959619 28.88041876775511, 77.06535377569635 28.873681461397926, 77.04963346815155 28.873681462529806, 77.03840471588103 28.853469648489277, 77.03166745569725 28.83774940609929, 77.02493017176201 28.835503651800394, 77.01819295225395 28.83774940190416, 77.00696418241236 28.83550365592366, 76.98899808168959 28.83999514872009, 76.98450660302366 28.839995111880178, 76.98001504649176 28.837749414839898, 76.97327779662065 28.826520613233885, 76.97103205178101 28.824274878904536, 76.95980332260616 28.831012094864253, 76.95755750553299 28.831012141846145, 76.9553117350734 28.819783304702778, 76.94857452766564 28.817537562468257, 76.94183721273853 28.819783385137928, 76.93734575642269 28.80855457396486, 76.93734575642269 28.804063040645428, 76.94408296700149 28.79507999794667, 76.94183721273853 28.788342784071045, 76.94408296700149 28.779359750319507, 76.94632876794991 28.774868214718357, 76.93734575642269 28.759147918411486, 76.94632876794991 28.750164904126443, 76.95082024612176 28.74567336510271, 76.94857452766564 28.74118185958614, 76.95082024612176 28.73669037030212, 76.94183721273853 28.71647860286619, 76.95082024612176 28.70974129973396, 76.9553117350734 28.70524976192295, 76.9553117350734 28.700758294072738, 76.95082024612176 28.69402098829946, 76.94857452766564 28.687283803259756, 76.94632876794991 28.68279226389466, 76.94632876794991 28.67605496041209, 76.94183721273853 28.676054981594362, 76.93060843888148 28.673809204505208, 76.92387119056444 28.669317708205348, 76.91713392389484 28.658088923918857, 76.91713392389484 28.653597429649192, 76.93285422325597 28.63787714647569, 76.92611692252224 28.62889411576944, 76.92387119056444 28.628894125552094, 76.91039663918704 28.637877100248385, 76.90365942474548 28.637877126290547, 76.89692210499442 28.633385599007795, 76.89467636703587 28.633385579505372, 76.87895611037166 28.637877092522874, 76.8609900500012 28.601945048668775, 76.85425277477064 28.592961994803957, 76.84976128876548 28.590716223787414, 76.83404094911491 28.590716228243057, 76.83179521216248 28.58173325942175))\"\n        ],\n        \"semantic_type\": \"\",\n        \"description\": \"\"\n      }\n    },\n    {\n      \"column\": \"ADM0_CODE\",\n      \"properties\": {\n        \"dtype\": \"number\",\n        \"std\": null,\n        \"min\": 115,\n        \"max\": 115,\n        \"num_unique_values\": 1,\n        \"samples\": [\n          115\n        ],\n        \"semantic_type\": \"\",\n        \"description\": \"\"\n      }\n    },\n    {\n      \"column\": \"ADM0_NAME\",\n      \"properties\": {\n        \"dtype\": \"string\",\n        \"num_unique_values\": 1,\n        \"samples\": [\n          \"India\"\n        ],\n        \"semantic_type\": \"\",\n        \"description\": \"\"\n      }\n    },\n    {\n      \"column\": \"ADM1_CODE\",\n      \"properties\": {\n        \"dtype\": \"number\",\n        \"std\": null,\n        \"min\": 1489,\n        \"max\": 1489,\n        \"num_unique_values\": 1,\n        \"samples\": [\n          1489\n        ],\n        \"semantic_type\": \"\",\n        \"description\": \"\"\n      }\n    },\n    {\n      \"column\": \"ADM1_NAME\",\n      \"properties\": {\n        \"dtype\": \"string\",\n        \"num_unique_values\": 1,\n        \"samples\": [\n          \"Delhi\"\n        ],\n        \"semantic_type\": \"\",\n        \"description\": \"\"\n      }\n    },\n    {\n      \"column\": \"ADM2_CODE\",\n      \"properties\": {\n        \"dtype\": \"number\",\n        \"std\": null,\n        \"min\": 17633,\n        \"max\": 17633,\n        \"num_unique_values\": 1,\n        \"samples\": [\n          17633\n        ],\n        \"semantic_type\": \"\",\n        \"description\": \"\"\n      }\n    },\n    {\n      \"column\": \"ADM2_NAME\",\n      \"properties\": {\n        \"dtype\": \"string\",\n        \"num_unique_values\": 1,\n        \"samples\": [\n          \"Delhi\"\n        ],\n        \"semantic_type\": \"\",\n        \"description\": \"\"\n      }\n    },\n    {\n      \"column\": \"DISP_AREA\",\n      \"properties\": {\n        \"dtype\": \"string\",\n        \"num_unique_values\": 1,\n        \"samples\": [\n          \"NO\"\n        ],\n        \"semantic_type\": \"\",\n        \"description\": \"\"\n      }\n    },\n    {\n      \"column\": \"EXP2_YEAR\",\n      \"properties\": {\n        \"dtype\": \"number\",\n        \"std\": null,\n        \"min\": 3000,\n        \"max\": 3000,\n        \"num_unique_values\": 1,\n        \"samples\": [\n          3000\n        ],\n        \"semantic_type\": \"\",\n        \"description\": \"\"\n      }\n    },\n    {\n      \"column\": \"STATUS\",\n      \"properties\": {\n        \"dtype\": \"string\",\n        \"num_unique_values\": 1,\n        \"samples\": [\n          \"Member State\"\n        ],\n        \"semantic_type\": \"\",\n        \"description\": \"\"\n      }\n    },\n    {\n      \"column\": \"STR2_YEAR\",\n      \"properties\": {\n        \"dtype\": \"number\",\n        \"std\": null,\n        \"min\": 1000,\n        \"max\": 1000,\n        \"num_unique_values\": 1,\n        \"samples\": [\n          1000\n        ],\n        \"semantic_type\": \"\",\n        \"description\": \"\"\n      }\n    },\n    {\n      \"column\": \"Shape_Area\",\n      \"properties\": {\n        \"dtype\": \"number\",\n        \"std\": null,\n        \"min\": 0.138635096676,\n        \"max\": 0.138635096676,\n        \"num_unique_values\": 1,\n        \"samples\": [\n          0.138635096676\n        ],\n        \"semantic_type\": \"\",\n        \"description\": \"\"\n      }\n    },\n    {\n      \"column\": \"Shape_Leng\",\n      \"properties\": {\n        \"dtype\": \"number\",\n        \"std\": null,\n        \"min\": 2.06443050934,\n        \"max\": 2.06443050934,\n        \"num_unique_values\": 1,\n        \"samples\": [\n          2.06443050934\n        ],\n        \"semantic_type\": \"\",\n        \"description\": \"\"\n      }\n    }\n  ]\n}"
            }
          },
          "metadata": {},
          "execution_count": 27
        }
      ]
    },
    {
      "cell_type": "code",
      "source": [
        "Mumbai_gdf = geemap.ee_to_gdf(Mumbai)\n",
        "\n",
        "dfx = gpd.GeoDataFrame(extract_polygons(Mumbai_gdf).geoms)\n",
        "dfx['area'] = dfx[0].apply(lambda x: x.area)\n",
        "dfx = dfx.sort_values(by='area', ascending=False)\n",
        "mumbai_geom = dfx[0].iloc[0]\n",
        "\n",
        "Mumbai_gdf = Mumbai_gdf.drop(0,axis=0)\n",
        "Mumbai_gdf.loc[1, 'geometry'] = mumbai_geom\n",
        "Mumbai_gdf"
      ],
      "metadata": {
        "colab": {
          "base_uri": "https://localhost:8080/",
          "height": 89
        },
        "id": "JZDldxquWs_O",
        "outputId": "1de4f67a-0850-4066-8e0d-81bd3ced36d1"
      },
      "execution_count": 25,
      "outputs": [
        {
          "output_type": "display_data",
          "data": {
            "text/plain": [
              "<IPython.core.display.HTML object>"
            ],
            "text/html": [
              "\n",
              "            <style>\n",
              "                .geemap-dark {\n",
              "                    --jp-widgets-color: white;\n",
              "                    --jp-widgets-label-color: white;\n",
              "                    --jp-ui-font-color1: white;\n",
              "                    --jp-layout-color2: #454545;\n",
              "                    background-color: #383838;\n",
              "                }\n",
              "\n",
              "                .geemap-dark .jupyter-button {\n",
              "                    --jp-layout-color3: #383838;\n",
              "                }\n",
              "\n",
              "                .geemap-colab {\n",
              "                    background-color: var(--colab-primary-surface-color, white);\n",
              "                }\n",
              "\n",
              "                .geemap-colab .jupyter-button {\n",
              "                    --jp-layout-color3: var(--colab-primary-surface-color, white);\n",
              "                }\n",
              "            </style>\n",
              "            "
            ]
          },
          "metadata": {}
        },
        {
          "output_type": "execute_result",
          "data": {
            "text/plain": [
              "                                            geometry  ADM0_CODE ADM0_NAME  \\\n",
              "1  POLYGON ((72.79168 18.94520, 72.79168 18.94744...        115     India   \n",
              "\n",
              "   ADM1_CODE    ADM1_NAME  ADM2_CODE    ADM2_NAME DISP_AREA  EXP2_YEAR  \\\n",
              "1       1498  Maharashtra      70184  Mumbai city        NO       3000   \n",
              "\n",
              "         STATUS  STR2_YEAR  Shape_Area  Shape_Leng  \n",
              "1  Member State       1997    0.006605    0.794985  "
            ],
            "text/html": [
              "\n",
              "  <div id=\"df-1f7f49c7-c033-43fa-bfbb-20478e0200a0\" class=\"colab-df-container\">\n",
              "    <div>\n",
              "<style scoped>\n",
              "    .dataframe tbody tr th:only-of-type {\n",
              "        vertical-align: middle;\n",
              "    }\n",
              "\n",
              "    .dataframe tbody tr th {\n",
              "        vertical-align: top;\n",
              "    }\n",
              "\n",
              "    .dataframe thead th {\n",
              "        text-align: right;\n",
              "    }\n",
              "</style>\n",
              "<table border=\"1\" class=\"dataframe\">\n",
              "  <thead>\n",
              "    <tr style=\"text-align: right;\">\n",
              "      <th></th>\n",
              "      <th>geometry</th>\n",
              "      <th>ADM0_CODE</th>\n",
              "      <th>ADM0_NAME</th>\n",
              "      <th>ADM1_CODE</th>\n",
              "      <th>ADM1_NAME</th>\n",
              "      <th>ADM2_CODE</th>\n",
              "      <th>ADM2_NAME</th>\n",
              "      <th>DISP_AREA</th>\n",
              "      <th>EXP2_YEAR</th>\n",
              "      <th>STATUS</th>\n",
              "      <th>STR2_YEAR</th>\n",
              "      <th>Shape_Area</th>\n",
              "      <th>Shape_Leng</th>\n",
              "    </tr>\n",
              "  </thead>\n",
              "  <tbody>\n",
              "    <tr>\n",
              "      <th>1</th>\n",
              "      <td>POLYGON ((72.79168 18.94520, 72.79168 18.94744...</td>\n",
              "      <td>115</td>\n",
              "      <td>India</td>\n",
              "      <td>1498</td>\n",
              "      <td>Maharashtra</td>\n",
              "      <td>70184</td>\n",
              "      <td>Mumbai city</td>\n",
              "      <td>NO</td>\n",
              "      <td>3000</td>\n",
              "      <td>Member State</td>\n",
              "      <td>1997</td>\n",
              "      <td>0.006605</td>\n",
              "      <td>0.794985</td>\n",
              "    </tr>\n",
              "  </tbody>\n",
              "</table>\n",
              "</div>\n",
              "    <div class=\"colab-df-buttons\">\n",
              "\n",
              "  <div class=\"colab-df-container\">\n",
              "    <button class=\"colab-df-convert\" onclick=\"convertToInteractive('df-1f7f49c7-c033-43fa-bfbb-20478e0200a0')\"\n",
              "            title=\"Convert this dataframe to an interactive table.\"\n",
              "            style=\"display:none;\">\n",
              "\n",
              "  <svg xmlns=\"http://www.w3.org/2000/svg\" height=\"24px\" viewBox=\"0 -960 960 960\">\n",
              "    <path d=\"M120-120v-720h720v720H120Zm60-500h600v-160H180v160Zm220 220h160v-160H400v160Zm0 220h160v-160H400v160ZM180-400h160v-160H180v160Zm440 0h160v-160H620v160ZM180-180h160v-160H180v160Zm440 0h160v-160H620v160Z\"/>\n",
              "  </svg>\n",
              "    </button>\n",
              "\n",
              "  <style>\n",
              "    .colab-df-container {\n",
              "      display:flex;\n",
              "      gap: 12px;\n",
              "    }\n",
              "\n",
              "    .colab-df-convert {\n",
              "      background-color: #E8F0FE;\n",
              "      border: none;\n",
              "      border-radius: 50%;\n",
              "      cursor: pointer;\n",
              "      display: none;\n",
              "      fill: #1967D2;\n",
              "      height: 32px;\n",
              "      padding: 0 0 0 0;\n",
              "      width: 32px;\n",
              "    }\n",
              "\n",
              "    .colab-df-convert:hover {\n",
              "      background-color: #E2EBFA;\n",
              "      box-shadow: 0px 1px 2px rgba(60, 64, 67, 0.3), 0px 1px 3px 1px rgba(60, 64, 67, 0.15);\n",
              "      fill: #174EA6;\n",
              "    }\n",
              "\n",
              "    .colab-df-buttons div {\n",
              "      margin-bottom: 4px;\n",
              "    }\n",
              "\n",
              "    [theme=dark] .colab-df-convert {\n",
              "      background-color: #3B4455;\n",
              "      fill: #D2E3FC;\n",
              "    }\n",
              "\n",
              "    [theme=dark] .colab-df-convert:hover {\n",
              "      background-color: #434B5C;\n",
              "      box-shadow: 0px 1px 3px 1px rgba(0, 0, 0, 0.15);\n",
              "      filter: drop-shadow(0px 1px 2px rgba(0, 0, 0, 0.3));\n",
              "      fill: #FFFFFF;\n",
              "    }\n",
              "  </style>\n",
              "\n",
              "    <script>\n",
              "      const buttonEl =\n",
              "        document.querySelector('#df-1f7f49c7-c033-43fa-bfbb-20478e0200a0 button.colab-df-convert');\n",
              "      buttonEl.style.display =\n",
              "        google.colab.kernel.accessAllowed ? 'block' : 'none';\n",
              "\n",
              "      async function convertToInteractive(key) {\n",
              "        const element = document.querySelector('#df-1f7f49c7-c033-43fa-bfbb-20478e0200a0');\n",
              "        const dataTable =\n",
              "          await google.colab.kernel.invokeFunction('convertToInteractive',\n",
              "                                                    [key], {});\n",
              "        if (!dataTable) return;\n",
              "\n",
              "        const docLinkHtml = 'Like what you see? Visit the ' +\n",
              "          '<a target=\"_blank\" href=https://colab.research.google.com/notebooks/data_table.ipynb>data table notebook</a>'\n",
              "          + ' to learn more about interactive tables.';\n",
              "        element.innerHTML = '';\n",
              "        dataTable['output_type'] = 'display_data';\n",
              "        await google.colab.output.renderOutput(dataTable, element);\n",
              "        const docLink = document.createElement('div');\n",
              "        docLink.innerHTML = docLinkHtml;\n",
              "        element.appendChild(docLink);\n",
              "      }\n",
              "    </script>\n",
              "  </div>\n",
              "\n",
              "\n",
              "  <div id=\"id_cc9d76df-e840-4a14-a7c9-19c7a46180f6\">\n",
              "    <style>\n",
              "      .colab-df-generate {\n",
              "        background-color: #E8F0FE;\n",
              "        border: none;\n",
              "        border-radius: 50%;\n",
              "        cursor: pointer;\n",
              "        display: none;\n",
              "        fill: #1967D2;\n",
              "        height: 32px;\n",
              "        padding: 0 0 0 0;\n",
              "        width: 32px;\n",
              "      }\n",
              "\n",
              "      .colab-df-generate:hover {\n",
              "        background-color: #E2EBFA;\n",
              "        box-shadow: 0px 1px 2px rgba(60, 64, 67, 0.3), 0px 1px 3px 1px rgba(60, 64, 67, 0.15);\n",
              "        fill: #174EA6;\n",
              "      }\n",
              "\n",
              "      [theme=dark] .colab-df-generate {\n",
              "        background-color: #3B4455;\n",
              "        fill: #D2E3FC;\n",
              "      }\n",
              "\n",
              "      [theme=dark] .colab-df-generate:hover {\n",
              "        background-color: #434B5C;\n",
              "        box-shadow: 0px 1px 3px 1px rgba(0, 0, 0, 0.15);\n",
              "        filter: drop-shadow(0px 1px 2px rgba(0, 0, 0, 0.3));\n",
              "        fill: #FFFFFF;\n",
              "      }\n",
              "    </style>\n",
              "    <button class=\"colab-df-generate\" onclick=\"generateWithVariable('Mumbai_gdf')\"\n",
              "            title=\"Generate code using this dataframe.\"\n",
              "            style=\"display:none;\">\n",
              "\n",
              "  <svg xmlns=\"http://www.w3.org/2000/svg\" height=\"24px\"viewBox=\"0 0 24 24\"\n",
              "       width=\"24px\">\n",
              "    <path d=\"M7,19H8.4L18.45,9,17,7.55,7,17.6ZM5,21V16.75L18.45,3.32a2,2,0,0,1,2.83,0l1.4,1.43a1.91,1.91,0,0,1,.58,1.4,1.91,1.91,0,0,1-.58,1.4L9.25,21ZM18.45,9,17,7.55Zm-12,3A5.31,5.31,0,0,0,4.9,8.1,5.31,5.31,0,0,0,1,6.5,5.31,5.31,0,0,0,4.9,4.9,5.31,5.31,0,0,0,6.5,1,5.31,5.31,0,0,0,8.1,4.9,5.31,5.31,0,0,0,12,6.5,5.46,5.46,0,0,0,6.5,12Z\"/>\n",
              "  </svg>\n",
              "    </button>\n",
              "    <script>\n",
              "      (() => {\n",
              "      const buttonEl =\n",
              "        document.querySelector('#id_cc9d76df-e840-4a14-a7c9-19c7a46180f6 button.colab-df-generate');\n",
              "      buttonEl.style.display =\n",
              "        google.colab.kernel.accessAllowed ? 'block' : 'none';\n",
              "\n",
              "      buttonEl.onclick = () => {\n",
              "        google.colab.notebook.generateWithVariable('Mumbai_gdf');\n",
              "      }\n",
              "      })();\n",
              "    </script>\n",
              "  </div>\n",
              "\n",
              "    </div>\n",
              "  </div>\n"
            ],
            "application/vnd.google.colaboratory.intrinsic+json": {
              "type": "dataframe",
              "variable_name": "Mumbai_gdf",
              "summary": "{\n  \"name\": \"Mumbai_gdf\",\n  \"rows\": 1,\n  \"fields\": [\n    {\n      \"column\": \"geometry\",\n      \"properties\": {\n        \"dtype\": \"geometry\",\n        \"num_unique_values\": 1,\n        \"samples\": [\n          \"POLYGON ((72.79168059208037 18.945195359278753, 72.79168059208037 18.94744116424263, 72.79168059208037 18.949686895481776, 72.79392636252199 18.951932679973048, 72.79392636252199 18.95417837154259, 72.79617211246406 18.954178397584748, 72.79617211246406 18.956424123218405, 72.7984179320615 18.95642414450848, 72.7984179320615 18.95866990420625, 72.80066364098649 18.95866990358641, 72.80066364098649 18.960915697312366, 72.80066364098649 18.963161417241718, 72.80290941954888 18.96540718597654, 72.80290941954888 18.967652953741187, 72.80290941954888 18.969898735312935, 72.80290941954888 18.972144443043167, 72.8051551775668 18.972144417360333, 72.8051551775668 18.974390246704488, 72.8051551775668 18.97663600218018, 72.80740091504025 18.978881685063012, 72.80964672211518 18.978881749050007, 72.81189241845476 18.97888168326638, 72.81189241845476 18.981127439101396, 72.81413818437787 18.98112745617837, 72.81413818437787 18.98337324592479, 72.81413818437787 18.98561896174884, 72.81413818437787 18.98786477896574, 72.81189241845476 18.987864701423163, 72.81189241845476 18.990110512199145, 72.81189241845476 18.992356249025807, 72.81189241845476 18.994601999542798, 72.81189241845476 18.99684776375011, 72.81189241845476 19.00133924551523, 72.81189241845476 19.00358505071267, 72.81413818437787 19.005830757679334, 72.81413818437787 19.008076522650217, 72.81413818437787 19.010322301239558, 72.81638392971158 19.01032228374936, 72.81638392971158 19.0125680084308, 72.81638392971158 19.014813834379325, 72.81638392971158 19.01705958624379, 72.81638392971158 19.01930535169976, 72.81638392971158 19.02155104304472, 72.81638392971158 19.023796835620832, 72.81862974460184 19.02379682633225, 72.81862974460184 19.0215511012825, 72.81862974460184 19.01930530212174, 72.82087544872084 19.019305298034404, 72.82087544872084 19.017059579973548, 72.82312122237843 19.01705953074587, 72.82536697539274 19.017059535596772, 72.82536697539274 19.019305293929104, 72.82761270776376 19.019305285323245, 72.82985850963743 19.021551063876654, 72.83210420068595 19.02379685407223, 72.83434996121017 19.02604258536527, 72.83434996121017 19.028288303066805, 72.8365957912101 19.030534096756824, 72.8365957912101 19.03277986161991, 72.83884151034893 19.035025612810635, 72.83884151034893 19.037271337087837, 72.83884151034893 19.039517162533304, 72.83884151034893 19.04176291375996, 72.83884151034893 19.044008590767813, 72.8365957912101 19.04400862515532, 72.8365957912101 19.046254383173242, 72.8365957912101 19.048500154638944, 72.83434996121017 19.048500106570096, 72.83210420068595 19.04850012114077, 72.83210420068595 19.046254389928574, 72.82985850963743 19.04625439957648, 72.82985850963743 19.04400861424079, 72.82761270776376 19.04400860179014, 72.82536697539274 19.044008651987998, 72.82536697539274 19.041762920353595, 72.82312122237843 19.041762869374203, 72.82087544872084 19.04176287244644, 72.81862974460184 19.041762850491615, 72.81638392971158 19.04176287398256, 72.81638392971158 19.044008612749586, 72.81862974460184 19.044008609398873, 72.81862974460184 19.04625438176289, 72.81862974460184 19.048500167565702, 72.82087544872084 19.04850016225666, 72.82087544872084 19.05074589395394, 72.82087544872084 19.052991639063073, 72.82312122237843 19.052991648980473, 72.82312122237843 19.0552374276327, 72.82312122237843 19.05748313199425, 72.82087544872084 19.057483169498912, 72.82087544872084 19.05972895479867, 72.82087544872084 19.06197466579877, 72.82312122237843 19.061974668565583, 72.82312122237843 19.064220413054876, 72.82312122237843 19.066466170902117, 72.82312122237843 19.068711942098325, 72.82312122237843 19.07095772662553, 72.82087544872084 19.070957731027274, 72.82087544872084 19.073203421060697, 72.82087544872084 19.075449212091705, 72.82087544872084 19.077694928742208, 72.82312122237843 19.0776949847342, 72.82312122237843 19.079940734802033, 72.82536697539274 19.082186473021086, 72.82536697539274 19.08443226976538, 72.82536697539274 19.08667799208425, 72.82536697539274 19.088923727644293, 72.82536697539274 19.0911694764455, 72.82536697539274 19.095661013717518, 72.82536697539274 19.09790680217036, 72.82536697539274 19.100152516116935, 72.82312122237843 19.102398262672356, 72.82312122237843 19.104644070555757, 72.82312122237843 19.106889803905943, 72.82312122237843 19.109135550416447, 72.82312122237843 19.1113813100693, 72.82087544872084 19.11138130296363, 72.82087544872084 19.113627055627592, 72.82087544872084 19.115872821406956, 72.81862974460184 19.11811859541489, 72.81862974460184 19.120364367284836, 72.81638392971158 19.120364299911188, 72.81638392971158 19.122610064747324, 72.81638392971158 19.124855842662928, 72.81413818437787 19.124855797603434, 72.81413818437787 19.127101568467264, 72.81413818437787 19.12934735238362, 72.81189241845476 19.129347321014446, 72.81189241845476 19.131593097852075, 72.80964672211518 19.133838878669238, 72.80964672211518 19.13608466144473, 72.80740091504025 19.136084589840017, 72.8051551775668 19.138330336323573, 72.80290941954888 19.138330361072157, 72.80290941954888 19.140576109469123, 72.80290941954888 19.14282187086471, 72.80290941954888 19.145067645240957, 72.80066364098649 19.14506766348574, 72.80066364098649 19.14282190924074, 72.80066364098649 19.140576167994364, 72.7984179320615 19.140576113691207, 72.7984179320615 19.142821922490892, 72.79617211246406 19.142821893304628, 72.79617211246406 19.140576104654155, 72.79617211246406 19.13833032899332, 72.79617211246406 19.136084654042612, 72.79617211246406 19.1338388167304, 72.79617211246406 19.131593080128315, 72.79392636252199 19.13159312656223, 72.79392636252199 19.12934733546834, 72.79168059208037 19.12934736829278, 72.79168059208037 19.131593139228478, 72.78943489133005 19.131593126768845, 72.78943489133005 19.129347375991344, 72.78718907993422 19.12934734128044, 72.78718907993422 19.131593071899747, 72.78494333824767 19.131593079598307, 72.78494333824767 19.133838890787512, 72.78718907993422 19.13383881556259, 72.78718907993422 19.13608457225999, 72.78718907993422 19.138330341982957, 72.78494333824767 19.138330376882507, 72.78494333824767 19.14057613945489, 72.78718907993422 19.140576124713533, 72.78718907993422 19.142821920451716, 72.78718907993422 19.145067641485998, 72.78943489133005 19.145067641926172, 72.78943489133005 19.147313396099303, 72.78943489133005 19.149559163235125, 72.78718907993422 19.14955912247856, 72.78718907993422 19.15180488241888, 72.78494333824767 19.15405063678964, 72.78494333824767 19.15629640246121, 72.78269757610649 19.156296417669687, 72.78269757610649 19.15854217610982, 72.78269757610649 19.16078794745874, 72.78269757610649 19.163033644031895, 72.78045188370152 19.163033661306496, 72.78045188370152 19.16527943829684, 72.78045188370152 19.167525228178004, 72.78269757610649 19.167525163535235, 72.78494333824767 19.167525161424194, 72.78718907993422 19.167525213194104, 72.78718907993422 19.169770988729177, 72.78943489133005 19.169770947792948, 72.79168059208037 19.169770952059945, 72.79168059208037 19.172016693063775, 72.79392636252199 19.172016692318174, 72.79392636252199 19.17426246632611, 72.79617211246406 19.17650825887527, 72.79617211246406 19.178753990994764, 72.79617211246406 19.183245493663676, 72.79617211246406 19.185491264204114, 72.79617211246406 19.187736959825056, 72.79617211246406 19.189982755931545, 72.79617211246406 19.192228477100574, 72.79617211246406 19.196720045382435, 72.79392636252199 19.196720033812134, 72.79168059208037 19.194474281992587, 72.79168059208037 19.192228500645417, 72.78943489133005 19.19222847030931, 72.78718907993422 19.192228485149478, 72.78494333824767 19.19222847480089, 72.78269757610649 19.194474219038653, 72.78045188370152 19.194474304890644, 72.78045188370152 19.196719998238848, 72.78045188370152 19.198965792018704, 72.78045188370152 19.201211510825164, 72.78269757610649 19.201211573132312, 72.78494333824767 19.201211522548178, 72.78494333824767 19.203457294373205, 72.78269757610649 19.203457324808127, 72.78045188370152 19.203457330045307, 72.77820608068699 19.20345729272929, 72.77596034743561 19.20570302183044, 72.77596034743561 19.20794882613855, 72.77820608068699 19.20794884126618, 72.77820608068699 19.210194590714174, 72.78045188370152 19.21244029538115, 72.78045188370152 19.214686090328815, 72.78045188370152 19.216931810222235, 72.77820608068699 19.21917753975458, 72.77820608068699 19.22142335247092, 72.77596034743561 19.221423304105624, 72.77596034743561 19.2236691092851, 72.77596034743561 19.2259148393744, 72.77820608068699 19.225914840353564, 72.77820608068699 19.228160603195438, 72.78045188370152 19.23040639468459, 72.78045188370152 19.23265211514395, 72.78045188370152 19.23489784817074, 72.78045188370152 19.237143593755977, 72.78045188370152 19.239389351881698, 72.78045188370152 19.241635122547898, 72.78045188370152 19.243880905736614, 72.78269757610649 19.246126640497156, 72.78269757610649 19.24837238114166, 72.78269757610649 19.25061813428173, 72.78269757610649 19.255109677994668, 72.78269757610649 19.257355380838064, 72.78045188370152 19.25735542877217, 72.78045188370152 19.25960121163749, 72.78269757610649 19.259601183834633, 72.78269757610649 19.26184691157035, 72.78494333824767 19.261846966367578, 72.78494333824767 19.264092726676207, 72.78494333824767 19.26633841167906, 72.78943489133005 19.264092695648397, 72.79392636252199 19.26184695109622, 72.80290941954888 19.259601220117588, 72.80740091504025 19.259601205376235, 72.81189241845476 19.259601151234772, 72.81862974460184 19.2551096962125, 72.82536697539274 19.248372407147887, 72.82536697539274 19.246126635143195, 72.82985850963743 19.246126621012696, 72.82985850963743 19.2438809090514, 72.8365957912101 19.24388093706087, 72.84108729892755 19.243880911755326, 72.84782454030059 19.248372389990063, 72.85007024592878 19.252863941347666, 72.85007024592878 19.261846908776587, 72.8545617751968 19.264092680197372, 72.86803631450084 19.26858420288075, 72.87926513994815 19.26409268648558, 72.88600240078769 19.259601165023913, 72.89947689770024 19.25061817821833, 72.90396840903789 19.24837236900542, 72.91968875697094 19.246126678226396, 72.91968875697094 19.24163515592031, 72.92418024973144 19.23265213047819, 72.93316325208686 19.221423298742682, 72.93990052951828 19.212440340665225, 72.9488835696838 19.20345727047802, 72.9488835696838 19.18998273369824, 72.96011229745727 19.185491243300316, 72.96684962111601 19.1832454768023, 72.97583263098134 19.18099970717814, 72.98256986678484 19.176508181871682, 72.98256986678484 19.172016677783432, 72.9803241429029 19.1697709659479, 72.9803241429029 19.167525221988612, 72.97807839763207 19.15854215423584, 72.97807839763207 19.156296406728206, 72.97807839763207 19.14731337015596, 72.97358684295969 19.138330357191435, 72.9713411236861 19.131593109673904, 72.96460383783746 19.122610083845508, 72.96235803325088 19.113627027465405, 72.96011229745727 19.104644051807917, 72.95786654038258 19.097906804056823, 72.95786654038258 19.093415244021497, 72.95562076201782 19.0866779690245, 72.95562076201782 19.082186493242162, 72.95562076201782 19.07544920347686, 72.95786654038258 19.073203483242082, 72.95786654038258 19.070957710608567, 72.95786654038258 19.06871195126114, 72.96011229745727 19.06646615743637, 72.96011229745727 19.06422040475444, 72.96235803325088 19.06422039110005, 72.96235803325088 19.059728885826022, 72.96235803325088 19.057483153203474, 72.96235803325088 19.055237433938874, 72.96235803325088 19.048500180959582, 72.96011229745727 19.041762910957218, 72.96011229745727 19.037271362528124, 72.95786654038258 19.032779864287907, 72.95337505249095 19.028288356184188, 72.95112932170996 19.023796810189527, 72.94439200191397 19.01930533249378, 72.9376547615111 19.014813784576727, 72.93091751068776 19.010322333596875, 72.9264259644326 19.005830774414946, 72.9219345139019 19.001339312628364, 72.91744297893855 19.001339284879403, 72.9129514497424 18.999093487946464, 72.91070569860557 18.996847775365328, 72.90621422330831 18.9968477809798, 72.90396840903789 18.99460197387793, 72.90172266387486 18.994602048680644, 72.89723120065098 18.994602018515216, 72.89723120065098 18.996847757551738, 72.89498539248011 18.996847799377296, 72.88600240078769 18.994602035143032, 72.88600240078769 18.996847761585173, 72.88600240078769 18.999093501690687, 72.88600240078769 19.00133925544161, 72.88375657795632 19.001339273318088, 72.88375657795632 19.003585020637072, 72.88375657795632 19.00583078160147, 72.88375657795632 19.008076556175343, 72.88151082434014 19.008076576522182, 72.87926513994815 19.005830749738227, 72.87701934451539 19.005830810724852, 72.87477361832478 19.00583075900884, 72.87252787124834 19.005830761416323, 72.87028210331302 19.003585002068895, 72.86803631450084 19.00358504512515, 72.8657905949937 19.003585063172302, 72.86354485463666 19.003585047658397, 72.86354485463666 19.00133930566642, 72.86129909345667 19.001339276686767, 72.86129909345667 18.999093480750957, 72.86129909345667 18.996847786154095, 72.86129909345667 18.994602017536053, 72.85905331145372 18.992356280448877, 72.8568075086458 18.992356264746327, 72.85905331145372 18.987864764161504, 72.85905331145372 18.98561898274247, 72.86129909345667 18.98337320447652, 72.86129909345667 18.981127518081276, 72.8568075086458 18.978881738072594, 72.8545617751968 18.978881730329118, 72.8545617751968 18.976635956384065, 72.8568075086458 18.976635944014266, 72.8545617751968 18.974390196201202, 72.8545617751968 18.972144449789514, 72.8523160209518 18.97214446884278, 72.85007024592878 18.97214445438889, 72.85007024592878 18.969898674317328, 72.8523160209518 18.96989866865794, 72.8523160209518 18.96765296993781, 72.85007024592878 18.967652908034903, 72.85007024592878 18.96540715555959, 72.85007024592878 18.963161416909344, 72.84782454030059 18.960915665565903, 72.84782454030059 18.95866988703046, 72.84782454030059 18.954178371506657, 72.84557881391235 18.95193265501785, 72.84557881391235 18.949686864391083, 72.84782454030059 18.947441114619693, 72.84557881391235 18.942949663594927, 72.84333297663608 18.93621235677062, 72.84333297663608 18.933966596093683, 72.84108729892755 18.93396663149629, 72.84108729892755 18.931720817243832, 72.83884151034893 18.93172083078144, 72.8365957912101 18.929475059396587, 72.8365957912101 18.92722931338914, 72.83884151034893 18.927229372156926, 72.83884151034893 18.92498362002297, 72.84108729892755 18.92273778781319, 72.84108729892755 18.920492043575422, 72.83884151034893 18.92049207012064, 72.83434996121017 18.92273780291387, 72.83210420068595 18.918246316522428, 72.82985850963743 18.91600054341281, 72.83210420068595 18.916000593260325, 72.82985850963743 18.913754766700947, 72.82761270776376 18.911509040177958, 72.82536697539274 18.9070175613144, 72.82312122237843 18.90926325344988, 72.82087544872084 18.90926330561505, 72.82087544872084 18.907017564108163, 72.81862974460184 18.907017523908554, 72.81862974460184 18.90477181666341, 72.81862974460184 18.902526035891164, 72.81638392971158 18.900280247564083, 72.81638392971158 18.898034515211027, 72.81413818437787 18.89803448883649, 72.81413818437787 18.895788790790096, 72.81413818437787 18.893543019261514, 72.81189241845476 18.89354299982197, 72.81189241845476 18.891297262626995, 72.80964672211518 18.89129723849825, 72.80964672211518 18.889051448024194, 72.80740091504025 18.88905148975992, 72.8051551775668 18.886805770710918, 72.8051551775668 18.884559961354277, 72.80290941954888 18.884559985195565, 72.80066364098649 18.884559975646475, 72.80290941954888 18.886805774367062, 72.80290941954888 18.889051490110266, 72.80290941954888 18.891297220028886, 72.8051551775668 18.891297256743034, 72.8051551775668 18.893543021031196, 72.8051551775668 18.89578871184615, 72.80290941954888 18.895788722401356, 72.80290941954888 18.898034494828256, 72.8051551775668 18.898034504458195, 72.8051551775668 18.900280223579063, 72.80290941954888 18.900280281394636, 72.80290941954888 18.902525994460863, 72.80290941954888 18.9070175505975, 72.8051551775668 18.909263328917348, 72.8051551775668 18.911509030961245, 72.80740091504025 18.913754776914793, 72.80964672211518 18.913754781864508, 72.81189241845476 18.91150905581763, 72.81413818437787 18.911509061360235, 72.81413818437787 18.913754770536755, 72.81638392971158 18.91375476281124, 72.81638392971158 18.91600059387118, 72.81638392971158 18.91824635134113, 72.81862974460184 18.918246271400054, 72.82087544872084 18.918246324768962, 72.82087544872084 18.91600052697364, 72.82312122237843 18.916000535283057, 72.82312122237843 18.918246353236576, 72.82536697539274 18.920492025124027, 72.82536697539274 18.922737803668454, 72.82312122237843 18.922737855977353, 72.82087544872084 18.922737787193352, 72.82087544872084 18.92498353944409, 72.81862974460184 18.92498360089784, 72.82087544872084 18.92722930571753, 72.82087544872084 18.92947508598672, 72.82312122237843 18.933966595123504, 72.82312122237843 18.93621234984461, 72.82312122237843 18.938458118525535, 72.82312122237843 18.940703901157296, 72.82312122237843 18.942949610082287, 72.82312122237843 18.945195420579786, 72.82087544872084 18.945195413195634, 72.82087544872084 18.947441129801224, 72.81862974460184 18.947441164988234, 72.81862974460184 18.94968687535053, 72.81638392971158 18.95193264008785, 72.81413818437787 18.951932655628703, 72.81413818437787 18.954178441117108, 72.81189241845476 18.954178402992607, 72.80964672211518 18.954178427597462, 72.80740091504025 18.95417841012523, 72.8051551775668 18.951932662905058, 72.80290941954888 18.949686848778363, 72.80066364098649 18.94968686738247, 72.80066364098649 18.947441143051375, 72.7984179320615 18.94744115691238, 72.7984179320615 18.945195379023723, 72.79617211246406 18.945195371001766, 72.79617211246406 18.942949627231126, 72.79392636252199 18.94070390482242, 72.79392636252199 18.942949614475047, 72.79392636252199 18.945195338060547, 72.79168059208037 18.945195359278753), (72.8051551775668 19.14506768090407, 72.8051551775668 19.147313400707663, 72.80290941954888 19.145067645240957, 72.8051551775668 19.14506768090407))\"\n        ],\n        \"semantic_type\": \"\",\n        \"description\": \"\"\n      }\n    },\n    {\n      \"column\": \"ADM0_CODE\",\n      \"properties\": {\n        \"dtype\": \"number\",\n        \"std\": null,\n        \"min\": 115,\n        \"max\": 115,\n        \"num_unique_values\": 1,\n        \"samples\": [\n          115\n        ],\n        \"semantic_type\": \"\",\n        \"description\": \"\"\n      }\n    },\n    {\n      \"column\": \"ADM0_NAME\",\n      \"properties\": {\n        \"dtype\": \"string\",\n        \"num_unique_values\": 1,\n        \"samples\": [\n          \"India\"\n        ],\n        \"semantic_type\": \"\",\n        \"description\": \"\"\n      }\n    },\n    {\n      \"column\": \"ADM1_CODE\",\n      \"properties\": {\n        \"dtype\": \"number\",\n        \"std\": null,\n        \"min\": 1498,\n        \"max\": 1498,\n        \"num_unique_values\": 1,\n        \"samples\": [\n          1498\n        ],\n        \"semantic_type\": \"\",\n        \"description\": \"\"\n      }\n    },\n    {\n      \"column\": \"ADM1_NAME\",\n      \"properties\": {\n        \"dtype\": \"string\",\n        \"num_unique_values\": 1,\n        \"samples\": [\n          \"Maharashtra\"\n        ],\n        \"semantic_type\": \"\",\n        \"description\": \"\"\n      }\n    },\n    {\n      \"column\": \"ADM2_CODE\",\n      \"properties\": {\n        \"dtype\": \"number\",\n        \"std\": null,\n        \"min\": 70184,\n        \"max\": 70184,\n        \"num_unique_values\": 1,\n        \"samples\": [\n          70184\n        ],\n        \"semantic_type\": \"\",\n        \"description\": \"\"\n      }\n    },\n    {\n      \"column\": \"ADM2_NAME\",\n      \"properties\": {\n        \"dtype\": \"string\",\n        \"num_unique_values\": 1,\n        \"samples\": [\n          \"Mumbai city\"\n        ],\n        \"semantic_type\": \"\",\n        \"description\": \"\"\n      }\n    },\n    {\n      \"column\": \"DISP_AREA\",\n      \"properties\": {\n        \"dtype\": \"string\",\n        \"num_unique_values\": 1,\n        \"samples\": [\n          \"NO\"\n        ],\n        \"semantic_type\": \"\",\n        \"description\": \"\"\n      }\n    },\n    {\n      \"column\": \"EXP2_YEAR\",\n      \"properties\": {\n        \"dtype\": \"number\",\n        \"std\": null,\n        \"min\": 3000,\n        \"max\": 3000,\n        \"num_unique_values\": 1,\n        \"samples\": [\n          3000\n        ],\n        \"semantic_type\": \"\",\n        \"description\": \"\"\n      }\n    },\n    {\n      \"column\": \"STATUS\",\n      \"properties\": {\n        \"dtype\": \"string\",\n        \"num_unique_values\": 1,\n        \"samples\": [\n          \"Member State\"\n        ],\n        \"semantic_type\": \"\",\n        \"description\": \"\"\n      }\n    },\n    {\n      \"column\": \"STR2_YEAR\",\n      \"properties\": {\n        \"dtype\": \"number\",\n        \"std\": null,\n        \"min\": 1997,\n        \"max\": 1997,\n        \"num_unique_values\": 1,\n        \"samples\": [\n          1997\n        ],\n        \"semantic_type\": \"\",\n        \"description\": \"\"\n      }\n    },\n    {\n      \"column\": \"Shape_Area\",\n      \"properties\": {\n        \"dtype\": \"number\",\n        \"std\": null,\n        \"min\": 0.00660527511533,\n        \"max\": 0.00660527511533,\n        \"num_unique_values\": 1,\n        \"samples\": [\n          0.00660527511533\n        ],\n        \"semantic_type\": \"\",\n        \"description\": \"\"\n      }\n    },\n    {\n      \"column\": \"Shape_Leng\",\n      \"properties\": {\n        \"dtype\": \"number\",\n        \"std\": null,\n        \"min\": 0.794985134497,\n        \"max\": 0.794985134497,\n        \"num_unique_values\": 1,\n        \"samples\": [\n          0.794985134497\n        ],\n        \"semantic_type\": \"\",\n        \"description\": \"\"\n      }\n    }\n  ]\n}"
            }
          },
          "metadata": {},
          "execution_count": 25
        }
      ]
    },
    {
      "cell_type": "code",
      "source": [
        "%%time\n",
        "network = ox.graph.graph_from_polygon(bangalore_gdf.geometry.iloc[0], network_type='all', simplify=True, retain_all=False, truncate_by_edge=False, clean_periphery=None, custom_filter=None)"
      ],
      "metadata": {
        "id": "e_vE6yGpY2p7",
        "outputId": "d9fafc2b-382b-4356-a0e2-4df84ed282e5",
        "colab": {
          "base_uri": "https://localhost:8080/",
          "height": 17
        }
      },
      "execution_count": 31,
      "outputs": [
        {
          "output_type": "display_data",
          "data": {
            "text/plain": [
              "<IPython.core.display.HTML object>"
            ],
            "text/html": [
              "\n",
              "            <style>\n",
              "                .geemap-dark {\n",
              "                    --jp-widgets-color: white;\n",
              "                    --jp-widgets-label-color: white;\n",
              "                    --jp-ui-font-color1: white;\n",
              "                    --jp-layout-color2: #454545;\n",
              "                    background-color: #383838;\n",
              "                }\n",
              "\n",
              "                .geemap-dark .jupyter-button {\n",
              "                    --jp-layout-color3: #383838;\n",
              "                }\n",
              "\n",
              "                .geemap-colab {\n",
              "                    background-color: var(--colab-primary-surface-color, white);\n",
              "                }\n",
              "\n",
              "                .geemap-colab .jupyter-button {\n",
              "                    --jp-layout-color3: var(--colab-primary-surface-color, white);\n",
              "                }\n",
              "            </style>\n",
              "            "
            ]
          },
          "metadata": {}
        }
      ]
    },
    {
      "cell_type": "code",
      "source": [
        "network"
      ],
      "metadata": {
        "id": "Vm2kNAMcc3uE"
      },
      "execution_count": null,
      "outputs": []
    }
  ]
}