{
  "nbformat": 4,
  "nbformat_minor": 0,
  "metadata": {
    "colab": {
      "provenance": [],
      "authorship_tag": "ABX9TyOoPtTAIo0aQ9kAtmkaApGQ",
      "include_colab_link": true
    },
    "kernelspec": {
      "name": "python3",
      "display_name": "Python 3"
    },
    "language_info": {
      "name": "python"
    }
  },
  "cells": [
    {
      "cell_type": "markdown",
      "metadata": {
        "id": "view-in-github",
        "colab_type": "text"
      },
      "source": [
        "<a href=\"https://colab.research.google.com/github/kavyajeetbora/modern_geospatial_stack/blob/master/use_cases/retail_store_analysis_app.ipynb\" target=\"_parent\"><img src=\"https://colab.research.google.com/assets/colab-badge.svg\" alt=\"Open In Colab\"/></a>"
      ]
    },
    {
      "cell_type": "code",
      "execution_count": 63,
      "metadata": {
        "colab": {
          "base_uri": "https://localhost:8080/"
        },
        "id": "4dAj9oaKN_nR",
        "outputId": "09af5a48-9530-4798-ca74-e4f2895fe513"
      },
      "outputs": [
        {
          "output_type": "stream",
          "name": "stdout",
          "text": [
            "\u001b[2K     \u001b[90m━━━━━━━━━━━━━━━━━━━━━━━━━━━━━━━━━━━━━━━━\u001b[0m \u001b[32m9.6/9.6 MB\u001b[0m \u001b[31m18.8 MB/s\u001b[0m eta \u001b[36m0:00:00\u001b[0m\n",
            "\u001b[2K     \u001b[90m━━━━━━━━━━━━━━━━━━━━━━━━━━━━━━━━━━━━━━━━\u001b[0m \u001b[32m12.1/12.1 MB\u001b[0m \u001b[31m34.9 MB/s\u001b[0m eta \u001b[36m0:00:00\u001b[0m\n",
            "\u001b[2K     \u001b[90m━━━━━━━━━━━━━━━━━━━━━━━━━━━━━━━━━━━━━━━━\u001b[0m \u001b[32m164.8/164.8 kB\u001b[0m \u001b[31m7.0 MB/s\u001b[0m eta \u001b[36m0:00:00\u001b[0m\n",
            "\u001b[?25h\u001b[31mERROR: pip's dependency resolver does not currently take into account all the packages that are installed. This behaviour is the source of the following dependency conflicts.\n",
            "google-colab 1.0.0 requires pandas==2.0.3, but you have pandas 1.5.3 which is incompatible.\u001b[0m\u001b[31m\n",
            "\u001b[K\u001b[?25h\u001b[37;40mnpm\u001b[0m \u001b[0m\u001b[30;43mWARN\u001b[0m \u001b[0m\u001b[35msaveError\u001b[0m ENOENT: no such file or directory, open '/content/package.json'\n",
            "\u001b[0m\u001b[37;40mnpm\u001b[0m \u001b[0m\u001b[30;43mWARN\u001b[0m \u001b[0m\u001b[35menoent\u001b[0m ENOENT: no such file or directory, open '/content/package.json'\n",
            "\u001b[0m\u001b[37;40mnpm\u001b[0m \u001b[0m\u001b[30;43mWARN\u001b[0m\u001b[35m\u001b[0m content No description\n",
            "\u001b[0m\u001b[37;40mnpm\u001b[0m \u001b[0m\u001b[30;43mWARN\u001b[0m\u001b[35m\u001b[0m content No repository field.\n",
            "\u001b[0m\u001b[37;40mnpm\u001b[0m \u001b[0m\u001b[30;43mWARN\u001b[0m\u001b[35m\u001b[0m content No README data\n",
            "\u001b[0m\u001b[37;40mnpm\u001b[0m \u001b[0m\u001b[30;43mWARN\u001b[0m\u001b[35m\u001b[0m content No license field.\n",
            "\u001b[0m\n",
            "\u001b[K\u001b[?25h+ localtunnel@2.0.2\n",
            "updated 1 package and audited 36 packages in 0.49s\n",
            "\n",
            "3 packages are looking for funding\n",
            "  run `npm fund` for details\n",
            "\n",
            "found 2 \u001b[93mmoderate\u001b[0m severity vulnerabilities\n",
            "  run `npm audit fix` to fix them, or `npm audit` for details\n",
            "--2024-05-07 06:16:13--  https://github.com/kavyajeetbora/modern_geospatial_stack/raw/master/use_cases/pop_rad_data.parquet\n",
            "Resolving github.com (github.com)... 140.82.113.3\n",
            "Connecting to github.com (github.com)|140.82.113.3|:443... connected.\n",
            "HTTP request sent, awaiting response... 302 Found\n",
            "Location: https://raw.githubusercontent.com/kavyajeetbora/modern_geospatial_stack/master/use_cases/pop_rad_data.parquet [following]\n",
            "--2024-05-07 06:16:13--  https://raw.githubusercontent.com/kavyajeetbora/modern_geospatial_stack/master/use_cases/pop_rad_data.parquet\n",
            "Resolving raw.githubusercontent.com (raw.githubusercontent.com)... 185.199.108.133, 185.199.111.133, 185.199.109.133, ...\n",
            "Connecting to raw.githubusercontent.com (raw.githubusercontent.com)|185.199.108.133|:443... connected.\n",
            "HTTP request sent, awaiting response... 200 OK\n",
            "Length: 50143 (49K) [application/octet-stream]\n",
            "Saving to: ‘pop_rad_data.parquet’\n",
            "\n",
            "pop_rad_data.parque 100%[===================>]  48.97K  --.-KB/s    in 0.01s   \n",
            "\n",
            "2024-05-07 06:16:13 (4.45 MB/s) - ‘pop_rad_data.parquet’ saved [50143/50143]\n",
            "\n",
            "--2024-05-07 06:16:14--  https://github.com/kavyajeetbora/modern_geospatial_stack/raw/master/use_cases/poi_accessibility.parquet\n",
            "Resolving github.com (github.com)... 140.82.114.4\n",
            "Connecting to github.com (github.com)|140.82.114.4|:443... connected.\n",
            "HTTP request sent, awaiting response... 302 Found\n",
            "Location: https://raw.githubusercontent.com/kavyajeetbora/modern_geospatial_stack/master/use_cases/poi_accessibility.parquet [following]\n",
            "--2024-05-07 06:16:14--  https://raw.githubusercontent.com/kavyajeetbora/modern_geospatial_stack/master/use_cases/poi_accessibility.parquet\n",
            "Resolving raw.githubusercontent.com (raw.githubusercontent.com)... 185.199.111.133, 185.199.109.133, 185.199.108.133, ...\n",
            "Connecting to raw.githubusercontent.com (raw.githubusercontent.com)|185.199.111.133|:443... connected.\n",
            "HTTP request sent, awaiting response... 200 OK\n",
            "Length: 5902 (5.8K) [application/octet-stream]\n",
            "Saving to: ‘poi_accessibility.parquet’\n",
            "\n",
            "poi_accessibility.p 100%[===================>]   5.76K  --.-KB/s    in 0s      \n",
            "\n",
            "2024-05-07 06:16:14 (42.5 MB/s) - ‘poi_accessibility.parquet’ saved [5902/5902]\n",
            "\n"
          ]
        }
      ],
      "source": [
        "!pip install -q streamlit\n",
        "!npm install localtunnel\n",
        "import urllib\n",
        "!wget https://github.com/kavyajeetbora/modern_geospatial_stack/raw/master/use_cases/pop_rad_data.parquet -O pop_rad_data.parquet\n",
        "!wget https://github.com/kavyajeetbora/modern_geospatial_stack/raw/master/use_cases/poi_accessibility.parquet -O poi_accessibility.parquet"
      ]
    },
    {
      "cell_type": "code",
      "source": [],
      "metadata": {
        "colab": {
          "base_uri": "https://localhost:8080/"
        },
        "id": "R9Pe2OmvxcGS",
        "outputId": "71cd417d-3c1d-4079-8042-e66f28744bc9"
      },
      "execution_count": 107,
      "outputs": [
        {
          "output_type": "execute_result",
          "data": {
            "text/plain": [
              "array([2.62570988e-01, 5.27274113e-01, 5.97956751e-01, 2.25667525e-01,\n",
              "       4.34804734e-01, 3.87767868e-02, 2.52840757e-01, 4.39245265e-01,\n",
              "       9.24207613e-03, 5.12447230e-01, 4.61433147e-02, 2.25864990e-01,\n",
              "       8.33769551e-01, 7.51882843e-01, 7.49080414e-01, 6.83156089e-01,\n",
              "       6.07692898e-01, 5.79163027e-01, 7.25065411e-01, 4.67725547e-01,\n",
              "       3.20463697e-01, 2.91277149e-01, 2.61305203e-01, 6.14384952e-01,\n",
              "       7.56628333e-01, 2.72074861e-01, 4.16663214e-01, 7.10628232e-01,\n",
              "       2.29576078e-01, 4.44164831e-01, 2.62285439e-01, 6.49617609e-01,\n",
              "       1.86894097e-01, 5.89768417e-01, 5.16377852e-01, 6.67664018e-01,\n",
              "       5.20426820e-01, 5.77020403e-01, 6.12719808e-01, 8.33181518e-01,\n",
              "       5.87572982e-01, 2.25588086e-01, 5.00964623e-02, 4.42721950e-02,\n",
              "       5.60709497e-01, 8.71085434e-01, 1.96329804e-01, 3.45400222e-01,\n",
              "       3.86494771e-01, 6.62109265e-01, 3.11439617e-01, 5.71262976e-01,\n",
              "       3.16926805e-01, 5.98053745e-01, 4.39470969e-01, 4.33947266e-01,\n",
              "       5.53084402e-01, 5.08086810e-01, 8.22194689e-01, 4.43879142e-03,\n",
              "       5.00976979e-01, 4.77808590e-01, 4.15225794e-01, 6.08565512e-01,\n",
              "       4.45615618e-01, 5.99799954e-01, 4.39718195e-01, 3.27987000e-02,\n",
              "       1.89397990e-01, 1.82221292e-04, 1.89477404e-01, 3.86192860e-01,\n",
              "       2.56324215e-01, 2.68079116e-01, 4.27954805e-01, 3.13092550e-01,\n",
              "       4.49247266e-01, 4.92189567e-01, 4.45440610e-01, 5.14537243e-02,\n",
              "       1.83416772e-01, 2.48665870e-02, 0.00000000e+00, 2.30543889e-01,\n",
              "       2.49088974e-01, 4.69986907e-02, 1.35507325e-01, 1.32624545e-01,\n",
              "       3.80169077e-01, 4.20756854e-01, 4.62280923e-01, 4.31066741e-01,\n",
              "       4.58991344e-01, 4.92665426e-01, 6.38722051e-01, 5.45817548e-01,\n",
              "       3.66816843e-01, 6.15883257e-01, 5.21563313e-01, 4.50539754e-01,\n",
              "       2.45302862e-01, 3.72244218e-01, 3.67808405e-01, 4.12813080e-01,\n",
              "       4.35723747e-01, 2.02998392e-01, 4.00558306e-01, 2.78013167e-01,\n",
              "       3.38429817e-01, 7.72881752e-02, 4.27499707e-02, 1.02903590e-01,\n",
              "       7.03344619e-01, 1.72233939e-01, 8.28983329e-03, 1.73749822e-02,\n",
              "       4.96404453e-01, 1.95572837e-01, 5.71385724e-01, 2.02581164e-01,\n",
              "       3.16957258e-01, 6.94148173e-03, 4.45544798e-01, 6.95657080e-01,\n",
              "       8.91581914e-01, 7.00836174e-01, 4.86354861e-01, 6.65142805e-01,\n",
              "       6.12535450e-01, 8.09061641e-01, 5.43696812e-01, 5.61805761e-01,\n",
              "       7.56166334e-01, 7.40161176e-01, 9.24819869e-01, 6.52636906e-01,\n",
              "       1.00000000e+00, 7.71239786e-01, 8.90752614e-01, 8.00327604e-01,\n",
              "       7.09466922e-01, 6.07207922e-01, 4.69341219e-01, 4.93608288e-01,\n",
              "       4.56237344e-01, 7.65005862e-01, 5.26716418e-01, 6.10913308e-01,\n",
              "       5.61379650e-01, 5.57421391e-01, 4.56442437e-01, 3.47412062e-01,\n",
              "       7.97519121e-01, 7.59807617e-01, 2.65980973e-01, 6.72832609e-01,\n",
              "       6.97551186e-01, 6.92868560e-01, 5.00035284e-01, 4.25386691e-01,\n",
              "       1.10072524e-01, 6.05937575e-01, 5.96482337e-01, 5.76025843e-01,\n",
              "       5.71733139e-01, 5.02815315e-01, 9.07670715e-01, 4.24814441e-01,\n",
              "       9.26030461e-01, 9.28697625e-01, 5.58507631e-01, 6.64941863e-01,\n",
              "       9.34813973e-01, 7.40721459e-01, 6.60487586e-01])"
            ]
          },
          "metadata": {},
          "execution_count": 107
        }
      ]
    },
    {
      "cell_type": "code",
      "source": [
        "%%writefile app.py\n",
        "import streamlit as st\n",
        "import pydeck as pdk\n",
        "import pandas as pd\n",
        "from matplotlib import colormaps\n",
        "from sklearn.preprocessing import MinMaxScaler\n",
        "\n",
        "\n",
        "## STREAMLIT CONFIGURATION\n",
        "## --------------------------------------------------------------------------------##\n",
        "st.set_page_config(page_title='Retail Store Location Analysis', page_icon='', layout=\"wide\")\n",
        "\n",
        "pop_rad_data = pd.read_parquet('pop_rad_data.parquet').fillna(0)\n",
        "pop_rad_data['radiance'] = pop_rad_data['radiance'].astype(int)\n",
        "poi_accessibility = pd.read_parquet('poi_accessibility.parquet').fillna(0)\n",
        "\n",
        "## Create the overall suitability score\n",
        "\n",
        "scaler = MinMaxScaler()\n",
        "\n",
        "df = pop_rad_data[['hex8','radiance', 'population']].set_index('hex8').join(poi_accessibility[['hex8','poi_count', 'time_min']].set_index('hex8'))\n",
        "df[['radiance', 'population','poi_count', 'time_min']] = scaler.fit_transform(df[['radiance', 'population','poi_count', 'time_min']])\n",
        "df['suitablity_score'] = df.sum(axis=1)\n",
        "df = df[['suitablity_score']].reset_index()\n",
        "scaler = MinMaxScaler()\n",
        "df['suitablity_score'] = (scaler.fit_transform(df['suitablity_score'].values.reshape(-1,1)).ravel()*100).astype(int)\n",
        "\n",
        "def color_code_value(value, cmap):\n",
        "    color = cmap(value)\n",
        "    scaled_colors = list(map(lambda x: int(x * 255), color[:3]))\n",
        "    scaled_alpha = int(color[3] * 100)\n",
        "\n",
        "    scaled_colors += [scaled_alpha]\n",
        "    return scaled_colors\n",
        "\n",
        "\n",
        "def colormap_dataframe(df, value_col, cmap):\n",
        "\n",
        "    xdf = df.copy()\n",
        "\n",
        "    ## Scale the temperature values between 0-1; using MinMax Scaler\n",
        "    xdf[f\"norm_{value_col}\"] = (xdf[value_col] - xdf[value_col].min()) / (\n",
        "        xdf[value_col].max() - xdf[value_col].min()\n",
        "    )\n",
        "    xdf[\"color\"] = xdf[f\"norm_{value_col}\"].apply(lambda x: color_code_value(x, cmap))\n",
        "    xdf[[\"R\", \"G\", \"B\", \"A\"]] = pd.DataFrame(xdf[\"color\"].to_list())\n",
        "    xdf = xdf.drop([\"color\", f\"norm_{value_col}\"], axis=1)\n",
        "\n",
        "    ## formatting the temperature value upto 1 decimal place\n",
        "    xdf[value_col] = xdf[value_col].round(1)\n",
        "\n",
        "    return xdf\n",
        "\n",
        "\n",
        "def create_h3_hex_layer(df, hex_col):\n",
        "\n",
        "    # Define a layer to display on a map\n",
        "    layer = pdk.Layer(\n",
        "        \"H3HexagonLayer\",\n",
        "        df,\n",
        "        pickable=True,\n",
        "        stroked=True,\n",
        "        filled=True,\n",
        "        extruded=False,\n",
        "        get_hexagon=hex_col,\n",
        "        get_fill_color=\"[R, G, B, A]\",\n",
        "    )\n",
        "\n",
        "    return layer\n",
        "\n",
        "hex_col = 'hex8'\n",
        "\n",
        "## Radiance data\n",
        "radiance = colormap_dataframe(pop_rad_data[['hex8', 'radiance']], value_col='radiance', cmap=colormaps['cividis'])\n",
        "rad_layer = create_h3_hex_layer(radiance, hex_col)\n",
        "\n",
        "# Population data\n",
        "pop_age_sex = colormap_dataframe(pop_rad_data[['hex8', 'population', 'sum_male', 'sum_female']], value_col='population', cmap=colormaps['seismic'])\n",
        "pop_age_sex_layer = create_h3_hex_layer(pop_age_sex, hex_col)\n",
        "\n",
        "# Density of Amenity\n",
        "poi_density = colormap_dataframe(poi_accessibility[['hex8', 'poi_count']], value_col='poi_count', cmap=colormaps['viridis'])\n",
        "poi_density_layer = create_h3_hex_layer(poi_density, hex_col)\n",
        "\n",
        "# Accessibility\n",
        "accessibility = colormap_dataframe(poi_accessibility[['hex8', 'time_min']], value_col='time_min', cmap=colormaps['YlOrRd'])\n",
        "accessibility_layer = create_h3_hex_layer(accessibility, hex_col)\n",
        "\n",
        "## suitability score\n",
        "score = colormap_dataframe(df[['hex8', 'suitablity_score']], value_col='suitablity_score', cmap=colormaps['YlOrRd'])\n",
        "score_layer = create_h3_hex_layer(score, hex_col)\n",
        "\n",
        "def generate_tooltip(text):\n",
        "    tooltip = {\n",
        "            \"html\": text,\n",
        "            \"style\": {\n",
        "                \"backgroundColor\": \"#4CAF50\",   # Green shade for background\n",
        "                \"color\": \"#FFFFFF\",             # White for text color\n",
        "                \"border\": \"2px solid #4CAF50\",  # Matching border color\n",
        "                \"borderRadius\": \"5px\",          # Rounded corners\n",
        "                \"boxShadow\": \"2px 2px 10px rgba(0, 0, 0, 0.2)\"  # Soft shadow effect\n",
        "            }\n",
        "        }\n",
        "\n",
        "    return tooltip\n",
        "\n",
        "options = {\n",
        "    \"Density of Amenities\": (poi_density_layer, generate_tooltip(\"Amenities Count: {poi_count}\")),\n",
        "    \"Public Transport Accessibility\": (accessibility_layer, generate_tooltip(\"Pedestrian Accessibility: {time_min} mins\")),\n",
        "    \"Population Density\": (pop_age_sex_layer, generate_tooltip('''Population: {population} <br>\n",
        "        Male: {sum_male} % <br>\n",
        "        Female: {sum_female} %\n",
        "        ''')),\n",
        "    \"Nighttime Lights\": (rad_layer, generate_tooltip(\"Radiance: {radiance}\")),\n",
        "    \"Suitability Score\": (score_layer, generate_tooltip(\"Suitability Score: {suitablity_score} %\"))\n",
        "\n",
        "}\n",
        "\n",
        "def create_deck(hex_layer, tooltip):\n",
        "    x, y = (77.06463665845695, 28.437398083125167)\n",
        "    view_state = pdk.ViewState(latitude=y, longitude=x, zoom=12, bearing=0, pitch=45)\n",
        "    # Render\n",
        "    r = pdk.Deck(layers=[hex_layer], initial_view_state=view_state, tooltip=tooltip)\n",
        "\n",
        "    return r\n",
        "\n",
        "\n",
        "st.sidebar.markdown(\"## Map Controls\")\n",
        "\n",
        "parameter = st.sidebar.selectbox(\n",
        "    label=\"Parameter\",\n",
        "    options=options.keys(),\n",
        ")\n",
        "\n",
        "hex_layer, tooltip = options[parameter]\n",
        "deck = create_deck(hex_layer, tooltip)\n",
        "\n",
        "st.pydeck_chart(deck, use_container_width=False)"
      ],
      "metadata": {
        "colab": {
          "base_uri": "https://localhost:8080/"
        },
        "id": "Ob7lnzCEONX7",
        "outputId": "2d97e237-1efa-404b-aa74-ebbbcea1b9f1"
      },
      "execution_count": 108,
      "outputs": [
        {
          "output_type": "stream",
          "name": "stdout",
          "text": [
            "Overwriting app.py\n"
          ]
        }
      ]
    },
    {
      "cell_type": "code",
      "source": [
        "password = urllib.request.urlopen('https://ipv4.icanhazip.com').read().decode('utf8').strip(\"\\n\")\n",
        "print(\"Password/Enpoint IP for localtunnel is:\", password)\n",
        "\n",
        "!streamlit run /content/app.py &>/content/logs.txt &\n",
        "!npx localtunnel --port 8501"
      ],
      "metadata": {
        "colab": {
          "base_uri": "https://localhost:8080/"
        },
        "id": "LMPIgWZhOZ6P",
        "outputId": "09265347-3380-4e3c-ed2d-e589058b1d24"
      },
      "execution_count": null,
      "outputs": [
        {
          "output_type": "stream",
          "name": "stdout",
          "text": [
            "Password/Enpoint IP for localtunnel is: 34.75.45.42\n",
            "\u001b[K\u001b[?25hnpx: installed 22 in 2.986s\n",
            "your url is: https://chatty-ends-unite.loca.lt\n"
          ]
        }
      ]
    },
    {
      "cell_type": "markdown",
      "source": [
        "## TODO\n",
        "\n",
        "- ~Add the ranking summary plot~\n",
        "- Add legend for each plot\n",
        "- Try full screen for the plot"
      ],
      "metadata": {
        "id": "yFgY_VLct7uS"
      }
    }
  ]
}