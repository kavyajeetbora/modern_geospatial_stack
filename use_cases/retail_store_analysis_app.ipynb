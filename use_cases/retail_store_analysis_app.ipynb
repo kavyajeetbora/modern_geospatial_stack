{
  "nbformat": 4,
  "nbformat_minor": 0,
  "metadata": {
    "colab": {
      "provenance": [],
      "authorship_tag": "ABX9TyPe2rGxOnKrMKBFvBkw0lCz",
      "include_colab_link": true
    },
    "kernelspec": {
      "name": "python3",
      "display_name": "Python 3"
    },
    "language_info": {
      "name": "python"
    }
  },
  "cells": [
    {
      "cell_type": "markdown",
      "metadata": {
        "id": "view-in-github",
        "colab_type": "text"
      },
      "source": [
        "<a href=\"https://colab.research.google.com/github/kavyajeetbora/modern_geospatial_stack/blob/master/use_cases/retail_store_analysis_app.ipynb\" target=\"_parent\"><img src=\"https://colab.research.google.com/assets/colab-badge.svg\" alt=\"Open In Colab\"/></a>"
      ]
    },
    {
      "cell_type": "code",
      "execution_count": 1,
      "metadata": {
        "colab": {
          "base_uri": "https://localhost:8080/"
        },
        "id": "4dAj9oaKN_nR",
        "outputId": "0ee5cee5-1701-404d-f9a8-8f30810a9904"
      },
      "outputs": [
        {
          "output_type": "stream",
          "name": "stdout",
          "text": [
            "\u001b[K\u001b[?25h\u001b[37;40mnpm\u001b[0m \u001b[0m\u001b[30;43mWARN\u001b[0m \u001b[0m\u001b[35msaveError\u001b[0m ENOENT: no such file or directory, open '/content/package.json'\n",
            "\u001b[0m\u001b[37;40mnpm\u001b[0m \u001b[0m\u001b[30;43mWARN\u001b[0m \u001b[0m\u001b[35menoent\u001b[0m ENOENT: no such file or directory, open '/content/package.json'\n",
            "\u001b[0m\u001b[37;40mnpm\u001b[0m \u001b[0m\u001b[30;43mWARN\u001b[0m\u001b[35m\u001b[0m content No description\n",
            "\u001b[0m\u001b[37;40mnpm\u001b[0m \u001b[0m\u001b[30;43mWARN\u001b[0m\u001b[35m\u001b[0m content No repository field.\n",
            "\u001b[0m\u001b[37;40mnpm\u001b[0m \u001b[0m\u001b[30;43mWARN\u001b[0m\u001b[35m\u001b[0m content No README data\n",
            "\u001b[0m\u001b[37;40mnpm\u001b[0m \u001b[0m\u001b[30;43mWARN\u001b[0m\u001b[35m\u001b[0m content No license field.\n",
            "\u001b[0m\n",
            "+ localtunnel@2.0.2\n",
            "updated 1 package and audited 36 packages in 1.044s\n",
            "\n",
            "3 packages are looking for funding\n",
            "  run `npm fund` for details\n",
            "\n",
            "found 2 \u001b[93mmoderate\u001b[0m severity vulnerabilities\n",
            "  run `npm audit fix` to fix them, or `npm audit` for details\n",
            "\u001b[K\u001b[?25h--2024-05-07 05:06:34--  https://github.com/kavyajeetbora/modern_geospatial_stack/raw/master/use_cases/pop_rad_data.parquet\n",
            "Resolving github.com (github.com)... 140.82.114.4\n",
            "Connecting to github.com (github.com)|140.82.114.4|:443... connected.\n",
            "HTTP request sent, awaiting response... 302 Found\n",
            "Location: https://raw.githubusercontent.com/kavyajeetbora/modern_geospatial_stack/master/use_cases/pop_rad_data.parquet [following]\n",
            "--2024-05-07 05:06:34--  https://raw.githubusercontent.com/kavyajeetbora/modern_geospatial_stack/master/use_cases/pop_rad_data.parquet\n",
            "Resolving raw.githubusercontent.com (raw.githubusercontent.com)... 185.199.109.133, 185.199.108.133, 185.199.110.133, ...\n",
            "Connecting to raw.githubusercontent.com (raw.githubusercontent.com)|185.199.109.133|:443... connected.\n",
            "HTTP request sent, awaiting response... 200 OK\n",
            "Length: 50143 (49K) [application/octet-stream]\n",
            "Saving to: ‘pop_rad_data.parquet’\n",
            "\n",
            "pop_rad_data.parque 100%[===================>]  48.97K  --.-KB/s    in 0.01s   \n",
            "\n",
            "2024-05-07 05:06:34 (4.80 MB/s) - ‘pop_rad_data.parquet’ saved [50143/50143]\n",
            "\n",
            "--2024-05-07 05:06:34--  https://github.com/kavyajeetbora/modern_geospatial_stack/raw/master/use_cases/poi_accessibility.parquet\n",
            "Resolving github.com (github.com)... 140.82.112.3\n",
            "Connecting to github.com (github.com)|140.82.112.3|:443... connected.\n",
            "HTTP request sent, awaiting response... 302 Found\n",
            "Location: https://raw.githubusercontent.com/kavyajeetbora/modern_geospatial_stack/master/use_cases/poi_accessibility.parquet [following]\n",
            "--2024-05-07 05:06:34--  https://raw.githubusercontent.com/kavyajeetbora/modern_geospatial_stack/master/use_cases/poi_accessibility.parquet\n",
            "Resolving raw.githubusercontent.com (raw.githubusercontent.com)... 185.199.108.133, 185.199.109.133, 185.199.110.133, ...\n",
            "Connecting to raw.githubusercontent.com (raw.githubusercontent.com)|185.199.108.133|:443... connected.\n",
            "HTTP request sent, awaiting response... 200 OK\n",
            "Length: 5238 (5.1K) [application/octet-stream]\n",
            "Saving to: ‘poi_accessibility.parquet’\n",
            "\n",
            "poi_accessibility.p 100%[===================>]   5.12K  --.-KB/s    in 0s      \n",
            "\n",
            "2024-05-07 05:06:34 (38.3 MB/s) - ‘poi_accessibility.parquet’ saved [5238/5238]\n",
            "\n"
          ]
        }
      ],
      "source": [
        "!pip install -q streamlit\n",
        "!npm install localtunnel\n",
        "\n",
        "!wget https://github.com/kavyajeetbora/modern_geospatial_stack/raw/master/use_cases/pop_rad_data.parquet -O pop_rad_data.parquet\n",
        "!wget https://github.com/kavyajeetbora/modern_geospatial_stack/raw/master/use_cases/poi_accessibility.parquet -O poi_accessibility.parquet"
      ]
    },
    {
      "cell_type": "code",
      "source": [
        "import urllib\n",
        "print(\"Password/Enpoint IP for localtunnel is:\",urllib.request.urlopen('https://ipv4.icanhazip.com').read().decode('utf8').strip(\"\\n\"))"
      ],
      "metadata": {
        "colab": {
          "base_uri": "https://localhost:8080/"
        },
        "id": "5QHMrdG1cBgj",
        "outputId": "a72f4e2e-3e4c-4aa6-facf-5a3bc766608f"
      },
      "execution_count": 27,
      "outputs": [
        {
          "output_type": "stream",
          "name": "stdout",
          "text": [
            "Password/Enpoint IP for localtunnel is: 34.75.45.42\n"
          ]
        }
      ]
    },
    {
      "cell_type": "code",
      "source": [
        "%%writefile app.py\n",
        "import streamlit as st\n",
        "import pydeck as pdk\n",
        "import pandas as pd\n",
        "from matplotlib import colormaps\n",
        "\n",
        "## STREAMLIT CONFIGURATION\n",
        "## --------------------------------------------------------------------------------##\n",
        "st.set_page_config(page_title='Retail Store Location Analysis', page_icon='', layout=\"wide\")\n",
        "\n",
        "pop_rad_data = pd.read_parquet('pop_rad_data.parquet')\n",
        "poi_accessibility = pd.read_parquet('poi_accessibility.parquet')\n",
        "\n",
        "def color_code_value(value, cmap):\n",
        "    color = cmap(value)\n",
        "    scaled_colors = list(map(lambda x: int(x * 255), color[:3]))\n",
        "    scaled_alpha = int(color[3] * 100)\n",
        "\n",
        "    scaled_colors += [scaled_alpha]\n",
        "    return scaled_colors\n",
        "\n",
        "\n",
        "def colormap_dataframe(df, value_col, cmap):\n",
        "\n",
        "    xdf = df.copy()\n",
        "\n",
        "    ## Scale the temperature values between 0-1; using MinMax Scaler\n",
        "    xdf[f\"norm_{value_col}\"] = (xdf[value_col] - xdf[value_col].min()) / (\n",
        "        xdf[value_col].max() - xdf[value_col].min()\n",
        "    )\n",
        "    xdf[\"color\"] = xdf[f\"norm_{value_col}\"].apply(lambda x: color_code_value(x, cmap))\n",
        "    xdf[[\"R\", \"G\", \"B\", \"A\"]] = pd.DataFrame(xdf[\"color\"].to_list())\n",
        "    xdf = xdf.drop([\"color\", f\"norm_{value_col}\"], axis=1)\n",
        "\n",
        "    ## formatting the temperature value upto 1 decimal place\n",
        "    xdf[value_col] = xdf[value_col].round(1)\n",
        "\n",
        "    return xdf\n",
        "\n",
        "\n",
        "def create_h3_hex_layer(df, hex_col):\n",
        "\n",
        "    # Define a layer to display on a map\n",
        "    layer = pdk.Layer(\n",
        "        \"H3HexagonLayer\",\n",
        "        df,\n",
        "        pickable=True,\n",
        "        stroked=True,\n",
        "        filled=True,\n",
        "        extruded=False,\n",
        "        get_hexagon=hex_col,\n",
        "        get_fill_color=\"[R, G, B, A]\",\n",
        "    )\n",
        "\n",
        "    return layer\n",
        "\n",
        "hex_col = 'hex8'\n",
        "\n",
        "## Radiance data\n",
        "radiance = colormap_dataframe(pop_rad_data[['hex8', 'radiance']], value_col='radiance', cmap=colormaps['cividis'])\n",
        "rad_layer = create_h3_hex_layer(radiance, hex_col)\n",
        "\n",
        "# Population data\n",
        "pop_age_sex = colormap_dataframe(pop_rad_data[['hex8', 'population', 'sum_male', 'sum_female']], value_col='population', cmap=colormaps['seismic'])\n",
        "pop_age_sex_layer = create_h3_hex_layer(pop_age_sex, hex_col)\n",
        "\n",
        "# Density of Amenity\n",
        "poi_density = colormap_dataframe(poi_accessibility[['hex8', 'poi_count']], value_col='poi_count', cmap=colormaps['viridis'])\n",
        "poi_density_layer = create_h3_hex_layer(poi_density, hex_col)\n",
        "\n",
        "# Accessibility\n",
        "accessibility = colormap_dataframe(poi_accessibility[['hex8', 'time_min']], value_col='time_min', cmap=colormaps['YlOrRd'])\n",
        "accessibility_layer = create_h3_hex_layer(accessibility, hex_col)\n",
        "\n",
        "def generate_tooltip(text):\n",
        "    tooltip = {\n",
        "            \"html\": text,\n",
        "            \"style\": {\n",
        "                \"backgroundColor\": \"#4CAF50\",   # Green shade for background\n",
        "                \"color\": \"#FFFFFF\",             # White for text color\n",
        "                \"border\": \"2px solid #4CAF50\",  # Matching border color\n",
        "                \"borderRadius\": \"5px\",          # Rounded corners\n",
        "                \"boxShadow\": \"2px 2px 10px rgba(0, 0, 0, 0.2)\"  # Soft shadow effect\n",
        "            }\n",
        "        }\n",
        "\n",
        "    return tooltip\n",
        "\n",
        "options = {\n",
        "   \"Density of Amenities\": (poi_density_layer, generate_tooltip(\"Amenities Count: {poi_count}\")),\n",
        "    \"Public Transport Accessibility\": (accessibility_layer, generate_tooltip(\"Pedestrian Accessibility: {time_min} mins\")),\n",
        "    \"Population Density\": (pop_age_sex_layer, generate_tooltip('''Population: {population} <br>\n",
        "        Male: {sum_male} % <br>\n",
        "        Female: {sum_female} %\n",
        "        ''')),\n",
        "    \"Nighttime Lights\": (rad_layer, generate_tooltip(\"Radiance: {radiance}\"))\n",
        "}\n",
        "\n",
        "def create_deck(hex_layer, tooltip):\n",
        "    x, y = (77.06463665845695, 28.437398083125167)\n",
        "    view_state = pdk.ViewState(latitude=y, longitude=x, zoom=12, bearing=0, pitch=15)\n",
        "    # Render\n",
        "    r = pdk.Deck(layers=[hex_layer], initial_view_state=view_state, tooltip=tooltip)\n",
        "\n",
        "    return r\n",
        "\n",
        "\n",
        "st.sidebar.markdown(\"## Map Controls\")\n",
        "\n",
        "parameter = st.sidebar.selectbox(\n",
        "    label=\"Parameter\",\n",
        "    options=options.keys(),\n",
        ")\n",
        "\n",
        "hex_layer, tooltip = options[parameter]\n",
        "deck = create_deck(hex_layer, tooltip)\n",
        "\n",
        "st.pydeck_chart(deck, use_container_width=True)"
      ],
      "metadata": {
        "colab": {
          "base_uri": "https://localhost:8080/"
        },
        "id": "Ob7lnzCEONX7",
        "outputId": "a14eb07f-7d35-45cb-c413-805f2fbd07de"
      },
      "execution_count": 37,
      "outputs": [
        {
          "output_type": "stream",
          "name": "stdout",
          "text": [
            "Overwriting app.py\n"
          ]
        }
      ]
    },
    {
      "cell_type": "code",
      "source": [
        "!streamlit run /content/app.py &>/content/logs.txt &\n",
        "!npx localtunnel --port 8501"
      ],
      "metadata": {
        "colab": {
          "base_uri": "https://localhost:8080/"
        },
        "id": "LMPIgWZhOZ6P",
        "outputId": "1d81849a-177c-4f18-b20f-b787f9989170"
      },
      "execution_count": null,
      "outputs": [
        {
          "output_type": "stream",
          "name": "stdout",
          "text": [
            "\u001b[K\u001b[?25hnpx: installed 22 in 3.106s\n",
            "your url is: https://sad-otters-slide.loca.lt\n"
          ]
        }
      ]
    }
  ]
}