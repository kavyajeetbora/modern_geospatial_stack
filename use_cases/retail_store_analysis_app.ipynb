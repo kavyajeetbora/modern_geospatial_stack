{
  "nbformat": 4,
  "nbformat_minor": 0,
  "metadata": {
    "colab": {
      "provenance": [],
      "authorship_tag": "ABX9TyOBadAfNLm6DUupZqMRFr2u",
      "include_colab_link": true
    },
    "kernelspec": {
      "name": "python3",
      "display_name": "Python 3"
    },
    "language_info": {
      "name": "python"
    }
  },
  "cells": [
    {
      "cell_type": "markdown",
      "metadata": {
        "id": "view-in-github",
        "colab_type": "text"
      },
      "source": [
        "<a href=\"https://colab.research.google.com/github/kavyajeetbora/modern_geospatial_stack/blob/master/use_cases/retail_store_analysis_app.ipynb\" target=\"_parent\"><img src=\"https://colab.research.google.com/assets/colab-badge.svg\" alt=\"Open In Colab\"/></a>"
      ]
    },
    {
      "cell_type": "code",
      "execution_count": 8,
      "metadata": {
        "colab": {
          "base_uri": "https://localhost:8080/"
        },
        "id": "4dAj9oaKN_nR",
        "outputId": "61b76e60-7d7f-4cfd-f739-1235abc0362b"
      },
      "outputs": [
        {
          "output_type": "stream",
          "name": "stdout",
          "text": [
            "\u001b[K\u001b[?25h\u001b[37;40mnpm\u001b[0m \u001b[0m\u001b[30;43mWARN\u001b[0m \u001b[0m\u001b[35msaveError\u001b[0m ENOENT: no such file or directory, open '/content/package.json'\n",
            "\u001b[0m\u001b[37;40mnpm\u001b[0m \u001b[0m\u001b[30;43mWARN\u001b[0m \u001b[0m\u001b[35menoent\u001b[0m ENOENT: no such file or directory, open '/content/package.json'\n",
            "\u001b[0m\u001b[37;40mnpm\u001b[0m \u001b[0m\u001b[30;43mWARN\u001b[0m\u001b[35m\u001b[0m content No description\n",
            "\u001b[0m\u001b[37;40mnpm\u001b[0m \u001b[0m\u001b[30;43mWARN\u001b[0m\u001b[35m\u001b[0m content No repository field.\n",
            "\u001b[0m\u001b[37;40mnpm\u001b[0m \u001b[0m\u001b[30;43mWARN\u001b[0m\u001b[35m\u001b[0m content No README data\n",
            "\u001b[0m\u001b[37;40mnpm\u001b[0m \u001b[0m\u001b[30;43mWARN\u001b[0m\u001b[35m\u001b[0m content No license field.\n",
            "\u001b[0m\n",
            "\u001b[K\u001b[?25h+ localtunnel@2.0.2\n",
            "updated 1 package and audited 36 packages in 0.54s\n",
            "\n",
            "3 packages are looking for funding\n",
            "  run `npm fund` for details\n",
            "\n",
            "found 2 \u001b[93mmoderate\u001b[0m severity vulnerabilities\n",
            "  run `npm audit fix` to fix them, or `npm audit` for details\n",
            "--2024-05-07 06:51:14--  https://github.com/kavyajeetbora/modern_geospatial_stack/raw/master/use_cases/pop_rad_data.parquet\n",
            "Resolving github.com (github.com)... 140.82.113.3\n",
            "Connecting to github.com (github.com)|140.82.113.3|:443... connected.\n",
            "HTTP request sent, awaiting response... 302 Found\n",
            "Location: https://raw.githubusercontent.com/kavyajeetbora/modern_geospatial_stack/master/use_cases/pop_rad_data.parquet [following]\n",
            "--2024-05-07 06:51:14--  https://raw.githubusercontent.com/kavyajeetbora/modern_geospatial_stack/master/use_cases/pop_rad_data.parquet\n",
            "Resolving raw.githubusercontent.com (raw.githubusercontent.com)... 185.199.110.133, 185.199.111.133, 185.199.109.133, ...\n",
            "Connecting to raw.githubusercontent.com (raw.githubusercontent.com)|185.199.110.133|:443... connected.\n",
            "HTTP request sent, awaiting response... 200 OK\n",
            "Length: 50143 (49K) [application/octet-stream]\n",
            "Saving to: ‘pop_rad_data.parquet’\n",
            "\n",
            "pop_rad_data.parque 100%[===================>]  48.97K  --.-KB/s    in 0.01s   \n",
            "\n",
            "2024-05-07 06:51:14 (4.45 MB/s) - ‘pop_rad_data.parquet’ saved [50143/50143]\n",
            "\n",
            "--2024-05-07 06:51:14--  https://github.com/kavyajeetbora/modern_geospatial_stack/raw/master/use_cases/poi_accessibility.parquet\n",
            "Resolving github.com (github.com)... 140.82.113.3\n",
            "Connecting to github.com (github.com)|140.82.113.3|:443... connected.\n",
            "HTTP request sent, awaiting response... 302 Found\n",
            "Location: https://raw.githubusercontent.com/kavyajeetbora/modern_geospatial_stack/master/use_cases/poi_accessibility.parquet [following]\n",
            "--2024-05-07 06:51:14--  https://raw.githubusercontent.com/kavyajeetbora/modern_geospatial_stack/master/use_cases/poi_accessibility.parquet\n",
            "Resolving raw.githubusercontent.com (raw.githubusercontent.com)... 185.199.108.133, 185.199.109.133, 185.199.110.133, ...\n",
            "Connecting to raw.githubusercontent.com (raw.githubusercontent.com)|185.199.108.133|:443... connected.\n",
            "HTTP request sent, awaiting response... 200 OK\n",
            "Length: 5902 (5.8K) [application/octet-stream]\n",
            "Saving to: ‘poi_accessibility.parquet’\n",
            "\n",
            "poi_accessibility.p 100%[===================>]   5.76K  --.-KB/s    in 0s      \n",
            "\n",
            "2024-05-07 06:51:15 (49.5 MB/s) - ‘poi_accessibility.parquet’ saved [5902/5902]\n",
            "\n"
          ]
        }
      ],
      "source": [
        "!pip install -q streamlit\n",
        "!npm install localtunnel\n",
        "import urllib\n",
        "!wget https://github.com/kavyajeetbora/modern_geospatial_stack/raw/master/use_cases/pop_rad_data.parquet -O pop_rad_data.parquet\n",
        "!wget https://github.com/kavyajeetbora/modern_geospatial_stack/raw/master/use_cases/poi_accessibility.parquet -O poi_accessibility.parquet"
      ]
    },
    {
      "cell_type": "code",
      "source": [
        "!wget https://raw.githubusercontent.com/kavyajeetbora/modern_geospatial_stack/master/use_cases/style.css -O style.css"
      ],
      "metadata": {
        "id": "PBH0Ud-h6t-C",
        "outputId": "2f72287c-600c-4be1-b809-ecbf3dde8d1c",
        "colab": {
          "base_uri": "https://localhost:8080/"
        }
      },
      "execution_count": 40,
      "outputs": [
        {
          "output_type": "stream",
          "name": "stdout",
          "text": [
            "--2024-05-07 07:49:56--  https://raw.githubusercontent.com/kavyajeetbora/modern_geospatial_stack/master/use_cases/style.css\n",
            "Resolving raw.githubusercontent.com (raw.githubusercontent.com)... 185.199.108.133, 185.199.109.133, 185.199.110.133, ...\n",
            "Connecting to raw.githubusercontent.com (raw.githubusercontent.com)|185.199.108.133|:443... connected.\n",
            "HTTP request sent, awaiting response... 200 OK\n",
            "Length: 252 [text/plain]\n",
            "Saving to: ‘style.css’\n",
            "\n",
            "\rstyle.css             0%[                    ]       0  --.-KB/s               \rstyle.css           100%[===================>]     252  --.-KB/s    in 0s      \n",
            "\n",
            "2024-05-07 07:49:57 (4.67 MB/s) - ‘style.css’ saved [252/252]\n",
            "\n"
          ]
        }
      ]
    },
    {
      "cell_type": "code",
      "source": [
        "%%writefile app.py\n",
        "import streamlit as st\n",
        "import pydeck as pdk\n",
        "import pandas as pd\n",
        "from matplotlib import colormaps\n",
        "from sklearn.preprocessing import MinMaxScaler\n",
        "import matplotlib as mpl\n",
        "import matplotlib.pyplot as plt\n",
        "\n",
        "COLOR = 'blue'\n",
        "mpl.rcParams['text.color'] = COLOR\n",
        "mpl.rcParams['axes.labelcolor'] = COLOR\n",
        "mpl.rcParams['xtick.color'] = COLOR\n",
        "mpl.rcParams['ytick.color'] = COLOR\n",
        "\n",
        "def return_legend(series, cmap, units):\n",
        "    fig, ax = plt.subplots(figsize=(5, 1), layout='constrained')\n",
        "    norm = mpl.colors.Normalize(vmin=series.min(), vmax=series.max())\n",
        "    fig.colorbar(mpl.cm.ScalarMappable(norm=norm, cmap=cmap),\n",
        "                cax=ax, orientation='horizontal', label=units)\n",
        "\n",
        "    return fig\n",
        "\n",
        "## STREAMLIT CONFIGURATION\n",
        "## --------------------------------------------------------------------------------##\n",
        "st.set_page_config(page_title='Retail Store Location Analysis', page_icon='', layout=\"wide\")\n",
        "\n",
        "with open(\"style.css\") as f:\n",
        "    st.markdown(f\"<style>{f.read()}</style>\", unsafe_allow_html=True)\n",
        "\n",
        "pop_rad_data = pd.read_parquet('pop_rad_data.parquet').fillna(0)\n",
        "pop_rad_data['radiance'] = pop_rad_data['radiance'].astype(int)\n",
        "poi_accessibility = pd.read_parquet('poi_accessibility.parquet').fillna(0)\n",
        "\n",
        "## Create the overall suitability score\n",
        "scaler = MinMaxScaler()\n",
        "df = pop_rad_data[['hex8','radiance', 'population']].set_index('hex8').join(poi_accessibility[['hex8','poi_count', 'time_min']].set_index('hex8'))\n",
        "df[['radiance', 'population','poi_count', 'time_min']] = scaler.fit_transform(df[['radiance', 'population','poi_count', 'time_min']])\n",
        "df['time_min'] = 1-df['time_min']\n",
        "df['suitablity_score'] = df.sum(axis=1)\n",
        "df = df[['suitablity_score']].reset_index()\n",
        "scaler = MinMaxScaler()\n",
        "df['suitablity_score'] = (scaler.fit_transform(df['suitablity_score'].values.reshape(-1,1)).ravel()*100).astype(int)\n",
        "\n",
        "def color_code_value(value, cmap):\n",
        "    color = cmap(value)\n",
        "    scaled_colors = list(map(lambda x: int(x * 255), color[:3]))\n",
        "    scaled_alpha = int(color[3] * 100)\n",
        "\n",
        "    scaled_colors += [scaled_alpha]\n",
        "    return scaled_colors\n",
        "\n",
        "\n",
        "def colormap_dataframe(df, value_col, cmap):\n",
        "\n",
        "    xdf = df.copy()\n",
        "\n",
        "    ## Scale the temperature values between 0-1; using MinMax Scaler\n",
        "    xdf[f\"norm_{value_col}\"] = (xdf[value_col] - xdf[value_col].min()) / (\n",
        "        xdf[value_col].max() - xdf[value_col].min()\n",
        "    )\n",
        "    xdf[\"color\"] = xdf[f\"norm_{value_col}\"].apply(lambda x: color_code_value(x, cmap))\n",
        "    xdf[[\"R\", \"G\", \"B\", \"A\"]] = pd.DataFrame(xdf[\"color\"].to_list())\n",
        "    xdf = xdf.drop([\"color\", f\"norm_{value_col}\"], axis=1)\n",
        "\n",
        "    ## formatting the temperature value upto 1 decimal place\n",
        "    xdf[value_col] = xdf[value_col].round(1)\n",
        "\n",
        "    return xdf\n",
        "\n",
        "\n",
        "def create_h3_hex_layer(df, hex_col):\n",
        "\n",
        "    # Define a layer to display on a map\n",
        "    layer = pdk.Layer(\n",
        "        \"H3HexagonLayer\",\n",
        "        df,\n",
        "        pickable=True,\n",
        "        stroked=True,\n",
        "        filled=True,\n",
        "        extruded=False,\n",
        "        get_hexagon=hex_col,\n",
        "        get_fill_color=\"[R, G, B, A]\",\n",
        "    )\n",
        "\n",
        "    return layer\n",
        "\n",
        "hex_col = 'hex8'\n",
        "\n",
        "## Radiance data\n",
        "cmap=colormaps['cividis']\n",
        "radiance = colormap_dataframe(pop_rad_data[['hex8', 'radiance']], value_col='radiance', cmap=cmap)\n",
        "rad_layer = create_h3_hex_layer(radiance, hex_col)\n",
        "rad_legend = return_legend(radiance['radiance'],cmap, units=\"Radiance\")\n",
        "\n",
        "# Population data\n",
        "cmap=colormaps['seismic']\n",
        "pop_age_sex = colormap_dataframe(pop_rad_data[['hex8', 'population', 'sum_male', 'sum_female']], value_col='population', cmap=cmap)\n",
        "pop_age_sex_layer = create_h3_hex_layer(pop_age_sex, hex_col)\n",
        "pop_age_sex_legend = return_legend(pop_age_sex['population'],cmap, units=\"Population Count\")\n",
        "\n",
        "# Density of Amenity\n",
        "cmap = colormaps['viridis']\n",
        "poi_density = colormap_dataframe(poi_accessibility[['hex8', 'poi_count']], value_col='poi_count', cmap=cmap)\n",
        "poi_density_layer = create_h3_hex_layer(poi_density, hex_col)\n",
        "poi_density_legend = return_legend(poi_density['poi_count'],cmap, units='Density of Amenity')\n",
        "\n",
        "# Accessibility\n",
        "cmap = colormaps['YlOrRd']\n",
        "accessibility = colormap_dataframe(poi_accessibility[['hex8', 'time_min']], value_col='time_min', cmap=cmap)\n",
        "accessibility_layer = create_h3_hex_layer(accessibility, hex_col)\n",
        "accessibility_legend = return_legend(accessibility['time_min'],cmap, units='Public Transport Accessibility')\n",
        "\n",
        "## suitability score\n",
        "score = colormap_dataframe(df[['hex8', 'suitablity_score']], value_col='suitablity_score', cmap=colormaps['YlOrRd'])\n",
        "score_layer = create_h3_hex_layer(score, hex_col)\n",
        "score_legend = return_legend(score['suitablity_score'],cmap, units='Retail Location Suitability Score')\n",
        "\n",
        "def generate_tooltip(text):\n",
        "    tooltip = {\n",
        "            \"html\": text,\n",
        "            \"style\": {\n",
        "                \"backgroundColor\": \"#4CAF50\",   # Green shade for background\n",
        "                \"color\": \"#FFFFFF\",             # White for text color\n",
        "                \"border\": \"2px solid #4CAF50\",  # Matching border color\n",
        "                \"borderRadius\": \"5px\",          # Rounded corners\n",
        "                \"boxShadow\": \"2px 2px 10px rgba(0, 0, 0, 0.2)\"  # Soft shadow effect\n",
        "            }\n",
        "        }\n",
        "\n",
        "    return tooltip\n",
        "\n",
        "options = {\n",
        "    \"Density of Amenities\": (poi_density_layer, generate_tooltip(\"Amenities Count: {poi_count}\"), poi_density_legend),\n",
        "    \"Public Transport Accessibility\": (accessibility_layer, generate_tooltip(\"Pedestrian Accessibility: {time_min} mins\"), accessibility_legend),\n",
        "    \"Population Density\": (pop_age_sex_layer, generate_tooltip('''Population: {population} <br>\n",
        "        Male: {sum_male} % <br>\n",
        "        Female: {sum_female} %\n",
        "        '''), pop_age_sex_legend),\n",
        "    \"Nighttime Lights\": (rad_layer, generate_tooltip(\"Radiance: {radiance}\"),rad_legend),\n",
        "    \"Suitability Score\": (score_layer, generate_tooltip(\"Suitability Score: {suitablity_score} %\"),score_legend)\n",
        "\n",
        "}\n",
        "\n",
        "def create_deck(hex_layer, tooltip):\n",
        "    x, y = (77.06463665845695, 28.437398083125167)\n",
        "    view_state = pdk.ViewState(latitude=y, longitude=x, zoom=12, bearing=0, pitch=45)\n",
        "    # Render\n",
        "    r = pdk.Deck(layers=[hex_layer], initial_view_state=view_state, tooltip=tooltip)\n",
        "\n",
        "    return r\n",
        "\n",
        "\n",
        "st.sidebar.markdown(\"## Map Controls\")\n",
        "\n",
        "parameter = st.sidebar.selectbox(\n",
        "    label=\"Parameter\",\n",
        "    options=options.keys(),\n",
        ")\n",
        "\n",
        "hex_layer, tooltip, legend = options[parameter]\n",
        "\n",
        "st.header(parameter)\n",
        "deck = create_deck(hex_layer, tooltip)\n",
        "st.pydeck_chart(deck, use_container_width=True)\n",
        "st.pyplot(legend,use_container_width=False)"
      ],
      "metadata": {
        "colab": {
          "base_uri": "https://localhost:8080/"
        },
        "id": "Ob7lnzCEONX7",
        "outputId": "381c8ac4-70e5-4a5b-f534-e9fb3bead3a4"
      },
      "execution_count": 41,
      "outputs": [
        {
          "output_type": "stream",
          "name": "stdout",
          "text": [
            "Overwriting app.py\n"
          ]
        }
      ]
    },
    {
      "cell_type": "code",
      "source": [
        "password = urllib.request.urlopen('https://ipv4.icanhazip.com').read().decode('utf8').strip(\"\\n\")\n",
        "print(\"Password/Enpoint IP for localtunnel is:\", password)\n",
        "\n",
        "!streamlit run /content/app.py &>/content/logs.txt &\n",
        "!npx localtunnel --port 8501"
      ],
      "metadata": {
        "colab": {
          "base_uri": "https://localhost:8080/"
        },
        "id": "LMPIgWZhOZ6P",
        "outputId": "98f9fa0e-73c9-48ec-b857-595530ef9677"
      },
      "execution_count": null,
      "outputs": [
        {
          "output_type": "stream",
          "name": "stdout",
          "text": [
            "Password/Enpoint IP for localtunnel is: 35.196.84.202\n",
            "\u001b[K\u001b[?25hnpx: installed 22 in 2.857s\n",
            "your url is: https://hip-mangos-poke.loca.lt\n"
          ]
        }
      ]
    },
    {
      "cell_type": "markdown",
      "source": [
        "## TODO\n",
        "\n",
        "- ~Add the ranking summary plot~\n",
        "- Add legend for each plot\n",
        "- Try full screen for the plot"
      ],
      "metadata": {
        "id": "yFgY_VLct7uS"
      }
    }
  ]
}